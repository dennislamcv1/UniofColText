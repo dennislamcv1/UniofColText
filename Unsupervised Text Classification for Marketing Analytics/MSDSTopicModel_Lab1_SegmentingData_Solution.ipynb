{
 "cells": [
  {
   "cell_type": "markdown",
   "metadata": {
    "id": "H3OCH9LEDszv"
   },
   "source": [
    "# MSDS Marketing Text Analytics, Unit 2 Lab 1: Segmenting by sales rank"
   ]
  },
  {
   "cell_type": "markdown",
   "metadata": {
    "id": "okuOCkBN4GSb"
   },
   "source": [
    "## ⚡️ Make a Copy\n",
    "\n",
    "Save a copy of this notebook in your Google Drive before continuing. Be sure to edit your own copy, not the original notebook."
   ]
  },
  {
   "cell_type": "markdown",
   "metadata": {
    "id": "I22OoYwL5ktD"
   },
   "source": [
    "## 🔬 How to complete this lab"
   ]
  },
  {
   "cell_type": "markdown",
   "metadata": {
    "id": "h7Fo_T1J7Zk7"
   },
   "source": [
    "### Follow along\n",
    "\n",
    "This is a hands-on lab. Step through the notebook, read and understand the content, and execute the code cells. Be sure you understand each step along the way -- don't just execute the cells and move on without understanding what happened.\n"
   ]
  },
  {
   "cell_type": "markdown",
   "metadata": {
    "id": "aLKGLK8S7l8u"
   },
   "source": [
    "### Do the work\n",
    "\n",
    "There are some DIY portions in this notebook. You will need to complete these portions in order to complete the lab. Provided you have followed along with understanding, these should be straightforward tasks to complete.\n"
   ]
  },
  {
   "cell_type": "markdown",
   "metadata": {
    "id": "q5Lg8e_v58HZ"
   },
   "source": [
    "### Answer the questions.\n",
    "\n",
    "There are questions along the way that you are meant to answer. These will verify that you have followed along and will check your understanding. **Your answers to these questions should be transferred to the Quiz in Coursera** in order to receive credit for the lab."
   ]
  },
  {
   "cell_type": "markdown",
   "metadata": {
    "id": "GqUOWcgq8np3"
   },
   "source": [
    "## Introduction"
   ]
  },
  {
   "cell_type": "markdown",
   "metadata": {
    "id": "E7ocUjb7Dt7z"
   },
   "source": [
    "Not all Amazon products in a product category are the same. Some products are purchased a lot, others are not. The purpose here is to leverage the metadata in the Amazon product entries and pull out products that sell a lot.\n",
    "\n",
    "To do this you will iterate through both the product and review data. First you will inspect the product metadata to find top product ASINS, then you'll go through the review data to pull the matching reviews for those ASINS."
   ]
  },
  {
   "cell_type": "markdown",
   "metadata": {
    "id": "Fn7OToPBJJm1"
   },
   "source": [
    "## **⚡️ Preparation:** Get the data files\n",
    "\n",
    "Before starting you will need to copy the following data files up to your Google Drive account. These files are available in the course resources in Coursera:\n",
    "\n",
    "[Amazon reviews and product metadata files](https://www.coursera.org/learn/unsupervised-text-classification-for-marketing-analytics/resources/kNX7Q)"
   ]
  },
  {
   "cell_type": "markdown",
   "metadata": {
    "id": "n4EvHwtAJdPc"
   },
   "source": [
    "## Mount Google Drive\n",
    "\n",
    "After uploading the files to your Google Drive, mount Drive in order to allow Colab to access the files."
   ]
  },
  {
   "cell_type": "code",
   "execution_count": 1,
   "metadata": {
    "id": "5OYzsRlnJY8q"
   },
   "outputs": [],
   "source": [
    "# from google.colab import drive\n",
    "# drive.mount('/content/drive')"
   ]
  },
  {
   "cell_type": "markdown",
   "metadata": {
    "id": "vDmAso5yKmca"
   },
   "source": [
    "## Imports"
   ]
  },
  {
   "cell_type": "code",
   "execution_count": 2,
   "metadata": {
    "id": "P7k6-unHKloo"
   },
   "outputs": [],
   "source": [
    "import gzip\n",
    "import json"
   ]
  },
  {
   "cell_type": "code",
   "execution_count": 3,
   "metadata": {
    "id": "dMYKAtPreEuQ"
   },
   "outputs": [],
   "source": [
    "import itertools"
   ]
  },
  {
   "cell_type": "markdown",
   "metadata": {
    "id": "rZxZE-cU2kxt"
   },
   "source": [
    "## Inspecting the data"
   ]
  },
  {
   "cell_type": "markdown",
   "metadata": {
    "id": "6FM3hjHnnG6f"
   },
   "source": [
    "### The JSON-L data format\n",
    "\n",
    "If you look directly in the data file, you will find that it is in a format of one product-per line. Each product is a json data structure. This is an unofficial data format commonly referred to as JSON-L (the -L meaning per-line).\n",
    "\n",
    "⚠️ **Data format differs from the source data:** Unlike the reviews data, which was originally distributed in json-l format, the metadata is distributed as lines of python code that need to be evaluated. We have done this evaluation for you and re-formatted the data file. The file available in the course assets is in the re-formatted json-l.\n",
    "\n",
    "### The product data structure\n",
    "\n",
    "Looking at the individual lines, you would find a product data structure like the following example Nike product that has been formatted for easier reading:\n",
    "\n",
    "```\n",
    "{\n",
    "    \"asin\": \"B00APTJF6G\",\n",
    "    \"related\": {\n",
    "        \"also_bought\": [ \"B003JK5Y8G\", \"B00B2V1EEW\" ],\n",
    "        \"also_viewed\": [\n",
    "            \"B003JK5Y8G\", \"B00CB3259I\", \"B008QYSBRQ\", \"B00B2V1EEW\", \"B00E0WL76U\",\n",
    "            \"B00CHQTGL4\", \"B00KQQ6HDW\", \"B008EMDAB2\", \"B008IBB2V4\", \"B00E0WKOAA\",\n",
    "            \"B0052H0M9K\", \"B00HUXPAI2\", \"B00K5YT3KO\", \"B00CUQZYHG\", \"B00J8V3PDG\",\n",
    "            \"B00APTKB5K\", \"B001GUSWJ4\", \"B00CM0COS2\", \"B00J2JODHQ\", \"B00E0NOFUO\",\n",
    "            \"B00IDCBLXC\", \"B009IUDL0O\", \"B00JG6J2IA\", \"B00JJ6RCCK\", \"B008K6OIIG\",\n",
    "            \"B00KHYBFPI\", \"B009O5KX7M\", \"B00GS1X0CK\", \"B00K0TM84M\", \"B00BYCCJSE\",\n",
    "            \"B00DGCXOES\", \"B00DRMMYFW\", \"B00IURRG02\", \"B007T8HL9O\", \"B00FL837DI\",\n",
    "            \"B006JRPQN4\", \"B008EMBHSA\", \"B00E3G4V02\", \"B004N6UVPG\", \"B00DU5UV60\",\n",
    "            \"B00J8UU6MU\", \"B00EEC7OI6\", \"B00EDW2MG6\", \"B00IK609JI\", \"B008IB8TOM\",\n",
    "            \"B00GN9V66Y\", \"B00KPZ6DSS\", \"B00HLMTTFM\", \"B00EJT1CEG\", \"B00DRL3EBQ\",\n",
    "            \"B00IURWBTI\", \"B00GS1X1BU\" ],\n",
    "        \"bought_together\": [ \"B003JK5Y8G\", \"B00B2V1EEW\", \"B00E9ZATJO\" ]\n",
    "    },\n",
    "    \"title\": \"Nike Womens Free TR Fit 3 Running Shoes\",\n",
    "    \"price\": 88.78,\n",
    "    \"salesRank\": {\n",
    "        \"Shoes\": 73520\n",
    "    },\n",
    "    \"imUrl\": \"http://ecx.images-amazon.com/images/I/41ZGSvJDi%2BL._SX395_.jpg\",\n",
    "    \"brand\": \"Nike\",\n",
    "    \"categories\": [\n",
    "        [\n",
    "            \"Clothing, Shoes & Jewelry\",\n",
    "            \"N\",\n",
    "            \"Nike\"\n",
    "        ],\n",
    "        [\n",
    "            \"Clothing, Shoes & Jewelry\",\n",
    "            \"Women\",\n",
    "            \"Shoes\",\n",
    "            \"Athletic\",\n",
    "            \"Running\"\n",
    "        ]\n",
    "    ]\n",
    "}\n",
    "```\n",
    "\n",
    "### Some things to note:\n",
    "\n",
    "1. This product has been set to have the brand \"Nike\". However, if you dig into the raw data, you will see that not all products have a brand associated with them. For this reason, we will be using the brand names embedded in the category data to segment this data by brand.\n",
    "\n",
    "2. The category data is a list of lists. We will need to either flatten this data, or iterate it (we show you both!) in order to find the brand name in the categories.\n",
    "\n",
    "3. salesRank is provided as a key-value pair in the format of category:rank. This is the sales rank of the product within that product category, where a lower number is a better ranking."
   ]
  },
  {
   "cell_type": "markdown",
   "metadata": {
    "id": "tls4dOf42wMJ"
   },
   "source": [
    "## 👟 Discovering the Nike ASINs"
   ]
  },
  {
   "cell_type": "markdown",
   "metadata": {
    "id": "hY25J6rZr3Co"
   },
   "source": [
    "\n",
    "Since not all products have a brand value set, we will extract ASINs for products with \"Nike\" in the categories. We will ignore the title case of instances of Nike to be sure we catch things like NIKE and nike.\n",
    "\n",
    "💡 **On brands and ambiguity:** Nike is an unambiguous brand name, so we can be reasonably sure of our results. Given a more general name that might show up in the category data, you would probably have to work a little harder at digging out the ASINs for this data."
   ]
  },
  {
   "cell_type": "markdown",
   "metadata": {
    "id": "I3FOo-ShtSZl"
   },
   "source": [
    "### Build a list of Nike ASINs"
   ]
  },
  {
   "cell_type": "markdown",
   "metadata": {
    "id": "ENAtAeWQJwBv"
   },
   "source": [
    "The following code to build a list of Nike ASINs has been completed for you. Read through the code, execute it, and be sure you understand how it works. Consider also reading the optional tips below for variations on how this code could be handled."
   ]
  },
  {
   "cell_type": "code",
   "execution_count": 4,
   "metadata": {
    "id": "90oVgbjcKfGW"
   },
   "outputs": [],
   "source": [
    "asins = []\n",
    "\n",
    "# !!!\n",
    "# To run this code, you will need to have downloaded the metadata file from the\n",
    "# course assets and upload it to your Google Drive. See the notes about that file\n",
    "# regarding how it was processed from the original file into json-l format.\n",
    "\n",
    "with gzip.open(\"meta_Clothing_Shoes_and_Jewelry.jsonl.gz\") as products:\n",
    "    for product in products:\n",
    "        data = json.loads(product)\n",
    "        categories = []\n",
    "        for category_list in data.get(\"categories\", []):\n",
    "            _catlist = []\n",
    "            for item in category_list:\n",
    "                _catlist.append(item.lower())\n",
    "            categories += _catlist\n",
    "        if \"nike\" in categories:\n",
    "            asins.append(data[\"asin\"])"
   ]
  },
  {
   "cell_type": "markdown",
   "metadata": {
    "id": "Q9Rd8ZMOzbBH"
   },
   "source": [
    "The length of `asins` will tell us how many we have:"
   ]
  },
  {
   "cell_type": "code",
   "execution_count": 5,
   "metadata": {
    "id": "KRrceZ9By7QF"
   },
   "outputs": [
    {
     "data": {
      "text/plain": [
       "8327"
      ]
     },
     "execution_count": 5,
     "metadata": {},
     "output_type": "execute_result"
    }
   ],
   "source": [
    "# Question 1\n",
    "\n",
    "# How many ASINs are in the full list of Nike ASIN values? Hint: the answer to this is the result of the length of the list called asin.\n",
    "\n",
    "len(asins)"
   ]
  },
  {
   "cell_type": "markdown",
   "metadata": {
    "id": "UuZyukUGzhZ6"
   },
   "source": [
    "Inspect a few to see that things look as expected:"
   ]
  },
  {
   "cell_type": "code",
   "execution_count": 6,
   "metadata": {
    "id": "PaqpAPT5vt83"
   },
   "outputs": [
    {
     "data": {
      "text/plain": [
       "['B0000V9K32', 'B0000V9K3W', 'B0000V9K46']"
      ]
     },
     "execution_count": 6,
     "metadata": {},
     "output_type": "execute_result"
    }
   ],
   "source": [
    "asins[:3]"
   ]
  },
  {
   "cell_type": "markdown",
   "metadata": {
    "id": "CX1UoyFL8_W5"
   },
   "source": [
    "---\n",
    "\n",
    "## 🧐 Lab Quiz Question #1\n",
    "\n",
    "What is the number of Nike ASINs extracted from the product metadata? Enter this number as your answer to Question #1 in Coursera.\n",
    "\n",
    "Answer = 8327\n",
    "\n",
    "---"
   ]
  },
  {
   "cell_type": "markdown",
   "metadata": {
    "id": "ULm7azEfcoG6"
   },
   "source": [
    "---\n",
    "\n",
    "### 🐍 **Optional:** Simplify things with a list comprehension\n",
    "\n",
    "Take a closer look at this code from above:\n",
    "\n",
    "```\n",
    "       for category_list in data.get(\"categories\", []):\n",
    "            _catlist = []\n",
    "            for item in category_list:\n",
    "                _catlist.append(item.lower())\n",
    "            categories += _catlist\n",
    "```\n",
    "\n",
    "We had to do this nested iteration in order to normalize the categories to lowercase format. However, there is an opportunity to use a list comprehension here to clean things up a bit and make it all a bit more \"Pythonic\". The resulting code might look like this:\n",
    "\n",
    "```\n",
    "       for category_list in data.get(\"categories\", []):\n",
    "            _catlist = [ item.lower() for item in category_list ]\n",
    "            categories += _catlist\n",
    "```\n",
    "\n",
    "In fact, you could take it a step further and replace that entire block with a nested comprehension ... but at some point it is important to think about the tradeoffs between cleverness and readability.\n",
    "\n",
    "Another way to flatten the list rather than iterating it would be to make use of the handy itertools module.\n",
    "\n",
    "---"
   ]
  },
  {
   "cell_type": "markdown",
   "metadata": {
    "id": "Ev2baQJGyke4"
   },
   "source": [
    "### 🐍 **Optional:** Use itertools to flatten the list\n",
    "\n",
    "The [itertools module](https://docs.python.org/3/library/itertools.html) provides some handy convenience tools for dealing with various iterable things. Here is what the above code might look like using itertools to flatten the categories:\n",
    "\n",
    "```\n",
    "    for product in products:\n",
    "        data = json.loads(product)\n",
    "        categories = itertools.chain(*data.get(\"categories\", []))\n",
    "        categories = [c.lower() for c in categories]\n",
    "```\n",
    "\n",
    "Keep `itertools` in mind when you are working with iterable data sets.\n",
    "\n",
    "---"
   ]
  },
  {
   "cell_type": "markdown",
   "metadata": {
    "id": "39c5GlSV2Nfv"
   },
   "source": [
    "## 🔁 Recap so far"
   ]
  },
  {
   "cell_type": "markdown",
   "metadata": {
    "id": "Fh4F6AT823W1"
   },
   "source": [
    "So far, we have taken a look at the data to get a sense of the data structure. We have seen that:\n",
    "\n",
    " - Product metadata is in JSON-L format with one json-encoded product per line of the file.\n",
    " - Products are identified by an ASIN value keyed as \"asin\"\n",
    " - Some products have a \"brand\" key, but not all.\n",
    " - Products have a \"categories\" structure which is a list of lists. The brand can be found among the categories even when there is no \"brand\" key on the data.\n",
    "\n",
    "We have then used this information to extract a list of ASINs for the products of a specific brand."
   ]
  },
  {
   "cell_type": "markdown",
   "metadata": {
    "id": "iCpfRTczAaSt"
   },
   "source": [
    "## Thinking about segmentation"
   ]
  },
  {
   "cell_type": "markdown",
   "metadata": {
    "id": "kaOVisIV9yVb"
   },
   "source": [
    "You should have extracted something over 8000 ASINs above, all having \"Nike\" as a category.\n",
    "\n",
    "> 💡 **Hint:** The exact number of Nike ASINs is the answer to Quiz question #1!\n",
    "\n",
    "\n",
    "When doing an analysis like this, you will often not want to look at everything all at once. For this reason, you might segment the data in various ways. It is important to think ahead and to strategize a bit when considering segmentation.\n",
    "\n",
    "> 🤔 **Food for thought:** Looking at the data, what are some ways you might consider segmenting for useful analysis? Here we use a simple data point in the data. In an upcoming assignment, you will use natural language process (NLP) methods to segment the data according to the language of the text entered by the reviewers.\n",
    "\n",
    "Here, you will implement a very straightforward and common kind of segmentation for sales related data. You will take advantage of the \"salesRank\" information on the products, and build a list of just the top selling Nike products."
   ]
  },
  {
   "cell_type": "markdown",
   "metadata": {
    "id": "iHoLeZdhGFI0"
   },
   "source": [
    "## 📈 Taking a look at sales rank"
   ]
  },
  {
   "cell_type": "markdown",
   "metadata": {
    "id": "r4VSXFXpyrIg"
   },
   "source": [
    "Looking at the data above product example again, recall that there is a \"salesRank\" key which gives us the product's categorical rank in the format:\n",
    "\n",
    "```\n",
    "    { category: rank }\n",
    "```\n",
    "\n",
    "We are interested in extracting this rank data in order to produce a data structure of sales ranks by ASIN.\n",
    "\n",
    "> **Coding Task:** Below, you will do the work of building a dictionary structure of `ASIN:SalesRank` key-value pairs. The code will be much like the code above to create a list of ASINs, but along the way, you will extract the sales rank and include that information in the data structure.\n",
    "\n",
    "The sales rank is a bit unusual as a dictionary structure in that it is just a single key-value pair. We want to extract this information from the products where it exists, and do so in a way that will not break where it does not. One algorithm for doing this would be:\n",
    "\n",
    "\n",
    " - Check that \"salesRank\" both exists **and** contains information. E.g.:\n",
    "\n",
    "    ```{\"Shoes\": 73520}```\n",
    "\n",
    " - Convert the `.items()` of the sales rank dictionary into a list for indexing. E.g.:\n",
    "\n",
    "    ```[(\"Shoes\", 73520)]```\n",
    "\n",
    " - Take the 0-index item of the list, which is a (category, rank) tuple. E.g.:\n",
    "\n",
    "    ```(\"Shoes\", 73520)```\n",
    "\n",
    " - Take the 1-index item of that tuple, which is the rank. E.g.:\n",
    "\n",
    "    ```73520```\n",
    "\n",
    "\n",
    "\n",
    "\n"
   ]
  },
  {
   "cell_type": "markdown",
   "metadata": {
    "id": "TJ78ZNKGFO05"
   },
   "source": [
    "## 🔨 Do the work"
   ]
  },
  {
   "cell_type": "markdown",
   "metadata": {
    "id": "zemwsmsGFTe-"
   },
   "source": [
    "The code cell below looks a lot like the ASINs extraction code that you executed above. But this code will not execute as-is!\n",
    "\n",
    "Your job is to complete the last part of this code to populate the `sales_ranks` dictionary with product sales ranks keyed by ASIN.\n",
    "\n",
    "The resulting data structure will have the following format:\n",
    "\n",
    "```\n",
    "    {\n",
    "        'B0000V9K32': 67039,\n",
    "        'B0000V9K3W': 102054,\n",
    "        'B0000V9K46': 116131\n",
    "\n",
    "        ... (etc.)\n",
    "\n",
    "    }\n",
    "```\n",
    "\n",
    "Correctly implemented, your resulting sales_rank dictionary should have 7962 elements."
   ]
  },
  {
   "cell_type": "markdown",
   "metadata": {
    "id": "KUqKO7CHHcHe"
   },
   "source": [
    "> 💡 **Pro tip:** Jumping straight into the code below could get frustrating really quickly. You could find your self looping and re-looping 8000+ products in a draining excercize of troubleshoot-and-wait iterations.\n",
    "\n",
    "> When you have a big task like this, consider how to make it smaller in order to make the development easier. A simple thing here would be just to work with a small section of the data. Consider this code snippet for one approach:\n",
    "\n",
    "```\n",
    "with open(somefile) as f:\n",
    "    count = 0\n",
    "    for i, line in enumerate(f):\n",
    "        if i > 10:\n",
    "            break\n",
    "        ...\n",
    "```\n",
    "\n",
    "We have included similar break code in a commented section of the code below. If you make use of this break, just be sure to take it back out to run all the products in the end. Your final sales_rank data should have 7962 items."
   ]
  },
  {
   "cell_type": "code",
   "execution_count": 7,
   "metadata": {
    "id": "-2KYfu3HKOfq"
   },
   "outputs": [],
   "source": [
    "sales_ranks = {}\n",
    "\n",
    "with gzip.open(\"meta_Clothing_Shoes_and_Jewelry.jsonl.gz\") as products:\n",
    "    for i, product in enumerate(products):\n",
    "        #Uncomment these lines to reduce the debug cycle for troubleshooting only !!!\n",
    "        #if i > 10000: # 10000 because we don't hit Nike products for a while\n",
    "        #    break\n",
    "        data = json.loads(product)\n",
    "        categories = []\n",
    "        for category_list in data.get(\"categories\", []):\n",
    "            _catlist = []\n",
    "            for item in category_list:\n",
    "                if item.strip() != item:\n",
    "                    print(category_list)\n",
    "                _catlist.append(item.lower())\n",
    "            categories += _catlist\n",
    "        if \"nike\" in categories:\n",
    "            if data.get(\"salesRank\"):\n",
    "                # TODO: Complete the extraction of sales rank and populate\n",
    "                # that information into the sales_ranks dictionary, keyed\n",
    "                # by the asin value.\n",
    "                sales_rank = data[\"salesRank\"]\n",
    "                if sales_rank:\n",
    "                    rank = list(sales_rank.items())[0][1]\n",
    "                    sales_ranks[data[\"asin\"]] = rank"
   ]
  },
  {
   "cell_type": "markdown",
   "metadata": {
    "id": "4fs42pvwLlrQ"
   },
   "source": [
    "Check the length of `sales_rank`"
   ]
  },
  {
   "cell_type": "code",
   "execution_count": 8,
   "metadata": {
    "id": "NSxsylzmHDBT"
   },
   "outputs": [
    {
     "data": {
      "text/plain": [
       "7962"
      ]
     },
     "execution_count": 8,
     "metadata": {},
     "output_type": "execute_result"
    }
   ],
   "source": [
    "len(sales_ranks)"
   ]
  },
  {
   "cell_type": "markdown",
   "metadata": {
    "id": "nYCAIVMJLhXS"
   },
   "source": [
    "Inspect the first few items of `sales_rank`"
   ]
  },
  {
   "cell_type": "code",
   "execution_count": 9,
   "metadata": {
    "id": "Gd7vlUb_L_7a"
   },
   "outputs": [
    {
     "data": {
      "text/plain": [
       "{'B0000V9K32': 67039, 'B0000V9K3W': 102054, 'B0000V9K46': 116131}"
      ]
     },
     "execution_count": 9,
     "metadata": {},
     "output_type": "execute_result"
    }
   ],
   "source": [
    "dict(list(sales_ranks.items())[:3])"
   ]
  },
  {
   "cell_type": "markdown",
   "metadata": {
    "id": "eIl72H62OjMP"
   },
   "source": [
    "## 🧐 Lab Quiz Questions #2 and #3"
   ]
  },
  {
   "cell_type": "markdown",
   "metadata": {
    "id": "vvWqR-z6MBMP"
   },
   "source": [
    "**Q2:** What is the best ranking Nike product ASIN for which we have sales rank data? Recall that smaller ranking values are better.\n",
    "\n",
    "Answer = B00EQBFL62\n",
    "\n",
    "**Q3:** What is its rank?\n",
    "Answer = 179\n",
    "\n",
    "Use the following code snippet to answer these questions:"
   ]
  },
  {
   "cell_type": "code",
   "execution_count": 10,
   "metadata": {
    "id": "7JmaU5QTMrCp"
   },
   "outputs": [
    {
     "data": {
      "text/plain": [
       "('B00EQBFL62', 179)"
      ]
     },
     "execution_count": 10,
     "metadata": {},
     "output_type": "execute_result"
    }
   ],
   "source": [
    "import operator\n",
    "ordered_asin_ranks = sorted(sales_ranks.items(), key=operator.itemgetter(1))\n",
    "ordered_asin_ranks[0]"
   ]
  },
  {
   "cell_type": "markdown",
   "metadata": {
    "id": "b_YKJIyYPH42"
   },
   "source": [
    "### 🐍 Python Tip\n",
    "\n",
    "See the [Python sorting how-to](https://docs.python.org/3/howto/sorting.html#sortinghowto) for more information about advanced sortings like the one above."
   ]
  },
  {
   "cell_type": "markdown",
   "metadata": {
    "id": "bLirAE7mS-lI"
   },
   "source": [
    "## 📊 Plot a histogram"
   ]
  },
  {
   "cell_type": "markdown",
   "metadata": {
    "id": "iVcHnsL8TbhJ"
   },
   "source": [
    "You have now gathered all the product ranking data. For analysis, however, we really just want to look at the top ranking products. How many products, you ask? A histogram will help us to make that decision."
   ]
  },
  {
   "cell_type": "markdown",
   "metadata": {
    "id": "yVaWHA-QT0ow"
   },
   "source": [
    "### 🐍 The Seaborn library\n",
    "\n",
    "[Seaborn](https://seaborn.pydata.org/) is a statistical data visualization library that makes quick work of some common types of visualizations. Here we see that it makes histogram plotting almost trivial.\n",
    "\n",
    "The histogram (a.k.a. [distplot](https://seaborn.pydata.org/generated/seaborn.displot.html#seaborn.displot) with `kind` set to \"hist\", the default) in seaborn simply takes a list of values. In this case, we want to plot the sales ranks, which is just the values list of the sale_ranks dictionary:"
   ]
  },
  {
   "cell_type": "code",
   "execution_count": 11,
   "metadata": {
    "id": "tKuZiE8OUuR1"
   },
   "outputs": [
    {
     "data": {
      "image/png": "[encoded data removed]",
      "text/plain": [
       "<Figure size 640x480 with 1 Axes>"
      ]
     },
     "metadata": {},
     "output_type": "display_data"
    }
   ],
   "source": [
    "import seaborn as sns\n",
    "plot = sns.histplot(list(sales_ranks.values()))"
   ]
  },
  {
   "cell_type": "markdown",
   "metadata": {
    "id": "8sFaWpkCgqRq"
   },
   "source": [
    "You can see here that there is quite a long tail of low-ranking products, i.e. large values going to the right on the x-axis. Some of these rankings are low enough that Seaborn has plotted at a scale of 1 x 10^6. It looks like our lowest ranking product ranks as about the 3.5 millionth best selling product in it's category!\n",
    "\n",
    "We can verify this simply by looking at the last item of the ordered list we produced above:"
   ]
  },
  {
   "cell_type": "code",
   "execution_count": 12,
   "metadata": {
    "id": "P1MjQwQdjABH"
   },
   "outputs": [
    {
     "data": {
      "text/plain": [
       "('B000AYI6FC', 3341111)"
      ]
     },
     "execution_count": 12,
     "metadata": {},
     "output_type": "execute_result"
    }
   ],
   "source": [
    "ordered_asin_ranks[-1]"
   ]
  },
  {
   "cell_type": "markdown",
   "metadata": {
    "id": "Ub3N3FVAjgQ-"
   },
   "source": [
    "At a glance, we can see that the bulk of our ranked products, however, fall into the range of 0 to 3000, where 3000 is indicated as 0.5 x 1x10^6.\n",
    "\n",
    "For purposes of analysis, then, let's create a filtered subset of the list that contains only ASINs of products with a sales rank of 3000 or better."
   ]
  },
  {
   "cell_type": "code",
   "execution_count": 13,
   "metadata": {
    "id": "VT7VByeVk5aV"
   },
   "outputs": [],
   "source": [
    "best_asins = [asin for asin, rank in sales_ranks.items() if rank <= 3000]"
   ]
  },
  {
   "cell_type": "markdown",
   "metadata": {
    "id": "4-CVx2VLlm_R"
   },
   "source": [
    "### Inspect a few items:"
   ]
  },
  {
   "cell_type": "code",
   "execution_count": 14,
   "metadata": {
    "id": "4-VHUo_Jlkac"
   },
   "outputs": [
    {
     "data": {
      "text/plain": [
       "['B0001LGWEQ', 'B000G42Z2Q', 'B000RDFRIK']"
      ]
     },
     "execution_count": 14,
     "metadata": {},
     "output_type": "execute_result"
    }
   ],
   "source": [
    "best_asins[:3]"
   ]
  },
  {
   "cell_type": "markdown",
   "metadata": {
    "id": "UR-D6eZPm9TX"
   },
   "source": [
    "### Check the length"
   ]
  },
  {
   "cell_type": "code",
   "execution_count": 15,
   "metadata": {
    "id": "1sYqE9ebm_ji"
   },
   "outputs": [
    {
     "data": {
      "text/plain": [
       "274"
      ]
     },
     "execution_count": 15,
     "metadata": {},
     "output_type": "execute_result"
    }
   ],
   "source": [
    "len(best_asins)"
   ]
  },
  {
   "cell_type": "markdown",
   "metadata": {
    "id": "bkOPN4OQnuGT"
   },
   "source": [
    "## Finalizing your data prep"
   ]
  },
  {
   "cell_type": "markdown",
   "metadata": {
    "id": "70ImjDhUn00o"
   },
   "source": [
    "This lab has been all about segmenting products by sales rank, and a lot of that work is now done. But, in the end, we don't just want the list of products ... we want the product reviews so that we can discover interesting things such as what are customers saying about the best selling products.\n",
    "\n",
    "Now that you've prepared a set of ASINs of products worth analyzing, you will do the work of collecting their reviews. Recall that the reviews are contained in the second JSON-L data file."
   ]
  },
  {
   "cell_type": "markdown",
   "metadata": {
    "id": "6dO3mbXDp2L6"
   },
   "source": [
    "## 🔨 Do the work"
   ]
  },
  {
   "cell_type": "markdown",
   "metadata": {
    "id": "nq399MSSp9EH"
   },
   "source": [
    "The code block below sets you up to iterate the review data.\n",
    "\n",
    "In order to collect the reviews into a useful data structure, we will create a concept of a key that is made up of the asin.reviewerID. Constructing this ID might look something like this, given `review` as the data structure of a single review:\n",
    "\n",
    "```\n",
    "review_id = \"%s.%s\" % (review[\"asin\"], review[\"reviewerID\"]\n",
    "```"
   ]
  },
  {
   "cell_type": "markdown",
   "metadata": {
    "id": "zSV8IJCzr7-x"
   },
   "source": [
    "To complete the code block below, do the work of collecting the reviews of the top ASINs (remember our best_asins list above) keyed by the special ID for the review, e.g.:\n",
    "\n",
    "```\n",
    "top_reviews[review_id] = review\n",
    "```"
   ]
  },
  {
   "cell_type": "code",
   "execution_count": 16,
   "metadata": {
    "id": "liCv2Y9LoSra"
   },
   "outputs": [],
   "source": [
    "top_reviews = {}\n",
    "\n",
    "with gzip.open(\"reviews_Clothing_Shoes_and_Jewelry.json.gz\") as reviews:\n",
    "    for i, review in enumerate(reviews):\n",
    "        review = json.loads(review)\n",
    "        # REMEMBER to remove this break once you have things working!!!\n",
    "        # if i > 1000: # it takes a while to hit any Nike products in the data\n",
    "        #      break\n",
    "\n",
    "        _id = \"%s.%s\" % (review[\"asin\"], review[\"reviewerID\"])\n",
    "\n",
    "        # TODO: if the asin is in best_asins, add the review to top_reviews\n",
    "        #       keyed by the newly constructed _id\n",
    "        if review[\"asin\"] in best_asins:\n",
    "            top_reviews[_id] = review\n",
    "            "
   ]
  },
  {
   "cell_type": "markdown",
   "metadata": {
    "id": "La3hAX4iDa30"
   },
   "source": [
    "### Check the length of the resulting review set"
   ]
  },
  {
   "cell_type": "code",
   "execution_count": 17,
   "metadata": {
    "id": "cP0-0KBjsreZ"
   },
   "outputs": [
    {
     "data": {
      "text/plain": [
       "3549"
      ]
     },
     "execution_count": 17,
     "metadata": {},
     "output_type": "execute_result"
    }
   ],
   "source": [
    "len(top_reviews)"
   ]
  },
  {
   "cell_type": "markdown",
   "metadata": {
    "id": "dVgxfNIODmv5"
   },
   "source": [
    "---\n",
    "\n",
    "## 🧐 Lab Quiz Question #4"
   ]
  },
  {
   "cell_type": "markdown",
   "metadata": {
    "id": "KLvyt4PeDw87"
   },
   "source": [
    "How many Nike product reviews are there for products that rank in the top 3000 of their sales category?\n",
    "\n",
    "Use the length of `top_reviews` to answer this question.\n",
    "\n",
    "Answer = 3549\n",
    "\n",
    "---\n",
    "\n"
   ]
  },
  {
   "cell_type": "markdown",
   "metadata": {
    "id": "hmlQuJpaEO22"
   },
   "source": [
    "## 📓 Lab summary"
   ]
  },
  {
   "cell_type": "markdown",
   "metadata": {
    "id": "EJ9n5ZAVEWwe"
   },
   "source": [
    "In this lab, we tackled some aggregation, extraction, and segmentation tasks typically associated with the pre-processing phase of a data analytics job.\n",
    "\n",
    "A few things we discovered along the way:\n",
    "\n",
    " * Sales data can be tricky to deal with, and may not be consistent even when coming from the same source.\n",
    " * Directly inspecting the data is often necessary, and we should not assume that data entries will be consistently contstructed, and consistency can be impacted by the chosen data distribution format.\n",
    "\n",
    "\n",
    "In a coming assignment, you will revisit the idea of segmentation by NLP techniques to extract only reviews with negative sentiment.\n",
    "\n"
   ]
  },
  {
   "cell_type": "markdown",
   "metadata": {
    "id": "HVOzflW8G8Oi"
   },
   "source": [
    "## Save top reviews as a JSON-Lines file for use in Lab 3.\n",
    "\n",
    "In an upcoming module, you will complete a lab where you will use deep learning techniques to produce a topic model of the top product reviews. Execute the following code to save those reviews to a JSON-L file for use in that lab."
   ]
  },
  {
   "cell_type": "code",
   "execution_count": 18,
   "metadata": {
    "id": "VFyaG4HXG_f4"
   },
   "outputs": [],
   "source": [
    "with open(\"MSDS_Lab1_TopReviews.jsonl\", \"w\") as top_reviews_file:\n",
    "    for k, v in top_reviews.items():\n",
    "        review = json.dumps(v)\n",
    "        top_reviews_file.write(f\"{review}\\n\")"
   ]
  },
  {
   "cell_type": "code",
   "execution_count": null,
   "metadata": {},
   "outputs": [],
   "source": []
  },
  {
   "cell_type": "markdown",
   "metadata": {},
   "source": [
    "## Read Contents for each File"
   ]
  },
  {
   "cell_type": "markdown",
   "metadata": {
    "id": "EJ9n5ZAVEWwe"
   },
   "source": [
    "To extract and display the contents of a .gz file in Python, you can use the gzip module from the Python standard library. Here's a step-by-step guide on how to do this:\n",
    "\n",
    "Open and Read the .gz File:\n",
    "You need to open the .gz file using gzip.open(), which allows you to read the contents in a way similar to working with regular files.\n",
    "\n",
    "Display the Contents:\n",
    "Once the file is opened, you can read its contents and display them.\n",
    "\n"
   ]
  },
  {
   "cell_type": "code",
   "execution_count": 23,
   "metadata": {},
   "outputs": [
    {
     "name": "stdout",
     "output_type": "stream",
     "text": [
      "{\"asin\": \"0000037214\", \"related\": {\"also_viewed\": [\"B00JO8II76\", \"B00DGN4R1Q\", \"B00E1YRI4C\"]}, \"title\": \"Purple Sequin Tiny Dancer Tutu Ballet Dance Fairy Princess Costume Accessory\", \"price\": 6.99, \"salesRank\": {\"Clothing\": 1233557}, \"imUrl\": \"http://ecx.images-amazon.com/images/I/31mCncNuAZL.jpg\", \"brand\": \"Big Dreams\", \"categories\": [[\"Clothing, Shoes & Jewelry\", \"Girls\"], [\"Clothing, Shoes & Jewelry\", \"Novelty, Costumes & More\", \"Costumes & Accessories\", \"More Accessories\", \"Kids & Baby\"]]}\n",
      "\n"
     ]
    }
   ],
   "source": [
    "# Path to your .gz file\n",
    "file_path = 'meta_Clothing_Shoes_and_Jewelry.jsonl.gz'\n",
    "\n",
    "# Open and read the contents of the .gz file\n",
    "with gzip.open(file_path, 'rt') as f:\n",
    "    contents = f.read()\n",
    "\n",
    "# Display only the first 1000 characters\n",
    "print(contents[:500])"
   ]
  },
  {
   "cell_type": "code",
   "execution_count": 24,
   "metadata": {},
   "outputs": [
    {
     "name": "stdout",
     "output_type": "stream",
     "text": [
      "{\"reviewerID\": \"A2XVJBSRI3SWDI\", \"asin\": \"0000031887\", \"reviewerName\": \"abigail\", \"helpful\": [0, 0], \"reviewText\": \"Perfect red tutu for the price. I baught it as part of my daughters Halloween costume and it looked great on her.\", \"overall\": 5.0, \"summary\": \"Nice tutu\", \"unixReviewTime\": 1383523200, \"reviewTime\": \"11 4, 2013\"}\n",
      "{\"reviewerID\": \"A2G0LNLN79Q6HR\", \"asin\": \"0000031887\", \"reviewerName\": \"aj_18 \\\"Aj_18\\\"\", \"helpful\": [1, 1], \"reviewText\": \"This was a really cute tutu the only problem i\n"
     ]
    }
   ],
   "source": [
    "# Path to your .gz file\n",
    "file_path = 'reviews_Clothing_Shoes_and_Jewelry.json.gz'\n",
    "\n",
    "# Open and read the contents of the .gz file\n",
    "with gzip.open(file_path, 'rt') as f:\n",
    "    contents = f.read()\n",
    "\n",
    "# Display only the first 1000 characters\n",
    "print(contents[:500])"
   ]
  },
  {
   "cell_type": "code",
   "execution_count": 25,
   "metadata": {},
   "outputs": [
    {
     "name": "stdout",
     "output_type": "stream",
     "text": [
      "{\n",
      "  \"reviewerID\": \"A2AA85SKEXW87N\",\n",
      "  \"asin\": \"B0001LGWEQ\",\n",
      "  \"reviewerName\": \"Joe\",\n",
      "  \"helpful\": [\n",
      "    0,\n",
      "    0\n",
      "  ],\n",
      "  \"reviewText\": \"I've had this watch for over a year now and wear it daily. I love it and the features it provides.\",\n",
      "  \"overall\": 5.0,\n",
      "  \"summary\": \"Nike Watch\",\n",
      "  \"unixReviewTime\": 1293408000,\n",
      "  \"reviewTime\": \"12 27, 2010\"\n",
      "}\n",
      "{\n",
      "  \"reviewerID\": \"A32FW23QEMIW6F\",\n",
      "  \"asin\": \"B000G42Z2Q\",\n",
      "  \"reviewerName\": \"Adam\",\n",
      "  \"helpful\": [\n",
      "    1,\n",
      "    2\n",
      "  ],\n",
      "  \"reviewText\": \"Although I'm rarely a fan of Nike, I bought this pair to try it out and i absolutely liked it. Very suitable for causal wear, but I'm not sure how good of a running pair this one is. I got the dark grey color with florescent green stripes.Overall very cool pair\",\n",
      "  \"overall\": 3.0,\n",
      "  \"summary\": \"Nice design by Nike\",\n",
      "  \"unixReviewTime\": 1367366400,\n",
      "  \"reviewTime\": \"05 1, 2013\"\n",
      "}\n",
      "{\n",
      "  \"reviewerID\": \"A3L787MR2AI6N\",\n",
      "  \"asin\": \"B000G42Z2Q\",\n",
      "  \"reviewerName\": \"Adrian Moreno Atacho\",\n",
      "  \"helpful\": [\n",
      "    0,\n",
      "    0\n",
      "  ],\n",
      "  \"reviewText\": \"i love this shoes  great price good quality\",\n",
      "  \"overall\": 5.0,\n",
      "  \"summary\": \"Five Stars\",\n",
      "  \"unixReviewTime\": 1404950400,\n",
      "  \"reviewTime\": \"07 10, 2014\"\n",
      "}\n",
      "{\n",
      "  \"reviewerID\": \"A35T3DGPORTYQ2\",\n",
      "  \"asin\": \"B000G42Z2Q\",\n",
      "  \"reviewerName\": \"AJ\",\n",
      "  \"helpful\": [\n",
      "    0,\n",
      "    0\n",
      "  ],\n",
      "  \"reviewText\": \"I ordered this just before my last Europe trip. I ordered it last minute and arrived at time and fits well. However one of the lace loops ripped on the third day of wearing (even before walking 10 miles........oh no after 5000 miles...I was wearing it in the plane). Fortunately my friend there had an extra pair of sneakers which fitted my foot well. Immediately after returning from my trip I sent them back and got the refund in two days. This one star is for their order handling and easy return procedure.\",\n",
      "  \"overall\": 1.0,\n",
      "  \"summary\": \"Lace loop ripped on the third day\",\n",
      "  \"unixReviewTime\": 1403308800,\n",
      "  \"reviewTime\": \"06 21, 2014\"\n",
      "}\n",
      "{\n",
      "  \"reviewerID\": \"AQEH0TVPBAC0X\",\n",
      "  \"asin\": \"B000G42Z2Q\",\n",
      "  \"reviewerName\": \"Alan Saenz\",\n",
      "  \"helpful\": [\n",
      "    0,\n",
      "    0\n",
      "  ],\n",
      "  \"reviewText\": \"Because the look and feel of the sneakers are awesome. It's a perfect fit and it has support for my feet\",\n",
      "  \"overall\": 5.0,\n",
      "  \"summary\": \"Serious Bussiness\",\n",
      "  \"unixReviewTime\": 1390435200,\n",
      "  \"reviewTime\": \"01 23, 2014\"\n",
      "}\n"
     ]
    }
   ],
   "source": [
    "import json\n",
    "\n",
    "file_path = 'MSDS_Lab1_TopReviews.jsonl'\n",
    "\n",
    "# Read and display the first few lines of the file\n",
    "num_lines_to_display = 5\n",
    "with open(file_path, 'r') as file:\n",
    "    for i, line in enumerate(file):\n",
    "        if i >= num_lines_to_display:\n",
    "            break\n",
    "        json_obj = json.loads(line)\n",
    "        print(json.dumps(json_obj, indent=2))  # Pretty-print the JSON object\n"
   ]
  },
  {
   "cell_type": "code",
   "execution_count": null,
   "metadata": {},
   "outputs": [],
   "source": []
  }
 ],
 "metadata": {
  "colab": {
   "provenance": []
  },
  "kernelspec": {
   "display_name": "Python 3 (ipykernel)",
   "language": "python",
   "name": "python3"
  },
  "language_info": {
   "codemirror_mode": {
    "name": "ipython",
    "version": 3
   },
   "file_extension": ".py",
   "mimetype": "text/x-python",
   "name": "python",
   "nbconvert_exporter": "python",
   "pygments_lexer": "ipython3",
   "version": "3.10.9"
  }
 },
 "nbformat": 4,
 "nbformat_minor": 4
}
