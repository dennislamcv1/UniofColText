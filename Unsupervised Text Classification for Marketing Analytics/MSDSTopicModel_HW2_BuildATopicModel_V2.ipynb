{
 "cells": [
  {
   "cell_type": "markdown",
   "metadata": {
    "id": "pWgYXQW1kuSg"
   },
   "source": [
    "# MSDS Marketing Text Analytics, Unit 2, Assignment 2: Build a topic model"
   ]
  },
  {
   "cell_type": "markdown",
   "metadata": {
    "id": "dLHoXywD4Cqg"
   },
   "source": [
    "## ⚡️ Make a Copy\n",
    "\n",
    "Save a copy of this notebook in your Google Drive before continuing. Be sure to edit your own copy, not the original notebook."
   ]
  },
  {
   "cell_type": "markdown",
   "metadata": {
    "id": "k3YbHDKkk1vq"
   },
   "source": [
    "In this assignment, you will implement a topic model preprocessor which can then be applied to the task of topic-modeling Amazon text reviews. Please review the course lectures and documentation up to this point before continuing. Be sure also to be familiar with the [documentation for TMToolkit](https://tmtoolkit.readthedocs.io/en/latest/topic_modeling.html)\n",
    "\n",
    "Be sure to make a copy into your own Drive account before editing this notebook.\n",
    "\n",
    "You will implement a preprocessing function to prepare your corpus for topic modeling. It is recommended that you use a small test corpus (an example is provided below) for development, rather than starting with the full review set.\n",
    "\n",
    "---\n",
    "\n",
    "## ⚠️ Important Note\n",
    "\n",
    "This notebook has been updated to reflect **significant changes to the tmtoolkit API**. You will find some differences from other course materials, including the lectures. There is no longer a TMPreproc object in tmtoolkit. Rather, preprocessing functions have been moved into the tmtoolkit.corpus module. All of the preprocessing functions you will need for this assignment are imported for you below.\n",
    "\n",
    "---"
   ]
  },
  {
   "cell_type": "markdown",
   "metadata": {
    "id": "rHgJsDCEnmLu"
   },
   "source": [
    "## Dependency installs\n",
    "\n",
    "**Important:** You will likely see a message to restart the runtime after the installations are complete, and should do so."
   ]
  },
  {
   "cell_type": "markdown",
   "metadata": {
    "id": "I4iNqZg0nuwC"
   },
   "source": [
    "### Remove some libraries in Colab that cause conflicts"
   ]
  },
  {
   "cell_type": "code",
   "execution_count": 1,
   "metadata": {
    "id": "d-7OdlvGk-Td"
   },
   "outputs": [],
   "source": [
    "# !pip uninstall -y numba\n",
    "# !pip uninstall -y tensorflow"
   ]
  },
  {
   "cell_type": "markdown",
   "metadata": {
    "id": "VdohGZmRnz_J"
   },
   "source": [
    "### Install LDA and tmtoolkit"
   ]
  },
  {
   "cell_type": "code",
   "execution_count": 2,
   "metadata": {
    "id": "-Lq34g8mkvd2"
   },
   "outputs": [],
   "source": [
    "# !pip install lda\n",
    "# !pip install \"tmtoolkit[recommended]\""
   ]
  },
  {
   "cell_type": "markdown",
   "metadata": {
    "id": "9Rfw11JBiZHi"
   },
   "source": [
    "## Imports\n"
   ]
  },
  {
   "cell_type": "code",
   "execution_count": 3,
   "metadata": {
    "id": "N5wxSaPaoBaT"
   },
   "outputs": [],
   "source": [
    "# This is just here for documentation purposes: tmtoolkit no longer has\n",
    "# a TMPreproc. Don't use it for this assignment! Instead use the functions\n",
    "# that are imported below.\n",
    "\n",
    "# Do not do this:\n",
    "#from tmtoolkit.preprocess import TMPreproc"
   ]
  },
  {
   "cell_type": "code",
   "execution_count": 4,
   "metadata": {
    "id": "9qWICqMGknnQ"
   },
   "outputs": [],
   "source": [
    "from tmtoolkit.corpus import Corpus, lemmatize, to_lowercase, remove_chars, filter_clean_tokens\n",
    "from tmtoolkit.corpus import corpus_num_tokens, corpus_tokens_flattened\n",
    "from tmtoolkit.corpus import dtm\n",
    "from tmtoolkit.corpus import vocabulary\n",
    "from tmtoolkit.topicmod.model_io import print_ldamodel_topic_words\n",
    "from tmtoolkit.topicmod.tm_lda import compute_models_parallel"
   ]
  },
  {
   "cell_type": "markdown",
   "metadata": {
    "id": "mRoaAv7spEvf"
   },
   "source": [
    "### Import punctuation from the string module\n",
    "\n",
    "You will use this in your `build_corpus` function to remove punctuation from the corpus."
   ]
  },
  {
   "cell_type": "code",
   "execution_count": 5,
   "metadata": {
    "id": "Q40CwzdQpU16"
   },
   "outputs": [],
   "source": [
    "from string import punctuation"
   ]
  },
  {
   "cell_type": "markdown",
   "metadata": {
    "id": "X8g9kSJwi7M7"
   },
   "source": [
    "## ⚒️ Implement a pre-processor\n",
    "\n",
    "Here you will implement a function called `build_corpus` which returns a Corpus object to be used for topic modeling.\n",
    "\n",
    "The build_corpus function will take a list of texts and return a pre-processed Corpus object. Preprocessing should include the following actions on the corpus using the appropriate functions imported from the corpus module.\n",
    "\n",
    " - lemmatize the texts\n",
    " - convert tokens to lowercase\n",
    " - remove punctuation\n",
    " - clean tokens to remove numbers and any tokens shorter than 3 characters\n",
    "\n",
    "The first part of the function to create the corpus object is done for you. Your job is to call the specific preprocessing functions on the corpus and to return corpus object.\n"
   ]
  },
  {
   "cell_type": "markdown",
   "metadata": {
    "id": "kDKzLINMjD2n"
   },
   "source": [
    "---\n",
    "\n",
    "### 💡 Note\n",
    "\n",
    "Loading a corpus as a list of strings is not the only way to use tmtoolkit. Given, for example, a large corpus that might not fit in memory, the current approach would not work well. See the tmtoolkit docs on [working with text corpora](https://tmtoolkit.readthedocs.io/en/latest/text_corpora.html) for more info.\n",
    "\n",
    "---"
   ]
  },
  {
   "cell_type": "code",
   "execution_count": 6,
   "metadata": {
    "id": "eQFevchKhohK"
   },
   "outputs": [],
   "source": [
    "def build_corpus(texts, lang=\"en\"):\n",
    "    \"\"\"Corpus builder which returns a Corpus object processed on texts as language\n",
    "    specified by lang (defaults to \"en\"):\n",
    "\n",
    "    Should perform all of the following pre-processing functions:\n",
    "\n",
    "     - Lemmatize the tokens\n",
    "     - Convert tokens to lowercase\n",
    "     - Remove punctuation\n",
    "     - Remove numbers\n",
    "     - Remove tokens shorter than 2 characters\n",
    "    \"\"\"\n",
    "    # Here, we just use the index of the text as the label for the corpus item\n",
    "    corpus = Corpus({ i:r for i, r in enumerate(texts) }, language=lang)\n",
    "\n",
    "    # Lemmatize the tokens\n",
    "    lemmatize(corpus)\n",
    "    \n",
    "    # Convert tokens to lowercase\n",
    "    to_lowercase(corpus)\n",
    "\n",
    "    # Remove punctuation (using correct parameter)\n",
    "    remove_chars(corpus, chars=punctuation)\n",
    "\n",
    "    # Clean tokens to remove numbers and any tokens shorter than 3 characters\n",
    "    filter_clean_tokens(corpus, remove_punct=True, remove_stopwords=False, remove_empty=True, remove_shorter_than=3)\n",
    "\n",
    "    return corpus"
   ]
  },
  {
   "cell_type": "code",
   "execution_count": 7,
   "metadata": {
    "id": "r_jJg5-xRczD"
   },
   "outputs": [],
   "source": [
    "#~~ /autograde # do not delete this cell"
   ]
  },
  {
   "cell_type": "markdown",
   "metadata": {
    "id": "r2aoBerYnF2M"
   },
   "source": [
    "---\n",
    "### ⚠️  **Caution:** No arbitrary code above this line\n",
    "\n",
    "The only code written above should be the implementation of your graded function. For experimentation and testing, only add code below.\n",
    "___"
   ]
  },
  {
   "cell_type": "markdown",
   "metadata": {
    "id": "dBlUJqEan3oc"
   },
   "source": [
    "## Function development\n",
    "\n",
    "Use this section of code to verify your function implementation. You may change the test_corpus as needed to verify your implementation. The grader will be checking that your function returns a Corpus object that meets all of the following critera:\n",
    "\n",
    " - tokens are lemmatized\n",
    " - tokens are converted to lowercase\n",
    " - special characters are removed from tokens\n",
    " - tokens shorter than 3 characters and numerics are removed"
   ]
  },
  {
   "cell_type": "code",
   "execution_count": 8,
   "metadata": {
    "colab": {
     "base_uri": "https://localhost:8080/"
    },
    "id": "_tk2oDy5j1gQ",
    "outputId": "dbb83d23-5e03-4714-bf62-f317a18618a9"
   },
   "outputs": [
    {
     "data": {
      "text/plain": [
       "['the',\n",
       " 'cat',\n",
       " 'sit',\n",
       " 'the',\n",
       " 'mat',\n",
       " 'fish',\n",
       " 'fish',\n",
       " 'red',\n",
       " 'fish',\n",
       " 'blue',\n",
       " 'fish',\n",
       " 'she',\n",
       " 'sell',\n",
       " 'eashell']"
      ]
     },
     "execution_count": 8,
     "metadata": {},
     "output_type": "execute_result"
    }
   ],
   "source": [
    "import spacy\n",
    "spacy.load(\"en_core_web_sm\")\n",
    "\n",
    "example_docs = [ # Feel free to edit this corpus for further testing\n",
    "                # to be sure that your functions meet specifications.\n",
    "    \"The 3 cats sat on the mats!\",\n",
    "    \"1 fish 2 fish Red fish Blue fish\",\n",
    "    \"She sells $ea$shells\"\n",
    "]\n",
    "example_corpus = build_corpus(example_docs)\n",
    "corpus_tokens_flattened(example_corpus)"
   ]
  },
  {
   "cell_type": "code",
   "execution_count": 9,
   "metadata": {
    "id": "DuhlHcwQjs8T"
   },
   "outputs": [],
   "source": [
    "dtms = {\n",
    "    \"test_corpus\": dtm(example_corpus)\n",
    "}\n",
    "lda_params = {\n",
    "    'n_topics': 2,\n",
    "    'eta': .01,\n",
    "    'n_iter': 10,\n",
    "    'random_state': 1234,  # to make results reproducible\n",
    "    'alpha': 1/16\n",
    "}\n",
    "\n",
    "models = compute_models_parallel(dtms, constant_parameters=lda_params)"
   ]
  },
  {
   "cell_type": "code",
   "execution_count": 10,
   "metadata": {
    "colab": {
     "base_uri": "https://localhost:8080/"
    },
    "id": "uvB8TL-muaM0",
    "outputId": "28af6a4a-7caa-40a3-f847-e6892c0cbdaf"
   },
   "outputs": [
    {
     "name": "stdout",
     "output_type": "stream",
     "text": [
      "topic_1\n",
      "> #1. fish (0.361261)\n",
      "> #2. the (0.181081)\n",
      "> #3. sit (0.090991)\n",
      "> #4. red (0.090991)\n",
      "> #5. mat (0.090991)\n",
      "topic_2\n",
      "> #1. she (0.325806)\n",
      "> #2. sell (0.325806)\n",
      "> #3. eashell (0.325806)\n",
      "> #4. the (0.003226)\n",
      "> #5. sit (0.003226)\n"
     ]
    }
   ],
   "source": [
    "model = models[\"test_corpus\"][0][1]\n",
    "print_ldamodel_topic_words(model.topic_word_, vocabulary(example_corpus), top_n=5)"
   ]
  },
  {
   "cell_type": "markdown",
   "metadata": {
    "id": "_f8YqCs3kVFQ"
   },
   "source": [
    "### Assignment submission\n",
    "\n",
    "After completing the `build_corpus` implementation, download your notebook as a .py file (File > Download > Download .py) and submit the downloaded file for grading."
   ]
  },
  {
   "cell_type": "markdown",
   "metadata": {
    "id": "9-RmT0BazGQg"
   },
   "source": [
    "## Topic modeling Amazon Reviews\n",
    "\n",
    "Once you have completed the assignment above, you will be well prepared to start your final project for this unit. The project will include loading Amazon reviews into a corpus for topic modeling. The code below demonstrates topic modeling the reviews for a given brand. Note that the final project will require additional segmentation of the data, which is not done for you in the example here."
   ]
  },
  {
   "cell_type": "code",
   "execution_count": 11,
   "metadata": {
    "id": "RpcCkHX1P1d6"
   },
   "outputs": [],
   "source": [
    "import gzip\n",
    "import itertools\n",
    "import json\n",
    "\n",
    "asins = []\n",
    "\n",
    "# To run this code, you will need to download the metadata file from the course\n",
    "# assets and upload it to your Google Drive. See the notes about that file\n",
    "# regarding how it was processed from the original file into json-l format.\n",
    "\n",
    "META_FILE = \"meta_Clothing_Shoes_and_Jewelry.jsonl.gz\"\n",
    "\n",
    "with gzip.open(META_FILE) as products:\n",
    "    for product in products:\n",
    "        data = json.loads(product)\n",
    "        categories = [c.lower() for c in\n",
    "                      list(itertools.chain(*data.get(\"categories\", [])))]\n",
    "        if \"nike\" in categories:\n",
    "            asins.append(data[\"asin\"])"
   ]
  },
  {
   "cell_type": "markdown",
   "metadata": {
    "id": "KysOEFGwVfIh"
   },
   "source": [
    "### Inspect the first fews ASINs"
   ]
  },
  {
   "cell_type": "code",
   "execution_count": 12,
   "metadata": {
    "colab": {
     "base_uri": "https://localhost:8080/"
    },
    "id": "xycViEOjR4Gr",
    "outputId": "8200aab1-0dca-411a-d920-93b4c9bb481a"
   },
   "outputs": [
    {
     "data": {
      "text/plain": [
       "['B0000V9K32', 'B0000V9K3W', 'B0000V9K46']"
      ]
     },
     "execution_count": 12,
     "metadata": {},
     "output_type": "execute_result"
    }
   ],
   "source": [
    "asins[:3]"
   ]
  },
  {
   "cell_type": "markdown",
   "metadata": {
    "id": "P0Gska4bVj3b"
   },
   "source": [
    "### Check the length, i.e. the number of resulting ASINs"
   ]
  },
  {
   "cell_type": "code",
   "execution_count": 13,
   "metadata": {
    "colab": {
     "base_uri": "https://localhost:8080/"
    },
    "id": "AIqkMoAvU-Sz",
    "outputId": "931e35b8-f966-4fcc-e973-b3c9004f666f"
   },
   "outputs": [
    {
     "data": {
      "text/plain": [
       "8327"
      ]
     },
     "execution_count": 13,
     "metadata": {},
     "output_type": "execute_result"
    }
   ],
   "source": [
    "len(asins)"
   ]
  },
  {
   "cell_type": "markdown",
   "metadata": {
    "id": "y0bwBkHsVrsy"
   },
   "source": [
    "### Compile a selection of review texts\n",
    "\n",
    "🔥 **Note:** This code as-is uses a reduced version of the reviews file. You may alternatively use the full version of the reviews file but expect it to take a **long time** to process this code.\n",
    "\n",
    "As with the meta file above, whichever file you use here should be uploaded to the root of your Google Drive."
   ]
  },
  {
   "cell_type": "code",
   "execution_count": 15,
   "metadata": {
    "id": "u6HT0Yjy3gNG"
   },
   "outputs": [],
   "source": [
    "REDUCED_REVIEWS_FILE = \"reviews_Clothing_Shoes_and_Jewelry_5.json.gz\"\n",
    "#FULL_REVIEWS_FILE = \"drive/MyDrive/reviews_Clothing_Shoes_and_Jewelry.json.gz\"\n",
    "\n",
    "reviews = []\n",
    "with gzip.open(REDUCED_REVIEWS_FILE) as f:\n",
    "    for review in f:\n",
    "        data = json.loads(review)\n",
    "        if data[\"asin\"] in asins: # This is where we check to see if it is a Nike ASIN\n",
    "            text = data[\"reviewText\"]\n",
    "            reviews.append(text)"
   ]
  },
  {
   "cell_type": "markdown",
   "metadata": {
    "id": "hKrH89AKVwCe"
   },
   "source": [
    "### Inspect a few of the reviews"
   ]
  },
  {
   "cell_type": "code",
   "execution_count": 16,
   "metadata": {
    "colab": {
     "base_uri": "https://localhost:8080/"
    },
    "id": "A9Ct4cj7Tih9",
    "outputId": "04cafb3c-9be0-4724-ded9-9fe1835d8508"
   },
   "outputs": [
    {
     "name": "stdout",
     "output_type": "stream",
     "text": [
      "0 bought these for supportive shoes after our daughter had ankle surgery. Great fi\n",
      "1 I was a little hesitant about buying sneakers online, fearing I might end up wit\n",
      "2 I have a lot of pairs of running shoes, and these are a nice addition to my coll\n",
      "3 My husband said they are very comfortable and easy to walk in, which he does a l\n",
      "4 Very nice shoes...my son loved the color and comfort and the lite weight. Would \n"
     ]
    }
   ],
   "source": [
    "for i, review in enumerate(reviews[:5]):\n",
    "    print(i, review[:80])"
   ]
  },
  {
   "cell_type": "markdown",
   "metadata": {
    "id": "q9ppd90QVzgj"
   },
   "source": [
    "### Build a Corpus object from the review texts"
   ]
  },
  {
   "cell_type": "code",
   "execution_count": 17,
   "metadata": {
    "id": "taIJ_BZU7E81"
   },
   "outputs": [],
   "source": [
    "reviews_corpus = build_corpus(reviews)"
   ]
  },
  {
   "cell_type": "code",
   "execution_count": 18,
   "metadata": {
    "id": "wq_-wpEE8cnV"
   },
   "outputs": [],
   "source": [
    "dtms = {\n",
    "    \"reviews_corpus\": dtm(reviews_corpus)\n",
    "}\n",
    "lda_params = {\n",
    "    'n_topics': 10,\n",
    "    'eta': .01,\n",
    "    'n_iter': 10,\n",
    "    'random_state': 1234,  # to make results reproducible\n",
    "    'alpha': 1/16\n",
    "}\n",
    "\n",
    "models = compute_models_parallel(dtms, constant_parameters=lda_params)"
   ]
  },
  {
   "cell_type": "markdown",
   "metadata": {
    "id": "RGRrYqRuV7nD"
   },
   "source": [
    "### Print the topics"
   ]
  },
  {
   "cell_type": "code",
   "execution_count": 19,
   "metadata": {
    "id": "D8GYqMPHjVH7"
   },
   "outputs": [
    {
     "name": "stdout",
     "output_type": "stream",
     "text": [
      "topic_1\n",
      "> #1. the (0.044277)\n",
      "> #2. they (0.041325)\n",
      "> #3. have (0.039850)\n",
      "> #4. for (0.038374)\n",
      "> #5. with (0.035423)\n",
      "topic_2\n",
      "> #1. and (0.075956)\n",
      "> #2. have (0.047648)\n",
      "> #3. the (0.041434)\n",
      "> #4. good (0.029696)\n",
      "> #5. they (0.026934)\n",
      "topic_3\n",
      "> #1. they (0.075213)\n",
      "> #2. and (0.052540)\n",
      "> #3. the (0.049775)\n",
      "> #4. these (0.034291)\n",
      "> #5. for (0.032079)\n",
      "topic_4\n",
      "> #1. they (0.075561)\n",
      "> #2. the (0.063350)\n",
      "> #3. and (0.051903)\n",
      "> #4. these (0.038929)\n",
      "> #5. shoe (0.032824)\n",
      "topic_5\n",
      "> #1. the (0.081193)\n",
      "> #2. not (0.043874)\n",
      "> #3. this (0.038636)\n",
      "> #4. have (0.029470)\n",
      "> #5. foot (0.028815)\n",
      "topic_6\n",
      "> #1. the (0.056031)\n",
      "> #2. and (0.036023)\n",
      "> #3. they (0.033355)\n",
      "> #4. sock (0.030687)\n",
      "> #5. shoe (0.028019)\n",
      "topic_7\n",
      "> #1. they (0.049806)\n",
      "> #2. size (0.035938)\n",
      "> #3. and (0.034677)\n",
      "> #4. wear (0.034677)\n",
      "> #5. like (0.032786)\n",
      "topic_8\n",
      "> #1. they (0.057908)\n",
      "> #2. and (0.046328)\n",
      "> #3. shoe (0.040924)\n",
      "> #4. the (0.037836)\n",
      "> #5. for (0.033204)\n",
      "topic_9\n",
      "> #1. the (0.079512)\n",
      "> #2. and (0.062286)\n",
      "> #3. they (0.036446)\n",
      "> #4. not (0.031146)\n",
      "> #5. have (0.030484)\n",
      "topic_10\n",
      "> #1. and (0.048065)\n",
      "> #2. the (0.032774)\n",
      "> #3. these (0.024036)\n",
      "> #4. have (0.023308)\n",
      "> #5. not (0.022580)\n"
     ]
    }
   ],
   "source": [
    "model = models[\"reviews_corpus\"][0][1]\n",
    "print_ldamodel_topic_words(model.topic_word_, vocabulary(reviews_corpus), top_n=5)"
   ]
  },
  {
   "cell_type": "markdown",
   "metadata": {
    "id": "Z7Mci4DlcB64"
   },
   "source": [
    "## 💾 Save your topic model and review texts for use in Lab 2"
   ]
  },
  {
   "cell_type": "markdown",
   "metadata": {
    "id": "uk6JySzqcGIU"
   },
   "source": [
    "Once you have completed the above assignment, run the following code to save your topic model and your review texts to your Google Drive. You will load this model and use it for document classification in Lab 2."
   ]
  },
  {
   "cell_type": "code",
   "execution_count": 20,
   "metadata": {
    "id": "qVXbd0AUcJIr"
   },
   "outputs": [],
   "source": [
    "import pickle\n",
    "from tmtoolkit.topicmod.model_io import save_ldamodel_to_pickle\n",
    "\n",
    "with open(\"MSDS_HW2_model.p\", \"wb\") as modelfile:\n",
    "    save_ldamodel_to_pickle(modelfile, model, vocabulary(reviews_corpus), reviews_corpus.doc_labels, dtm=dtm(reviews_corpus))"
   ]
  },
  {
   "cell_type": "code",
   "execution_count": 21,
   "metadata": {
    "id": "PVhycwCNcL4w"
   },
   "outputs": [],
   "source": [
    "with open(\"MSDS_HW2_corpus.p\", \"wb\") as reviewsfile:\n",
    "    pickle.dump(reviews, reviewsfile)"
   ]
  },
  {
   "cell_type": "code",
   "execution_count": null,
   "metadata": {},
   "outputs": [],
   "source": []
  }
 ],
 "metadata": {
  "colab": {
   "provenance": []
  },
  "kernelspec": {
   "display_name": "Python 3 (ipykernel)",
   "language": "python",
   "name": "python3"
  },
  "language_info": {
   "codemirror_mode": {
    "name": "ipython",
    "version": 3
   },
   "file_extension": ".py",
   "mimetype": "text/x-python",
   "name": "python",
   "nbconvert_exporter": "python",
   "pygments_lexer": "ipython3",
   "version": "3.10.9"
  }
 },
 "nbformat": 4,
 "nbformat_minor": 4
}
