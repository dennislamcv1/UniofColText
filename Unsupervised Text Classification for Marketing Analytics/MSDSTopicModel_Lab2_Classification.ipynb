{
 "cells": [
  {
   "cell_type": "markdown",
   "metadata": {
    "id": "Yl3VQ2gUaRfc"
   },
   "source": [
    "## ⚡️ Make a Copy\n",
    "\n",
    "Save a copy of this notebook in your Google Drive before continuing. Be sure to edit your own copy, not the original notebook."
   ]
  },
  {
   "cell_type": "markdown",
   "metadata": {
    "id": "KSnpm_-NUd_o"
   },
   "source": [
    "In this lab, you will simply excute the code to create your classifications and your interactive LDAvis. Success in this lab depends primarily on having properly completed Homework 2."
   ]
  },
  {
   "cell_type": "markdown",
   "metadata": {
    "id": "FNDCPeJakfTf"
   },
   "source": [
    "Before continuing with this lab, be sure you have completed Homework 2 and saved your corpus and topic model to your Google Drive. They should be files in the root of your Google Drive called MSDS_HW2_corpus.p and MSDS_HW2_model.p. In this lab, you will load the model and use it for classification of documents in the corpus."
   ]
  },
  {
   "cell_type": "markdown",
   "metadata": {
    "id": "T1P537r2lWIN"
   },
   "source": [
    "Mount your Google Drive via the left sidebar controls before continuing."
   ]
  },
  {
   "cell_type": "markdown",
   "metadata": {
    "id": "dOrEvM3SYVO7"
   },
   "source": [
    "✏️  **Note:** You may need to restart the runtime after running the following imports/installs."
   ]
  },
  {
   "cell_type": "code",
   "execution_count": 1,
   "metadata": {
    "id": "naPgO-fDASS3"
   },
   "outputs": [],
   "source": [
    "import numpy as np\n",
    "import pickle\n",
    "\n",
    "import pyLDAvis\n",
    "\n",
    "import tmtoolkit\n",
    "\n",
    "from lda import LDA\n",
    "\n",
    "\n",
    "from tmtoolkit.bow.bow_stats import doc_lengths\n",
    "from tmtoolkit.topicmod.model_stats import generate_topic_labels_from_top_words\n",
    "from tmtoolkit.topicmod.model_io import ldamodel_top_doc_topics\n",
    "from tmtoolkit.topicmod.model_io import load_ldamodel_from_pickle\n",
    "from tmtoolkit.topicmod.visualize import parameters_for_ldavis"
   ]
  },
  {
   "cell_type": "markdown",
   "metadata": {
    "id": "dZC081vsOu01"
   },
   "source": [
    "## Load the saved objects"
   ]
  },
  {
   "cell_type": "markdown",
   "metadata": {
    "id": "vPZ8s4UuYuFd"
   },
   "source": [
    "Be sure that you have mounted your Google Drive and that the files are there."
   ]
  },
  {
   "cell_type": "code",
   "execution_count": 2,
   "metadata": {
    "id": "YPX2L91CHlqC"
   },
   "outputs": [],
   "source": [
    "with open(\"MSDS_HW2_corpus.p\", \"rb\") as corpusfile:\n",
    "    corpus = pickle.load(corpusfile)"
   ]
  },
  {
   "cell_type": "code",
   "execution_count": 3,
   "metadata": {
    "id": "Z0FroBCk9zKm"
   },
   "outputs": [
    {
     "data": {
      "text/plain": [
       "dict_keys(['model', 'vocab', 'doc_labels', 'dtm'])"
      ]
     },
     "execution_count": 3,
     "metadata": {},
     "output_type": "execute_result"
    }
   ],
   "source": [
    "with open(\"MSDS_HW2_model.p\", \"rb\") as modelfile:\n",
    "    model_info = load_ldamodel_from_pickle(modelfile)\n",
    "\n",
    "model_info.keys()"
   ]
  },
  {
   "cell_type": "markdown",
   "metadata": {
    "id": "nYEPjiCWPnap"
   },
   "source": [
    "## Classification"
   ]
  },
  {
   "cell_type": "markdown",
   "metadata": {
    "id": "PMg0V5QyR0R5"
   },
   "source": [
    "As seen from the keys output above, the saved model is actually a dictionary containing the model itself, along with some other resources we will need.\n",
    "\n",
    "Here, you will use those resources to create topic labels using [generate_topic_labels_from_top_words](https://tmtoolkit.readthedocs.io/en/latest/api.html#tmtoolkit.topicmod.model_stats.generate_topic_labels_from_top_words). Note that the vocabulary is provided as a list, but a numpy array is needed. Also note that the doc lengths are determined by the doc_lengths function using the saved dtm."
   ]
  },
  {
   "cell_type": "code",
   "execution_count": 4,
   "metadata": {
    "id": "wUThn--etn-n"
   },
   "outputs": [],
   "source": [
    "model = model_info[\"model\"]\n",
    "vocab = model_info[\"vocab\"]\n",
    "dtm = model_info[\"dtm\"]\n",
    "doc_labels = model_info[\"doc_labels\"]\n",
    "\n",
    "topic_labels = generate_topic_labels_from_top_words(\n",
    "    model.topic_word_,\n",
    "    model.doc_topic_,\n",
    "    doc_lengths(dtm),\n",
    "    np.array(vocab),\n",
    ")"
   ]
  },
  {
   "cell_type": "code",
   "execution_count": 5,
   "metadata": {
    "id": "Ckw-6lOcAGBe"
   },
   "outputs": [
    {
     "data": {
      "text/plain": [
       "array(['1_the_they_have_for', '2_and_have_the_good',\n",
       "       '3_they_and_the_these', '4_they_the_and_these',\n",
       "       '5_the_not_this_have', '6_the_and_they_sock',\n",
       "       '7_they_size_and_wear', '8_they_and_shoe_the',\n",
       "       '9_the_and_they_not', '10_and_the_these_have'], dtype='<U21')"
      ]
     },
     "execution_count": 5,
     "metadata": {},
     "output_type": "execute_result"
    }
   ],
   "source": [
    "topic_labels"
   ]
  },
  {
   "cell_type": "markdown",
   "metadata": {
    "id": "s5HnccNyT3Ix"
   },
   "source": [
    "Document classifications can be retrieved via [ldamodel_top_doc_topics](https://tmtoolkit.readthedocs.io/en/latest/api.html?highlight=ldamodel_top_doc_topics#tmtoolkit.topicmod.model_io.ldamodel_top_doc_topics)"
   ]
  },
  {
   "cell_type": "code",
   "execution_count": 6,
   "metadata": {
    "id": "PdF3sNdNA0TS"
   },
   "outputs": [],
   "source": [
    "doc_topic = model.doc_topic_\n",
    "documentclassifications = ldamodel_top_doc_topics(doc_topic, doc_labels, top_n=2, topic_labels=topic_labels)"
   ]
  },
  {
   "cell_type": "code",
   "execution_count": 7,
   "metadata": {
    "id": "zlzDDyEdDC4A"
   },
   "outputs": [
    {
     "data": {
      "text/html": [
       "<div>\n",
       "<style scoped>\n",
       "    .dataframe tbody tr th:only-of-type {\n",
       "        vertical-align: middle;\n",
       "    }\n",
       "\n",
       "    .dataframe tbody tr th {\n",
       "        vertical-align: top;\n",
       "    }\n",
       "\n",
       "    .dataframe thead th {\n",
       "        text-align: right;\n",
       "    }\n",
       "</style>\n",
       "<table border=\"1\" class=\"dataframe\">\n",
       "  <thead>\n",
       "    <tr style=\"text-align: right;\">\n",
       "      <th></th>\n",
       "      <th>rank_1</th>\n",
       "      <th>rank_2</th>\n",
       "    </tr>\n",
       "    <tr>\n",
       "      <th>document</th>\n",
       "      <th></th>\n",
       "      <th></th>\n",
       "    </tr>\n",
       "  </thead>\n",
       "  <tbody>\n",
       "    <tr>\n",
       "      <th>0</th>\n",
       "      <td>8_they_and_shoe_the (0.5403)</td>\n",
       "      <td>6_the_and_they_sock (0.2181)</td>\n",
       "    </tr>\n",
       "    <tr>\n",
       "      <th>1</th>\n",
       "      <td>2_and_have_the_good (0.4228)</td>\n",
       "      <td>3_they_and_the_these (0.3386)</td>\n",
       "    </tr>\n",
       "    <tr>\n",
       "      <th>2</th>\n",
       "      <td>10_and_the_these_have (0.3532)</td>\n",
       "      <td>3_they_and_the_these (0.2358)</td>\n",
       "    </tr>\n",
       "    <tr>\n",
       "      <th>3</th>\n",
       "      <td>1_the_they_have_for (0.6844)</td>\n",
       "      <td>5_the_not_this_have (0.2872)</td>\n",
       "    </tr>\n",
       "    <tr>\n",
       "      <th>4</th>\n",
       "      <td>6_the_and_they_sock (0.6117)</td>\n",
       "      <td>4_they_the_and_these (0.2056)</td>\n",
       "    </tr>\n",
       "  </tbody>\n",
       "</table>\n",
       "</div>"
      ],
      "text/plain": [
       "                                  rank_1                         rank_2\n",
       "document                                                               \n",
       "0           8_they_and_shoe_the (0.5403)   6_the_and_they_sock (0.2181)\n",
       "1           2_and_have_the_good (0.4228)  3_they_and_the_these (0.3386)\n",
       "2         10_and_the_these_have (0.3532)  3_they_and_the_these (0.2358)\n",
       "3           1_the_they_have_for (0.6844)   5_the_not_this_have (0.2872)\n",
       "4           6_the_and_they_sock (0.6117)  4_they_the_and_these (0.2056)"
      ]
     },
     "execution_count": 7,
     "metadata": {},
     "output_type": "execute_result"
    }
   ],
   "source": [
    "documentclassifications.head()"
   ]
  },
  {
   "cell_type": "markdown",
   "metadata": {
    "id": "ZqY9TMqAPgXC"
   },
   "source": [
    "### Attach the original corpus texts to the dataframe"
   ]
  },
  {
   "cell_type": "markdown",
   "metadata": {
    "id": "b5LXvvWDULps"
   },
   "source": [
    "Finally, include the corpus texts in the frame in order to see the text alongside the topics."
   ]
  },
  {
   "cell_type": "code",
   "execution_count": 8,
   "metadata": {
    "id": "sejQHEKPE9YO"
   },
   "outputs": [
    {
     "data": {
      "text/html": [
       "<div>\n",
       "<style scoped>\n",
       "    .dataframe tbody tr th:only-of-type {\n",
       "        vertical-align: middle;\n",
       "    }\n",
       "\n",
       "    .dataframe tbody tr th {\n",
       "        vertical-align: top;\n",
       "    }\n",
       "\n",
       "    .dataframe thead th {\n",
       "        text-align: right;\n",
       "    }\n",
       "</style>\n",
       "<table border=\"1\" class=\"dataframe\">\n",
       "  <thead>\n",
       "    <tr style=\"text-align: right;\">\n",
       "      <th></th>\n",
       "      <th>rank_1</th>\n",
       "      <th>rank_2</th>\n",
       "      <th>text</th>\n",
       "    </tr>\n",
       "    <tr>\n",
       "      <th>document</th>\n",
       "      <th></th>\n",
       "      <th></th>\n",
       "      <th></th>\n",
       "    </tr>\n",
       "  </thead>\n",
       "  <tbody>\n",
       "    <tr>\n",
       "      <th>0</th>\n",
       "      <td>8_they_and_shoe_the (0.5403)</td>\n",
       "      <td>6_the_and_they_sock (0.2181)</td>\n",
       "      <td>bought these for supportive shoes after our da...</td>\n",
       "    </tr>\n",
       "    <tr>\n",
       "      <th>1</th>\n",
       "      <td>2_and_have_the_good (0.4228)</td>\n",
       "      <td>3_they_and_the_these (0.3386)</td>\n",
       "      <td>I was a little hesitant about buying sneakers ...</td>\n",
       "    </tr>\n",
       "    <tr>\n",
       "      <th>2</th>\n",
       "      <td>10_and_the_these_have (0.3532)</td>\n",
       "      <td>3_they_and_the_these (0.2358)</td>\n",
       "      <td>I have a lot of pairs of running shoes, and th...</td>\n",
       "    </tr>\n",
       "    <tr>\n",
       "      <th>3</th>\n",
       "      <td>1_the_they_have_for (0.6844)</td>\n",
       "      <td>5_the_not_this_have (0.2872)</td>\n",
       "      <td>My husband said they are very comfortable and ...</td>\n",
       "    </tr>\n",
       "    <tr>\n",
       "      <th>4</th>\n",
       "      <td>6_the_and_they_sock (0.6117)</td>\n",
       "      <td>4_they_the_and_these (0.2056)</td>\n",
       "      <td>Very nice shoes...my son loved the color and c...</td>\n",
       "    </tr>\n",
       "  </tbody>\n",
       "</table>\n",
       "</div>"
      ],
      "text/plain": [
       "                                  rank_1                         rank_2  \\\n",
       "document                                                                  \n",
       "0           8_they_and_shoe_the (0.5403)   6_the_and_they_sock (0.2181)   \n",
       "1           2_and_have_the_good (0.4228)  3_they_and_the_these (0.3386)   \n",
       "2         10_and_the_these_have (0.3532)  3_they_and_the_these (0.2358)   \n",
       "3           1_the_they_have_for (0.6844)   5_the_not_this_have (0.2872)   \n",
       "4           6_the_and_they_sock (0.6117)  4_they_the_and_these (0.2056)   \n",
       "\n",
       "                                                       text  \n",
       "document                                                     \n",
       "0         bought these for supportive shoes after our da...  \n",
       "1         I was a little hesitant about buying sneakers ...  \n",
       "2         I have a lot of pairs of running shoes, and th...  \n",
       "3         My husband said they are very comfortable and ...  \n",
       "4         Very nice shoes...my son loved the color and c...  "
      ]
     },
     "execution_count": 8,
     "metadata": {},
     "output_type": "execute_result"
    }
   ],
   "source": [
    "documentclassifications[\"text\"] = corpus\n",
    "documentclassifications.head()"
   ]
  },
  {
   "cell_type": "markdown",
   "metadata": {
    "id": "u4g5oKuuPsIX"
   },
   "source": [
    "## Visualization"
   ]
  },
  {
   "cell_type": "markdown",
   "metadata": {
    "id": "av9eYGngQmBj"
   },
   "source": [
    "[pyLDAvis](https://pyldavis.readthedocs.io/en/latest/readme.html) is a Python port of the LDAvis package in R, and is used as a tool for interpreting the topics in a topic model that has been fit to a corpus of text data."
   ]
  },
  {
   "cell_type": "markdown",
   "metadata": {
    "id": "nlEWzZjiRBMP"
   },
   "source": [
    "Execute the following code to create an interactive visualization of your topic model."
   ]
  },
  {
   "cell_type": "code",
   "execution_count": 9,
   "metadata": {
    "id": "FaUssC2ZDs_I"
   },
   "outputs": [],
   "source": [
    "ldavis_params = parameters_for_ldavis(\n",
    "    model.topic_word_,\n",
    "    model.doc_topic_,\n",
    "    dtm,\n",
    "    vocab\n",
    ")"
   ]
  },
  {
   "cell_type": "code",
   "execution_count": 10,
   "metadata": {
    "id": "CqzNrjjUFdqa"
   },
   "outputs": [
    {
     "name": "stderr",
     "output_type": "stream",
     "text": [
      "C:\\Users\\Dennis\\anaconda3\\lib\\site-packages\\pyLDAvis\\_prepare.py:232: FutureWarning: In a future version of pandas all arguments of DataFrame.drop except for the argument 'labels' will be keyword-only.\n",
      "  head(R).drop('saliency', 1)\n",
      "C:\\Users\\Dennis\\anaconda3\\lib\\site-packages\\pandas\\core\\dtypes\\cast.py:1641: DeprecationWarning: np.find_common_type is deprecated.  Please use `np.result_type` or `np.promote_types`.\n",
      "See https://numpy.org/devdocs/release/1.25.0-notes.html and the docs for more information.  (Deprecated NumPy 1.25)\n",
      "  return np.find_common_type(types, [])\n",
      "C:\\Users\\Dennis\\anaconda3\\lib\\site-packages\\pandas\\core\\dtypes\\cast.py:1641: DeprecationWarning: np.find_common_type is deprecated.  Please use `np.result_type` or `np.promote_types`.\n",
      "See https://numpy.org/devdocs/release/1.25.0-notes.html and the docs for more information.  (Deprecated NumPy 1.25)\n",
      "  return np.find_common_type(types, [])\n"
     ]
    },
    {
     "data": {
      "text/html": [
       "\n",
       "<link rel=\"stylesheet\" type=\"text/css\" href=\"https://cdn.rawgit.com/bmabey/pyLDAvis/files/ldavis.v1.0.0.css\">\n",
       "\n",
       "\n",
       "<div id=\"ldavis_el454828160137638565884411285\"></div>\n",
       "<script type=\"text/javascript\">\n",
       "\n",
       "var ldavis_el454828160137638565884411285_data = {\"mdsDat\": {\"x\": [-0.022225282006812577, -0.08190933498006471, 0.07715546812650215, 0.07699245058071534, -0.24052663971567748, 0.0023987175581624562, 0.1966496207851539, 0.1707415419186249, -0.06989337113043469, -0.10938317113616897], \"y\": [-0.12613168721596213, -0.022603514231833943, 0.042163643505064005, 0.12177399694630667, 0.1075272218068909, 0.07239745441705352, -0.0054901998972638555, -0.055493071649209164, 0.10857118543262095, -0.24271502911366646], \"topics\": [1, 2, 3, 4, 5, 6, 7, 8, 9, 10], \"cluster\": [1, 1, 1, 1, 1, 1, 1, 1, 1, 1], \"Freq\": [9.22543211320051, 9.8212135400384, 12.263382701163856, 8.915008103749653, 10.398797781909828, 10.17698435434517, 10.763753415929205, 8.80948059031014, 10.27773764057407, 9.34820975877917]}, \"tinfo\": {\"Term\": [\"wear\", \"have\", \"they\", \"size\", \"not\", \"like\", \"foot\", \"this\", \"fit\", \"sock\", \"very\", \"with\", \"the\", \"you\", \"but\", \"look\", \"and\", \"love\", \"great\", \"good\", \"just\", \"use\", \"get\", \"buy\", \"that\", \"these\", \"feel\", \"run\", \"really\", \"sneaker\", \"off\", \"hard\", \"ago\", \"local\", \"inside\", \"next\", \"dart\", \"such\", \"along\", \"etc\", \"choose\", \"spot\", \"ten\", \"width\", \"insole\", \"step\", \"fabric\", \"impressed\", \"suggest\", \"travel\", \"hubby\", \"morning\", \"absorb\", \"whatever\", \"excelente\", \"hey\", \"2012\", \"llego\", \"arrival\", \"como\", \"store\", \"since\", \"right\", \"month\", \"pain\", \"blister\", \"say\", \"put\", \"with\", \"bad\", \"size\", \"use\", \"get\", \"have\", \"about\", \"need\", \"walk\", \"for\", \"wear\", \"great\", \"they\", \"the\", \"feel\", \"husband\", \"not\", \"and\", \"buy\", \"that\", \"really\", \"comfortable\", \"but\", \"would\", \"how\", \"far\", \"kind\", \"week\", \"several\", \"stylish\", \"extremely\", \"nicely\", \"sporty\", \"plus\", \"important\", \"combination\", \"crew\", \"open\", \"dark\", \"already\", \"absolutely\", \"save\", \"together\", \"65\", \"surface\", \"favorite\", \"family\", \"elsewhere\", \"steal\", \"space\", \"foam\", \"five\", \"marathon\", \"beautifully\", \"directly\", \"rave\", \"happy\", \"mess\", \"hit\", \"ever\", \"compartment\", \"sneaker\", \"good\", \"comfort\", \"perfect\", \"any\", \"light\", \"show\", \"keep\", \"look\", \"have\", \"and\", \"different\", \"all\", \"just\", \"nike\", \"this\", \"nice\", \"love\", \"the\", \"return\", \"price\", \"use\", \"they\", \"these\", \"not\", \"for\", \"fit\", \"well\", \"shoe\", \"feel\", \"great\", \"though\", \"highly\", \"casual\", \"might\", \"blue\", \"nylon\", \"cortez\", \"tennis\", \"shipping\", \"padding\", \"warm\", \"29\", \"present\", \"dog\", \"kid\", \"real\", \"center\", \"decent\", \"everywhere\", \"monarch\", \"okay\", \"cushy\", \"build\", \"boot\", \"sore\", \"retail\", \"alot\", \"girlfriend\", \"walking\", \"scary\", \"kinda\", \"construct\", \"silly\", \"business\", \"least\", \"properly\", \"way\", \"material\", \"picture\", \"after\", \"last\", \"hour\", \"anyone\", \"leather\", \"under\", \"men\", \"run\", \"year\", \"they\", \"big\", \"walk\", \"with\", \"your\", \"when\", \"these\", \"and\", \"for\", \"foot\", \"because\", \"but\", \"the\", \"use\", \"fit\", \"shoe\", \"comfortable\", \"love\", \"little\", \"great\", \"well\", \"look\", \"buy\", \"all\", \"very\", \"order\", \"would\", \"good\", \"lace\", \"actually\", \"ankle\", \"man\", \"reason\", \"navy\", \"adidas\", \"barely\", \"instep\", \"package\", \"online\", \"lose\", \"breathable\", \"low\", \"plastic\", \"lol\", \"lite\", \"company\", \"rather\", \"settle\", \"fat\", \"shade\", \"current\", \"construction\", \"result\", \"bother\", \"replace\", \"total\", \"anticipate\", \"head\", \"upper\", \"single\", \"layer\", \"description\", \"outsole\", \"unglued\", \"mesh\", \"impact\", \"sized\", \"ive\", \"worried\", \"sure\", \"problem\", \"again\", \"white\", \"woman\", \"bright\", \"lightweight\", \"few\", \"worth\", \"help\", \"amazon\", \"super\", \"light\", \"fit\", \"they\", \"perfectly\", \"their\", \"these\", \"the\", \"other\", \"and\", \"shoe\", \"like\", \"look\", \"not\", \"foot\", \"more\", \"that\", \"well\", \"out\", \"buy\", \"run\", \"you\", \"for\", \"when\", \"recommend\", \"now\", \"review\", \"narrow\", \"pack\", \"pretty\", \"leave\", \"normally\", \"calf\", \"overall\", \"whole\", \"item\", \"due\", \"amazing\", \"leg\", \"mind\", \"cause\", \"otherwise\", \"point\", \"towel\", \"trash\", \"regret\", \"game\", \"stuff\", \"grip\", \"anymore\", \"glad\", \"definately\", \"deserve\", \"best\", \"guy\", \"label\", \"case\", \"wonderful\", \"bag\", \"take\", \"heel\", \"could\", \"cushion\", \"product\", \"know\", \"this\", \"little\", \"only\", \"here\", \"foot\", \"not\", \"the\", \"make\", \"time\", \"just\", \"high\", \"over\", \"really\", \"most\", \"have\", \"but\", \"you\", \"for\", \"sock\", \"when\", \"that\", \"shoe\", \"purchase\", \"fit\", \"your\", \"tell\", \"send\", \"boy\", \"maybe\", \"100\", \"pull\", \"where\", \"finally\", \"add\", \"squeeze\", \"gold\", \"distance\", \"suppose\", \"sweaty\", \"shift\", \"vary\", \"level\", \"average\", \"teenager\", \"stroke\", \"street\", \"pick\", \"bend\", \"exercise\", \"amazone\", \"pound\", \"toiletry\", \"date\", \"protection\", \"absolute\", \"our\", \"grey\", \"cotton\", \"everyone\", \"toe\", \"slight\", \"reviewer\", \"sock\", \"fan\", \"feel\", \"bit\", \"sport\", \"daughter\", \"down\", \"expensive\", \"supportive\", \"slide\", \"because\", \"you\", \"recommend\", \"from\", \"really\", \"color\", \"which\", \"comfortable\", \"what\", \"find\", \"one\", \"the\", \"very\", \"but\", \"this\", \"shoe\", \"great\", \"nike\", \"foot\", \"would\", \"and\", \"that\", \"they\", \"like\", \"for\", \"get\", \"love\", \"have\", \"with\", \"these\", \"run\", \"almost\", \"wash\", \"boyfriend\", \"although\", \"wrong\", \"base\", \"somewhat\", \"else\", \"gray\", \"couple\", \"trip\", \"full\", \"once\", \"ride\", \"fashion\", \"unlike\", \"body\", \"squat\", \"hear\", \"range\", \"compress\", \"nephew\", \"unusual\", \"fall\", \"shrink\", \"early\", \"adjust\", \"plenty\", \"bed\", \"grow\", \"then\", \"collection\", \"glue\", \"another\", \"syle\", \"appreciate\", \"pinch\", \"who\", \"cardio\", \"gift\", \"uncomfortable\", \"true\", \"try\", \"especially\", \"find\", \"awesome\", \"size\", \"tight\", \"like\", \"wear\", \"before\", \"snug\", \"very\", \"buy\", \"that\", \"sock\", \"too\", \"fit\", \"they\", \"nike\", \"these\", \"sneaker\", \"big\", \"will\", \"and\", \"love\", \"for\", \"shoe\", \"would\", \"run\", \"comfortable\", \"not\", \"with\", \"say\", \"air\", \"issue\", \"box\", \"stand\", \"cushioning\", \"less\", \"women\", \"tend\", \"selection\", \"shirt\", \"check\", \"place\", \"daily\", \"plan\", \"lebron\", \"50\", \"hurt\", \"asics\", \"huge\", \"similar\", \"rubber\", \"mention\", \"shock\", \"ship\", \"initially\", \"prove\", \"sticky\", \"sweat\", \"bring\", \"match\", \"awhile\", \"glow\", \"penny\", \"alone\", \"significant\", \"lasting\", \"cusion\", \"why\", \"bra\", \"gym\", \"own\", \"gear\", \"describe\", \"sizing\", \"free\", \"area\", \"able\", \"day\", \"much\", \"more\", \"pair\", \"pegasus\", \"want\", \"order\", \"definitely\", \"out\", \"very\", \"other\", \"shoe\", \"they\", \"come\", \"nice\", \"for\", \"these\", \"and\", \"wear\", \"you\", \"the\", \"love\", \"great\", \"comfortable\", \"buy\", \"seem\", \"well\", \"all\", \"one\", \"will\", \"flop\", \"side\", \"thank\", \"house\", \"water\", \"summer\", \"max\", \"school\", \"mom\", \"bottom\", \"shower\", \"compliment\", \"squeak\", \"enjoy\", \"everyday\", \"stretch\", \"unfortunately\", \"grandson\", \"patricia\", \"hate\", \"sol\", \"write\", \"set\", \"flat\", \"significantly\", \"classic\", \"pink\", \"consider\", \"care\", \"experience\", \"flip\", \"regular\", \"every\", \"see\", \"new\", \"she\", \"comfy\", \"long\", \"soft\", \"too\", \"than\", \"the\", \"and\", \"style\", \"but\", \"not\", \"have\", \"lot\", \"they\", \"will\", \"around\", \"bit\", \"like\", \"color\", \"one\", \"expect\", \"year\", \"good\", \"which\", \"comfortable\", \"look\", \"this\", \"that\", \"about\", \"shoe\", \"these\", \"would\", \"thin\", \"model\", \"star\", \"balance\", \"short\", \"must\", \"each\", \"workout\", \"delivery\", \"room\", \"anything\", \"previous\", \"edge\", \"away\", \"rub\", \"during\", \"slightly\", \"version\", \"cut\", \"breath\", \"surprise\", \"wife\", \"develop\", \"slip\", \"close\", \"weird\", \"padded\", \"job\", \"compra\", \"satisfied\", \"activity\", \"someone\", \"black\", \"customer\", \"cost\", \"red\", \"should\", \"give\", \"top\", \"support\", \"money\", \"cheap\", \"two\", \"may\", \"back\", \"something\", \"running\", \"need\", \"price\", \"there\", \"can\", \"and\", \"wear\", \"pair\", \"just\", \"fine\", \"nike\", \"not\", \"have\", \"these\", \"the\", \"than\", \"get\", \"that\", \"shoe\", \"you\", \"for\", \"but\", \"well\", \"work\"], \"Freq\": [140.0, 279.0, 590.0, 130.0, 244.0, 124.0, 127.0, 149.0, 141.0, 110.0, 144.0, 135.0, 714.0, 114.0, 173.0, 92.0, 636.0, 119.0, 125.0, 93.0, 75.0, 59.0, 87.0, 120.0, 175.0, 308.0, 54.0, 90.0, 55.0, 46.0, 15.834173808512253, 11.87810290070157, 11.87810290070157, 9.90006744679623, 9.90006744679623, 7.922031992890889, 6.933014265938219, 5.943996538985549, 5.943996538985549, 4.954978812032878, 4.954978812032878, 4.954978812032878, 4.954978812032878, 4.954978812032878, 3.965961085080208, 3.965961085080208, 3.965961085080208, 2.9769433581275373, 2.9769433581275373, 2.9769433581275373, 2.9769433581275373, 2.9769433581275373, 2.9769433581275373, 2.9769433581275373, 2.9769433581275373, 2.9769433581275373, 2.9769433581275373, 2.9769433581275373, 2.9769433581275373, 2.9769433581275373, 19.790244716322935, 13.856138354606912, 14.845156081559582, 12.86712062765424, 9.90006744679623, 4.954978812032878, 21.768280170228277, 11.87810290070157, 47.4827410709977, 9.90006744679623, 43.52667016318702, 23.746315624133615, 28.691404258896966, 53.41684743271372, 15.834173808512253, 14.845156081559582, 17.812209262417593, 51.43881197880839, 30.66943971280231, 28.691404258896966, 55.394882886619065, 59.35095379442974, 15.834173808512253, 10.8890851737489, 26.713368804991628, 35.61452834756565, 18.801226989370264, 20.779262443275606, 13.856138354606912, 15.834173808512253, 12.86712062765424, 11.87810290070157, 15.774353716085253, 11.833228490330034, 9.862665877452427, 8.877384571013623, 8.877384571013623, 7.8921032645748195, 7.8921032645748195, 5.921540651697211, 3.9509780388196036, 3.9509780388196036, 3.9509780388196036, 3.9509780388196036, 3.9509780388196036, 3.9509780388196036, 3.9509780388196036, 3.9509780388196036, 3.9509780388196036, 2.9656967323808, 2.9656967323808, 2.9656967323808, 2.9656967323808, 2.9656967323808, 2.9656967323808, 2.9656967323808, 2.9656967323808, 2.9656967323808, 2.9656967323808, 1.9804154259419957, 1.9804154259419957, 1.9804154259419957, 1.9804154259419957, 1.9804154259419957, 20.70076024827927, 1.9804154259419957, 1.9804154259419957, 8.877384571013623, 1.9804154259419957, 26.612448086912096, 42.376948989932956, 10.84794718389123, 18.730197635401662, 12.818509796768838, 16.759635022524055, 5.921540651697211, 11.833228490330034, 32.52413592554492, 67.99426295734186, 108.39079652133283, 9.862665877452427, 18.730197635401662, 20.70076024827927, 28.583010699789703, 29.568292006228507, 14.789072409646446, 24.64188547403449, 59.12673119939262, 8.877384571013623, 13.803791103207642, 14.789072409646446, 38.43582376417774, 28.583010699789703, 24.64188547403449, 26.612448086912096, 19.715478941840466, 17.74491632896286, 23.656604167595685, 13.803791103207642, 13.803791103207642, 13.804921522375372, 9.863473550248212, 8.878111557216423, 8.878111557216423, 7.8927495641846335, 7.8927495641846335, 6.907387571152844, 5.922025578121055, 4.936663585089264, 4.936663585089264, 4.936663585089264, 4.936663585089264, 4.936663585089264, 4.936663585089264, 3.9513015920574754, 3.9513015920574754, 3.9513015920574754, 3.9513015920574754, 3.9513015920574754, 3.9513015920574754, 2.965939599025686, 2.965939599025686, 2.965939599025686, 2.965939599025686, 2.965939599025686, 2.965939599025686, 2.965939599025686, 2.965939599025686, 1.9805776059938964, 1.9805776059938964, 1.9805776059938964, 1.9805776059938964, 1.9805776059938964, 1.9805776059938964, 1.9805776059938964, 1.9805776059938964, 15.775645508438952, 11.834197536311791, 8.878111557216423, 17.74636949450253, 16.76100750147074, 8.878111557216423, 6.907387571152844, 7.8927495641846335, 4.936663585089264, 4.936663585089264, 37.45360935513832, 16.76100750147074, 134.01908467225368, 14.790283515407161, 20.702455473597897, 38.43897134817011, 16.76100750147074, 22.673179459661476, 61.102297187901264, 93.61924295795032, 57.160849215774114, 33.51216138301116, 19.71709348056611, 39.424333341201894, 88.69243299279138, 20.702455473597897, 32.526799389979374, 46.32186729242442, 29.570713410884007, 27.599989424820425, 15.775645508438952, 25.629265438756846, 22.673179459661476, 18.731731487534322, 19.71709348056611, 15.775645508438952, 18.731731487534322, 15.775645508438952, 15.775645508438952, 15.775645508438952, 11.872614463782392, 11.872614463782392, 6.929810773614869, 4.952689297547859, 4.952689297547859, 3.9641285595143536, 3.9641285595143536, 3.9641285595143536, 3.9641285595143536, 3.9641285595143536, 3.9641285595143536, 3.9641285595143536, 3.9641285595143536, 3.9641285595143536, 2.975567821480849, 2.975567821480849, 2.975567821480849, 2.975567821480849, 2.975567821480849, 2.975567821480849, 2.975567821480849, 2.975567821480849, 2.975567821480849, 2.975567821480849, 2.975567821480849, 2.975567821480849, 2.975567821480849, 1.9870070834473443, 1.9870070834473443, 1.9870070834473443, 1.9870070834473443, 1.9870070834473443, 1.9870070834473443, 1.9870070834473443, 1.9870070834473443, 1.9870070834473443, 7.918371511648373, 1.9870070834473443, 1.9870070834473443, 1.9870070834473443, 1.9870070834473443, 11.872614463782392, 13.849735939849403, 8.906932249681878, 8.906932249681878, 7.918371511648373, 6.929810773614869, 6.929810773614869, 8.906932249681878, 9.895492987715382, 4.952689297547859, 10.884053725748888, 8.906932249681878, 16.815418153949917, 38.563754390687016, 97.87739867269731, 8.906932249681878, 8.906932249681878, 50.42648324708908, 82.06042686416123, 15.826857415916413, 67.23201579365866, 42.51799734282103, 25.71246479625146, 21.758221844117443, 34.609511438553, 23.73534332018445, 14.838296677882907, 23.73534332018445, 18.79253963001693, 13.849735939849403, 17.803978891983423, 15.826857415916413, 13.849735939849403, 14.838296677882907, 10.884053725748888, 9.895492987715382, 14.848880549746323, 12.870348830926028, 12.870348830926028, 10.89181711210573, 9.902551252695583, 8.913285393285435, 8.913285393285435, 6.934753674465139, 6.934753674465139, 4.956221955644843, 4.956221955644843, 4.956221955644843, 4.956221955644843, 4.956221955644843, 4.956221955644843, 4.956221955644843, 4.956221955644843, 4.956221955644843, 3.966956096234694, 3.966956096234694, 3.966956096234694, 3.966956096234694, 3.966956096234694, 3.966956096234694, 2.9776902368245457, 2.9776902368245457, 2.9776902368245457, 2.9776902368245457, 2.9776902368245457, 2.9776902368245457, 2.9776902368245457, 2.9776902368245457, 2.9776902368245457, 26.720070862668102, 12.870348830926028, 12.870348830926028, 8.913285393285435, 13.859614690336176, 14.848880549746323, 15.838146409156474, 58.37657836379284, 20.784475706207214, 16.827412268566622, 6.934753674465139, 43.537590472640616, 66.29070523907403, 122.67885922545248, 24.74153914384781, 18.805943987386918, 26.720070862668102, 10.89181711210573, 10.89181711210573, 21.773741565617364, 10.89181711210573, 44.52685633205076, 30.677134300308698, 24.74153914384781, 32.65566601912899, 20.784475706207214, 16.827412268566622, 19.795209846797068, 21.773741565617364, 12.870348830926028, 16.827412268566622, 11.881082971515879, 9.872307432023671, 5.927329437209018, 5.927329437209018, 4.941084938505354, 3.9548404398016905, 3.9548404398016905, 3.9548404398016905, 3.9548404398016905, 3.9548404398016905, 2.968595941098027, 2.968595941098027, 2.968595941098027, 2.968595941098027, 2.968595941098027, 2.968595941098027, 1.9823514423943636, 1.9823514423943636, 1.9823514423943636, 1.9823514423943636, 1.9823514423943636, 1.9823514423943636, 1.9823514423943636, 1.9823514423943636, 1.9823514423943636, 1.9823514423943636, 1.9823514423943636, 1.9823514423943636, 1.9823514423943636, 1.9823514423943636, 1.9823514423943636, 10.858551930727334, 1.9823514423943636, 1.9823514423943636, 7.8998184346163445, 18.748507920356644, 1.9823514423943636, 1.9823514423943636, 45.37710938535556, 3.9548404398016905, 24.665974912578623, 13.817285426838325, 8.886062933320007, 7.8998184346163445, 4.941084938505354, 4.941084938505354, 5.927329437209018, 8.886062933320007, 20.720996917763973, 34.52841989961526, 17.76226342165298, 12.831040928134662, 19.734752419060307, 17.76226342165298, 13.817285426838325, 33.542175400911596, 12.831040928134662, 13.817285426838325, 18.748507920356644, 82.85440033609477, 31.569686403504267, 31.569686403504267, 28.61095290739328, 41.4321313905409, 25.652219411282292, 26.638463909985955, 25.652219411282292, 20.720996917763973, 53.26706537498487, 28.61095290739328, 49.32208738017021, 22.693485915171298, 32.55593090220793, 18.748507920356644, 19.734752419060307, 24.665974912578623, 18.748507920356644, 21.707241416467635, 16.77601892294932, 10.854764311807664, 6.911162381995616, 6.911162381995616, 5.925261899542603, 5.925261899542603, 4.939361417089591, 4.939361417089591, 4.939361417089591, 3.9534609346365785, 3.9534609346365785, 3.9534609346365785, 3.9534609346365785, 2.967560452183567, 2.967560452183567, 2.967560452183567, 2.967560452183567, 2.967560452183567, 2.967560452183567, 2.967560452183567, 2.967560452183567, 2.967560452183567, 2.967560452183567, 2.967560452183567, 2.967560452183567, 2.967560452183567, 2.967560452183567, 1.9816599697305544, 1.9816599697305544, 1.9816599697305544, 1.9816599697305544, 16.77016720652574, 1.9816599697305544, 1.9816599697305544, 19.727868653884777, 1.9816599697305544, 1.9816599697305544, 1.9816599697305544, 12.826565276713687, 1.9816599697305544, 11.840664794260677, 6.911162381995616, 14.798366241619712, 23.671470583696824, 5.925261899542603, 22.685570101243812, 10.854764311807664, 56.206186504646226, 17.75606768897875, 51.27668409238116, 54.2343855397402, 8.88296334690164, 5.925261899542603, 40.43177878539803, 35.502276373132965, 44.37538071521008, 30.57277396086791, 18.74196817143176, 33.53047540822694, 77.8959971186125, 31.558674443320918, 48.318982645022125, 16.77016720652574, 12.826565276713687, 18.74196817143176, 54.2343855397402, 24.657371066149835, 32.54457492577393, 26.62917203105586, 16.77016720652574, 14.798366241619712, 14.798366241619712, 14.798366241619712, 13.8124657591667, 12.826565276713687, 14.832447945619403, 12.85610578097991, 8.903421451700922, 6.927079287061427, 5.93890820474168, 4.950737122421933, 3.962566040102186, 3.962566040102186, 3.962566040102186, 3.962566040102186, 3.962566040102186, 3.962566040102186, 2.9743949577824385, 2.9743949577824385, 2.9743949577824385, 2.9743949577824385, 2.9743949577824385, 2.9743949577824385, 2.9743949577824385, 2.9743949577824385, 2.9743949577824385, 2.9743949577824385, 1.9862238754626917, 1.9862238754626917, 1.9862238754626917, 1.9862238754626917, 1.9862238754626917, 1.9862238754626917, 1.9862238754626917, 1.9862238754626917, 1.9862238754626917, 1.9862238754626917, 1.9862238754626917, 1.9862238754626917, 1.9862238754626917, 1.9862238754626917, 1.9862238754626917, 7.915250369381174, 6.927079287061427, 15.820619027939152, 5.93890820474168, 1.9862238754626917, 4.950737122421933, 4.950737122421933, 4.950737122421933, 6.927079287061427, 6.927079287061427, 21.749645521857634, 12.85610578097991, 24.714158768816876, 34.595869592014346, 5.93890820474168, 15.820619027939152, 24.714158768816876, 9.891592534020669, 22.737816604177382, 35.58404067433409, 16.8087901102589, 52.382949073769794, 74.12271288480424, 10.879763616340416, 14.832447945619403, 42.50123825057232, 40.524896085932824, 59.300146650008024, 25.70232985113662, 21.749645521857634, 48.430264744490806, 20.76147443953789, 20.76147443953789, 20.76147443953789, 18.785132274898395, 9.891592534020669, 13.844276863299656, 11.867934698660163, 10.879763616340416, 10.879763616340416, 17.819264432102212, 12.872217116138241, 8.914579263367068, 8.914579263367068, 8.914579263367068, 7.925169800174275, 7.925169800174275, 7.925169800174275, 7.925169800174275, 7.925169800174275, 5.946350873788688, 5.946350873788688, 5.946350873788688, 5.946350873788688, 4.956941410595895, 4.956941410595895, 4.956941410595895, 3.9675319474031014, 3.9675319474031014, 3.9675319474031014, 3.9675319474031014, 3.9675319474031014, 3.9675319474031014, 2.978122484210308, 2.978122484210308, 2.978122484210308, 2.978122484210308, 2.978122484210308, 2.978122484210308, 2.978122484210308, 15.840445505716625, 2.978122484210308, 9.903988726559861, 14.851036042523829, 17.819264432102212, 30.681587453608525, 14.851036042523829, 14.851036042523829, 10.893398189752656, 23.75572121125897, 20.78749282168059, 118.73902967776715, 93.01438363475451, 8.914579263367068, 39.586272622343664, 46.51213886469321, 45.52272940150042, 10.893398189752656, 54.42741457023556, 18.808673895295005, 11.882807652945447, 11.882807652945447, 22.766311748066176, 14.851036042523829, 15.840445505716625, 10.893398189752656, 11.882807652945447, 14.851036042523829, 11.882807652945447, 15.840445505716625, 13.861626579331034, 14.851036042523829, 14.851036042523829, 11.882807652945447, 12.872217116138241, 12.872217116138241, 11.882807652945447, 10.889383988113817, 8.91129425366989, 8.91129425366989, 7.922249386447926, 6.933204519225964, 6.933204519225964, 6.933204519225964, 6.933204519225964, 5.944159652004, 5.944159652004, 5.944159652004, 5.944159652004, 5.944159652004, 5.944159652004, 4.955114784782037, 4.955114784782037, 4.955114784782037, 3.9660699175600733, 3.9660699175600733, 3.9660699175600733, 2.97702505033811, 2.97702505033811, 2.97702505033811, 2.97702505033811, 2.97702505033811, 2.97702505033811, 2.97702505033811, 2.97702505033811, 2.97702505033811, 2.97702505033811, 2.97702505033811, 2.97702505033811, 13.856518589779709, 2.97702505033811, 2.97702505033811, 8.91129425366989, 12.867473722557744, 18.801742925889528, 14.84556345700167, 27.703146730887195, 10.889383988113817, 16.8236531914456, 9.900339120891854, 5.944159652004, 10.889383988113817, 10.889383988113817, 14.84556345700167, 17.812698058667564, 20.779832660333454, 15.834608324223636, 18.801742925889528, 65.2868516853218, 29.681236465331125, 23.74696726199934, 20.779832660333454, 7.922249386447926, 24.736012129221304, 30.67028133255309, 31.659326199775048, 32.64837106699701, 44.516909473660576, 14.84556345700167, 18.801742925889528, 22.75792239477738, 26.714101863665235, 18.801742925889528, 23.74696726199934, 17.812698058667564, 13.856518589779709, 11.878428855335782], \"Total\": [140.0, 279.0, 590.0, 130.0, 244.0, 124.0, 127.0, 149.0, 141.0, 110.0, 144.0, 135.0, 714.0, 114.0, 173.0, 92.0, 636.0, 119.0, 125.0, 93.0, 75.0, 59.0, 87.0, 120.0, 175.0, 308.0, 54.0, 90.0, 55.0, 46.0, 15.923046211420308, 11.966975303609626, 11.966975303609626, 9.988939849704286, 9.988939849704286, 8.010904395798944, 7.021886668846274, 6.032868941893604, 6.032868941893604, 5.043851214940933, 5.043851214940933, 5.043851214940933, 5.043851214940933, 5.043851214940933, 4.054833487988263, 4.054833487988263, 4.054833487988263, 3.065815761035592, 3.065815761035592, 3.065815761035592, 3.065815761035592, 3.065815761035592, 3.065815761035592, 3.065815761035592, 3.065815761035592, 3.065815761035592, 3.065815761035592, 3.065815761035592, 3.065815761035592, 3.065815761035592, 20.867677857264493, 15.923100491958895, 19.881075800431603, 19.853526981784817, 14.923183703929087, 6.033117074351081, 43.567398585903206, 19.849871247863938, 135.34986085635393, 15.912348165046852, 130.43039212458714, 59.307009477291295, 87.98809296834743, 279.6498210953003, 41.61691315337589, 37.663646059621925, 51.43306816497714, 314.0646774136919, 140.34663280759838, 125.4695009192964, 590.4179148149634, 714.3470711726894, 54.373096969155135, 24.82635365526992, 244.26585517125972, 636.894170179782, 120.52154545693747, 175.9199771204184, 55.43374963861149, 137.30376224482148, 173.9485254546788, 84.98560932917796, 15.863263483198448, 11.92213825744323, 9.951575644565622, 8.966294338126819, 8.966294338126819, 7.981013031688013, 7.981013031688013, 6.010450418810405, 4.039887805932796, 4.039887805932796, 4.039887805932796, 4.039887805932796, 4.039887805932796, 4.039887805932796, 4.039887805932796, 4.039887805932796, 4.039887805932796, 3.054606499493993, 3.054606499493993, 3.054606499493993, 3.054606499493993, 3.054606499493993, 3.054606499493993, 3.054606499493993, 3.054606499493993, 3.054606499493993, 3.054606499493993, 2.0693251930551892, 2.0693251930551892, 2.0693251930551892, 2.0693251930551892, 2.0693251930551892, 23.75680461705835, 2.0693251930551892, 2.0693251930551892, 10.944826056947116, 2.0693251930551892, 46.4287192365845, 93.82949390720668, 17.84056844193007, 38.557911756346236, 22.797868236101667, 33.65407733620682, 7.9867925834498985, 21.809573593454935, 92.86909864341435, 279.6498210953003, 636.894170179782, 18.853421433939666, 56.336198185629094, 75.18011936235708, 137.27289612976384, 149.22094157328448, 44.53866503060392, 119.42374473653665, 714.3470711726894, 18.832056678927724, 49.485517473200375, 59.307009477291295, 590.4179148149634, 308.0714950246336, 244.26585517125972, 314.0646774136919, 141.21333927568435, 102.75629085571462, 297.2777252017561, 54.373096969155135, 125.4695009192964, 13.893830482622636, 9.952382510495477, 8.967020517463688, 8.967020517463688, 7.9816585244318965, 7.9816585244318965, 6.996296531400107, 6.010934538368318, 5.025572545336527, 5.025572545336527, 5.025572545336527, 5.025572545336527, 5.025572545336527, 5.025572545336527, 4.040210552304739, 4.040210552304739, 4.040210552304739, 4.040210552304739, 4.040210552304739, 4.040210552304739, 3.0548485592729495, 3.0548485592729495, 3.0548485592729495, 3.0548485592729495, 3.0548485592729495, 3.0548485592729495, 3.0548485592729495, 3.0548485592729495, 2.0694865662411597, 2.0694865662411597, 2.0694865662411597, 2.0694865662411597, 2.0694865662411597, 2.0694865662411597, 2.0694865662411597, 2.0694865662411597, 19.805679694441427, 14.880807943918093, 10.943362682103182, 26.73005657650056, 25.717448219667236, 11.93440018188278, 8.968785528807436, 10.948793126097787, 6.013743627656274, 6.014838404746675, 90.84842304201092, 31.687343266990755, 590.4179148149634, 29.67393420144892, 51.43306816497714, 135.34986085635393, 37.588638532589, 63.26773055631857, 308.0714950246336, 636.894170179782, 314.0646774136919, 127.48562770362628, 52.34794270302644, 173.9485254546788, 714.3470711726894, 59.307009477291295, 141.21333927568435, 297.2777252017561, 137.30376224482148, 119.42374473653665, 38.61547968093881, 125.4695009192964, 102.75629085571462, 92.86909864341435, 120.52154545693747, 56.336198185629094, 144.14157853955317, 62.29710394981524, 84.98560932917796, 93.82949390720668, 11.961491436579639, 11.961491436579639, 7.018687746412115, 5.041566270345105, 5.041566270345105, 4.0530055323116, 4.0530055323116, 4.0530055323116, 4.0530055323116, 4.0530055323116, 4.0530055323116, 4.0530055323116, 4.0530055323116, 4.0530055323116, 3.0644447942780952, 3.0644447942780952, 3.0644447942780952, 3.0644447942780952, 3.0644447942780952, 3.0644447942780952, 3.0644447942780952, 3.0644447942780952, 3.0644447942780952, 3.0644447942780952, 3.0644447942780952, 3.0644447942780952, 3.0644447942780952, 2.0758840562445906, 2.0758840562445906, 2.0758840562445906, 2.0758840562445906, 2.0758840562445906, 2.0758840562445906, 2.0758840562445906, 2.0758840562445906, 2.0758840562445906, 8.996514343855768, 2.0758840562445906, 2.0758840562445906, 2.0758840562445906, 2.0758840562445906, 14.920386504962964, 17.894683820457328, 10.966533208542703, 10.973898956923051, 9.977811097323228, 8.993633096087091, 8.997142076826872, 12.939411152291171, 14.910776492706649, 6.030611137567068, 17.880468564716537, 13.922215754673145, 33.65407733620682, 141.21333927568435, 590.4179148149634, 15.918933311147818, 15.921675464828677, 308.0714950246336, 714.3470711726894, 44.56840609444089, 636.894170179782, 297.2777252017561, 124.48673969904414, 92.86909864341435, 244.26585517125972, 127.48562770362628, 54.45231043558714, 175.9199771204184, 102.75629085571462, 56.41821122463243, 120.52154545693747, 90.84842304201092, 114.70579513381212, 314.0646774136919, 63.26773055631857, 45.483883496658464, 14.937750471329803, 12.959218752509509, 12.959218752509509, 10.980687033689211, 9.991421174279063, 9.002155314868915, 9.002155314868915, 7.023623596048618, 7.023623596048618, 5.045091877228322, 5.045091877228322, 5.045091877228322, 5.045091877228322, 5.045091877228322, 5.045091877228322, 5.045091877228322, 5.045091877228322, 5.045091877228322, 4.055826017818173, 4.055826017818173, 4.055826017818173, 4.055826017818173, 4.055826017818173, 4.055826017818173, 3.0665601584080258, 3.0665601584080258, 3.0665601584080258, 3.0665601584080258, 3.0665601584080258, 3.0665601584080258, 3.0665601584080258, 3.0665601584080258, 3.0665601584080258, 33.70590992932319, 15.917952248620498, 15.924900966610023, 10.974644312276242, 18.893573246683008, 21.841461962255448, 23.820476043791984, 149.22094157328448, 38.61547968093881, 29.731982156601866, 9.001659049953961, 127.48562770362628, 244.26585517125972, 714.3470711726894, 60.360829066840324, 39.6099868679975, 75.18011936235708, 17.881990410860297, 17.889999261651454, 55.43374963861149, 19.848218791638445, 279.6498210953003, 173.9485254546788, 114.70579513381212, 314.0646774136919, 110.61478446963152, 63.26773055631857, 175.9199771204184, 297.2777252017561, 37.62238086165138, 141.21333927568435, 37.588638532589, 9.961207567214217, 6.0162295723995625, 6.0162295723995625, 5.029985073695899, 4.043740574992235, 4.043740574992235, 4.043740574992235, 4.043740574992235, 4.043740574992235, 3.057496076288572, 3.057496076288572, 3.057496076288572, 3.057496076288572, 3.057496076288572, 3.057496076288572, 2.0712515775849085, 2.0712515775849085, 2.0712515775849085, 2.0712515775849085, 2.0712515775849085, 2.0712515775849085, 2.0712515775849085, 2.0712515775849085, 2.0712515775849085, 2.0712515775849085, 2.0712515775849085, 2.0712515775849085, 2.0712515775849085, 2.0712515775849085, 2.0712515775849085, 11.933352548370891, 2.0712515775849085, 2.0712515775849085, 8.974619052259902, 22.790092384826178, 2.0712515775849085, 2.0712515775849085, 110.61478446963152, 5.033006434402383, 54.373096969155135, 25.77909912034239, 14.90632749671158, 12.919184268886717, 7.0088040000814855, 7.0088040000814855, 8.981522130786317, 15.899824084381589, 52.34794270302644, 114.70579513381212, 45.483883496658464, 28.711175667359083, 55.43374963861149, 47.47273540021226, 33.68986061866644, 137.30376224482148, 30.719580761189523, 36.581896658448144, 60.34317549372996, 714.3470711726894, 144.14157853955317, 173.9485254546788, 149.22094157328448, 297.2777252017561, 125.4695009192964, 137.27289612976384, 127.48562770362628, 84.98560932917796, 636.894170179782, 175.9199771204184, 590.4179148149634, 124.48673969904414, 314.0646774136919, 87.98809296834743, 119.42374473653665, 279.6498210953003, 135.34986085635393, 308.0714950246336, 90.84842304201092, 10.943667887160714, 7.000065957348667, 7.000065957348667, 6.014165474895655, 6.014165474895655, 5.028264992442643, 5.028264992442643, 5.028264992442643, 4.04236450998963, 4.04236450998963, 4.04236450998963, 4.04236450998963, 3.0564640275366184, 3.0564640275366184, 3.0564640275366184, 3.0564640275366184, 3.0564640275366184, 3.0564640275366184, 3.0564640275366184, 3.0564640275366184, 3.0564640275366184, 3.0564640275366184, 3.0564640275366184, 3.0564640275366184, 3.0564640275366184, 3.0564640275366184, 2.0705635450836057, 2.0705635450836057, 2.0705635450836057, 2.0705635450836057, 17.844352088317596, 2.0705635450836057, 2.0705635450836057, 21.789261226645156, 2.0705635450836057, 2.0705635450836057, 2.0705635450836057, 14.887957849474066, 2.0705635450836057, 13.900130982491337, 7.985427950380457, 19.829695247645144, 35.63289598112327, 6.999446781334458, 36.581896658448144, 14.896352216439702, 130.43039212458714, 30.66133398524149, 124.48673969904414, 140.34663280759838, 13.918914238218658, 7.991354284168072, 144.14157853955317, 120.52154545693747, 175.9199771204184, 110.61478446963152, 51.48009159810318, 141.21333927568435, 590.4179148149634, 137.27289612976384, 308.0714950246336, 46.4287192365845, 29.67393420144892, 66.29108171632947, 636.894170179782, 119.42374473653665, 314.0646774136919, 297.2777252017561, 84.98560932917796, 90.84842304201092, 137.30376224482148, 244.26585517125972, 135.34986085635393, 43.567398585903206, 14.921328814973787, 12.944986650334293, 8.992302321055305, 7.015960156415811, 6.027789074096064, 5.039617991776317, 4.05144690945657, 4.05144690945657, 4.05144690945657, 4.05144690945657, 4.05144690945657, 4.05144690945657, 3.063275827136822, 3.063275827136822, 3.063275827136822, 3.063275827136822, 3.063275827136822, 3.063275827136822, 3.063275827136822, 3.063275827136822, 3.063275827136822, 3.063275827136822, 2.0751047448170756, 2.0751047448170756, 2.0751047448170756, 2.0751047448170756, 2.0751047448170756, 2.0751047448170756, 2.0751047448170756, 2.0751047448170756, 2.0751047448170756, 2.0751047448170756, 2.0751047448170756, 2.0751047448170756, 2.0751047448170756, 2.0751047448170756, 2.0751047448170756, 8.992691976769063, 8.001860638868823, 19.853445843356237, 7.0171985372888575, 2.0751047448170756, 6.0248992982151215, 6.0248992982151215, 6.028178729809822, 8.993786753859464, 8.993995610321152, 37.64752234291868, 21.818090992411403, 54.45231043558714, 92.01769353569821, 7.998351686973672, 32.71488872548407, 62.29710394981524, 16.88177678054614, 56.41821122463243, 144.14157853955317, 44.56840609444089, 297.2777252017561, 590.4179148149634, 23.809425548470525, 44.53866503060392, 314.0646774136919, 308.0714950246336, 636.894170179782, 140.34663280759838, 114.70579513381212, 714.3470711726894, 119.42374473653665, 125.4695009192964, 137.30376224482148, 120.52154545693747, 25.752188675517132, 102.75629085571462, 56.336198185629094, 60.34317549372996, 66.29108171632947, 17.908132917647865, 12.961085601683894, 9.003447748912722, 9.003447748912722, 9.003447748912722, 8.014038285719927, 8.014038285719927, 8.014038285719927, 8.014038285719927, 8.014038285719927, 6.0352193593343415, 6.0352193593343415, 6.0352193593343415, 6.0352193593343415, 5.045809896141548, 5.045809896141548, 5.045809896141548, 4.056400432948754, 4.056400432948754, 4.056400432948754, 4.056400432948754, 4.056400432948754, 4.056400432948754, 3.066990969755961, 3.066990969755961, 3.066990969755961, 3.066990969755961, 3.066990969755961, 3.066990969755961, 3.066990969755961, 16.914595297701084, 3.066990969755961, 10.979101710809179, 16.91843624688978, 22.83462013643487, 43.61921994320966, 19.86671449322843, 21.864765543940518, 14.934951004577297, 51.48009159810318, 47.53726752086396, 714.3470711726894, 636.894170179782, 14.918850643630794, 173.9485254546788, 244.26585517125972, 279.6498210953003, 20.87383049230939, 590.4179148149634, 66.29108171632947, 25.769948660733814, 25.77909912034239, 124.48673969904414, 47.47273540021226, 60.34317549372996, 21.842537357687814, 31.687343266990755, 93.82949390720668, 33.68986061866644, 137.30376224482148, 92.86909864341435, 149.22094157328448, 175.9199771204184, 41.61691315337589, 297.2777252017561, 308.0714950246336, 84.98560932917796, 10.978256119619179, 9.000166385175252, 9.000166385175252, 8.011121517953287, 7.022076650731326, 7.022076650731326, 7.022076650731326, 7.022076650731326, 6.033031783509362, 6.033031783509362, 6.033031783509362, 6.033031783509362, 6.033031783509362, 6.033031783509362, 5.043986916287398, 5.043986916287398, 5.043986916287398, 4.054942049065435, 4.054942049065435, 4.054942049065435, 3.065897181843471, 3.065897181843471, 3.065897181843471, 3.065897181843471, 3.065897181843471, 3.065897181843471, 3.065897181843471, 3.065897181843471, 3.065897181843471, 3.065897181843471, 3.065897181843471, 3.065897181843471, 14.931291203738082, 3.065897181843471, 3.065897181843471, 9.989575848368045, 14.935164780448691, 22.831740283150104, 17.902233166737478, 35.68622297281702, 13.94530930047719, 23.838391565300515, 12.956264433255226, 7.022441246702154, 14.92220206568188, 15.904662651813197, 25.801508404736293, 37.663646059621925, 49.485517473200375, 32.71407705004443, 45.540958856941955, 636.894170179782, 140.34663280759838, 92.01769353569821, 75.18011936235708, 10.976803732053801, 137.27289612976384, 244.26585517125972, 279.6498210953003, 308.0714950246336, 714.3470711726894, 47.53726752086396, 87.98809296834743, 175.9199771204184, 297.2777252017561, 114.70579513381212, 314.0646774136919, 173.9485254546788, 102.75629085571462, 44.52724766080886], \"Category\": [\"Default\", \"Default\", \"Default\", \"Default\", \"Default\", \"Default\", \"Default\", \"Default\", \"Default\", \"Default\", \"Default\", \"Default\", \"Default\", \"Default\", \"Default\", \"Default\", \"Default\", \"Default\", \"Default\", \"Default\", \"Default\", \"Default\", \"Default\", \"Default\", \"Default\", \"Default\", \"Default\", \"Default\", \"Default\", \"Default\", \"Topic1\", \"Topic1\", \"Topic1\", \"Topic1\", \"Topic1\", \"Topic1\", \"Topic1\", \"Topic1\", \"Topic1\", \"Topic1\", \"Topic1\", \"Topic1\", \"Topic1\", \"Topic1\", \"Topic1\", \"Topic1\", \"Topic1\", \"Topic1\", \"Topic1\", \"Topic1\", \"Topic1\", \"Topic1\", \"Topic1\", \"Topic1\", \"Topic1\", \"Topic1\", \"Topic1\", \"Topic1\", \"Topic1\", \"Topic1\", \"Topic1\", \"Topic1\", \"Topic1\", \"Topic1\", \"Topic1\", \"Topic1\", \"Topic1\", \"Topic1\", \"Topic1\", \"Topic1\", \"Topic1\", \"Topic1\", \"Topic1\", \"Topic1\", \"Topic1\", \"Topic1\", \"Topic1\", \"Topic1\", \"Topic1\", \"Topic1\", \"Topic1\", \"Topic1\", \"Topic1\", \"Topic1\", \"Topic1\", \"Topic1\", \"Topic1\", \"Topic1\", \"Topic1\", \"Topic1\", \"Topic1\", \"Topic1\", \"Topic2\", \"Topic2\", \"Topic2\", \"Topic2\", \"Topic2\", \"Topic2\", \"Topic2\", \"Topic2\", \"Topic2\", \"Topic2\", \"Topic2\", \"Topic2\", \"Topic2\", \"Topic2\", \"Topic2\", \"Topic2\", \"Topic2\", \"Topic2\", \"Topic2\", \"Topic2\", \"Topic2\", \"Topic2\", \"Topic2\", \"Topic2\", \"Topic2\", \"Topic2\", \"Topic2\", \"Topic2\", \"Topic2\", \"Topic2\", \"Topic2\", \"Topic2\", \"Topic2\", \"Topic2\", \"Topic2\", \"Topic2\", \"Topic2\", \"Topic2\", \"Topic2\", \"Topic2\", \"Topic2\", \"Topic2\", \"Topic2\", \"Topic2\", \"Topic2\", \"Topic2\", \"Topic2\", \"Topic2\", \"Topic2\", \"Topic2\", \"Topic2\", \"Topic2\", \"Topic2\", \"Topic2\", \"Topic2\", \"Topic2\", \"Topic2\", \"Topic2\", \"Topic2\", \"Topic2\", \"Topic2\", \"Topic2\", \"Topic2\", \"Topic2\", \"Topic2\", \"Topic2\", \"Topic2\", \"Topic2\", \"Topic3\", \"Topic3\", \"Topic3\", \"Topic3\", \"Topic3\", \"Topic3\", \"Topic3\", \"Topic3\", \"Topic3\", \"Topic3\", \"Topic3\", \"Topic3\", \"Topic3\", \"Topic3\", \"Topic3\", \"Topic3\", \"Topic3\", \"Topic3\", \"Topic3\", \"Topic3\", \"Topic3\", \"Topic3\", \"Topic3\", \"Topic3\", \"Topic3\", \"Topic3\", \"Topic3\", \"Topic3\", \"Topic3\", \"Topic3\", \"Topic3\", \"Topic3\", \"Topic3\", \"Topic3\", \"Topic3\", \"Topic3\", \"Topic3\", \"Topic3\", \"Topic3\", \"Topic3\", \"Topic3\", \"Topic3\", \"Topic3\", \"Topic3\", \"Topic3\", \"Topic3\", \"Topic3\", \"Topic3\", \"Topic3\", \"Topic3\", \"Topic3\", \"Topic3\", \"Topic3\", \"Topic3\", \"Topic3\", \"Topic3\", \"Topic3\", \"Topic3\", \"Topic3\", \"Topic3\", \"Topic3\", \"Topic3\", \"Topic3\", \"Topic3\", \"Topic3\", \"Topic3\", \"Topic3\", \"Topic3\", \"Topic3\", \"Topic3\", \"Topic3\", \"Topic3\", \"Topic3\", \"Topic3\", \"Topic3\", \"Topic3\", \"Topic4\", \"Topic4\", \"Topic4\", \"Topic4\", \"Topic4\", \"Topic4\", \"Topic4\", \"Topic4\", \"Topic4\", \"Topic4\", \"Topic4\", \"Topic4\", \"Topic4\", \"Topic4\", \"Topic4\", \"Topic4\", \"Topic4\", \"Topic4\", \"Topic4\", \"Topic4\", \"Topic4\", \"Topic4\", \"Topic4\", \"Topic4\", \"Topic4\", \"Topic4\", \"Topic4\", \"Topic4\", \"Topic4\", \"Topic4\", \"Topic4\", \"Topic4\", \"Topic4\", \"Topic4\", \"Topic4\", \"Topic4\", \"Topic4\", \"Topic4\", \"Topic4\", \"Topic4\", \"Topic4\", \"Topic4\", \"Topic4\", \"Topic4\", \"Topic4\", \"Topic4\", \"Topic4\", \"Topic4\", \"Topic4\", \"Topic4\", \"Topic4\", \"Topic4\", \"Topic4\", \"Topic4\", \"Topic4\", \"Topic4\", \"Topic4\", \"Topic4\", \"Topic4\", \"Topic4\", \"Topic4\", \"Topic4\", \"Topic4\", \"Topic4\", \"Topic4\", \"Topic4\", \"Topic4\", \"Topic4\", \"Topic4\", \"Topic4\", \"Topic4\", \"Topic4\", \"Topic4\", \"Topic4\", \"Topic4\", \"Topic4\", \"Topic4\", \"Topic5\", \"Topic5\", \"Topic5\", \"Topic5\", \"Topic5\", \"Topic5\", \"Topic5\", \"Topic5\", \"Topic5\", \"Topic5\", \"Topic5\", \"Topic5\", \"Topic5\", \"Topic5\", \"Topic5\", \"Topic5\", \"Topic5\", \"Topic5\", \"Topic5\", \"Topic5\", \"Topic5\", \"Topic5\", \"Topic5\", \"Topic5\", \"Topic5\", \"Topic5\", \"Topic5\", \"Topic5\", \"Topic5\", \"Topic5\", \"Topic5\", \"Topic5\", \"Topic5\", \"Topic5\", \"Topic5\", \"Topic5\", \"Topic5\", \"Topic5\", \"Topic5\", \"Topic5\", \"Topic5\", \"Topic5\", \"Topic5\", \"Topic5\", \"Topic5\", \"Topic5\", \"Topic5\", \"Topic5\", \"Topic5\", \"Topic5\", \"Topic5\", \"Topic5\", \"Topic5\", \"Topic5\", \"Topic5\", \"Topic5\", \"Topic5\", \"Topic5\", \"Topic5\", \"Topic5\", \"Topic5\", \"Topic5\", \"Topic5\", \"Topic5\", \"Topic5\", \"Topic6\", \"Topic6\", \"Topic6\", \"Topic6\", \"Topic6\", \"Topic6\", \"Topic6\", \"Topic6\", \"Topic6\", \"Topic6\", \"Topic6\", \"Topic6\", \"Topic6\", \"Topic6\", \"Topic6\", \"Topic6\", \"Topic6\", \"Topic6\", \"Topic6\", \"Topic6\", \"Topic6\", \"Topic6\", \"Topic6\", \"Topic6\", \"Topic6\", \"Topic6\", \"Topic6\", \"Topic6\", \"Topic6\", \"Topic6\", \"Topic6\", \"Topic6\", \"Topic6\", \"Topic6\", \"Topic6\", \"Topic6\", \"Topic6\", \"Topic6\", \"Topic6\", \"Topic6\", \"Topic6\", \"Topic6\", \"Topic6\", \"Topic6\", \"Topic6\", \"Topic6\", \"Topic6\", \"Topic6\", \"Topic6\", \"Topic6\", \"Topic6\", \"Topic6\", \"Topic6\", \"Topic6\", \"Topic6\", \"Topic6\", \"Topic6\", \"Topic6\", \"Topic6\", \"Topic6\", \"Topic6\", \"Topic6\", \"Topic6\", \"Topic6\", \"Topic6\", \"Topic6\", \"Topic6\", \"Topic6\", \"Topic6\", \"Topic6\", \"Topic6\", \"Topic6\", \"Topic6\", \"Topic6\", \"Topic6\", \"Topic6\", \"Topic6\", \"Topic6\", \"Topic7\", \"Topic7\", \"Topic7\", \"Topic7\", \"Topic7\", \"Topic7\", \"Topic7\", \"Topic7\", \"Topic7\", \"Topic7\", \"Topic7\", \"Topic7\", \"Topic7\", \"Topic7\", \"Topic7\", \"Topic7\", \"Topic7\", \"Topic7\", \"Topic7\", \"Topic7\", \"Topic7\", \"Topic7\", \"Topic7\", \"Topic7\", \"Topic7\", \"Topic7\", \"Topic7\", \"Topic7\", \"Topic7\", \"Topic7\", \"Topic7\", \"Topic7\", \"Topic7\", \"Topic7\", \"Topic7\", \"Topic7\", \"Topic7\", \"Topic7\", \"Topic7\", \"Topic7\", \"Topic7\", \"Topic7\", \"Topic7\", \"Topic7\", \"Topic7\", \"Topic7\", \"Topic7\", \"Topic7\", \"Topic7\", \"Topic7\", \"Topic7\", \"Topic7\", \"Topic7\", \"Topic7\", \"Topic7\", \"Topic7\", \"Topic7\", \"Topic7\", \"Topic7\", \"Topic7\", \"Topic7\", \"Topic7\", \"Topic7\", \"Topic7\", \"Topic7\", \"Topic7\", \"Topic7\", \"Topic7\", \"Topic7\", \"Topic7\", \"Topic7\", \"Topic7\", \"Topic7\", \"Topic7\", \"Topic8\", \"Topic8\", \"Topic8\", \"Topic8\", \"Topic8\", \"Topic8\", \"Topic8\", \"Topic8\", \"Topic8\", \"Topic8\", \"Topic8\", \"Topic8\", \"Topic8\", \"Topic8\", \"Topic8\", \"Topic8\", \"Topic8\", \"Topic8\", \"Topic8\", \"Topic8\", \"Topic8\", \"Topic8\", \"Topic8\", \"Topic8\", \"Topic8\", \"Topic8\", \"Topic8\", \"Topic8\", \"Topic8\", \"Topic8\", \"Topic8\", \"Topic8\", \"Topic8\", \"Topic8\", \"Topic8\", \"Topic8\", \"Topic8\", \"Topic8\", \"Topic8\", \"Topic8\", \"Topic8\", \"Topic8\", \"Topic8\", \"Topic8\", \"Topic8\", \"Topic8\", \"Topic8\", \"Topic8\", \"Topic8\", \"Topic8\", \"Topic8\", \"Topic8\", \"Topic8\", \"Topic8\", \"Topic8\", \"Topic8\", \"Topic8\", \"Topic8\", \"Topic8\", \"Topic8\", \"Topic8\", \"Topic8\", \"Topic8\", \"Topic8\", \"Topic8\", \"Topic8\", \"Topic8\", \"Topic8\", \"Topic8\", \"Topic8\", \"Topic8\", \"Topic8\", \"Topic8\", \"Topic8\", \"Topic8\", \"Topic8\", \"Topic8\", \"Topic9\", \"Topic9\", \"Topic9\", \"Topic9\", \"Topic9\", \"Topic9\", \"Topic9\", \"Topic9\", \"Topic9\", \"Topic9\", \"Topic9\", \"Topic9\", \"Topic9\", \"Topic9\", \"Topic9\", \"Topic9\", \"Topic9\", \"Topic9\", \"Topic9\", \"Topic9\", \"Topic9\", \"Topic9\", \"Topic9\", \"Topic9\", \"Topic9\", \"Topic9\", \"Topic9\", \"Topic9\", \"Topic9\", \"Topic9\", \"Topic9\", \"Topic9\", \"Topic9\", \"Topic9\", \"Topic9\", \"Topic9\", \"Topic9\", \"Topic9\", \"Topic9\", \"Topic9\", \"Topic9\", \"Topic9\", \"Topic9\", \"Topic9\", \"Topic9\", \"Topic9\", \"Topic9\", \"Topic9\", \"Topic9\", \"Topic9\", \"Topic9\", \"Topic9\", \"Topic9\", \"Topic9\", \"Topic9\", \"Topic9\", \"Topic9\", \"Topic9\", \"Topic9\", \"Topic9\", \"Topic9\", \"Topic9\", \"Topic9\", \"Topic9\", \"Topic9\", \"Topic9\", \"Topic9\", \"Topic10\", \"Topic10\", \"Topic10\", \"Topic10\", \"Topic10\", \"Topic10\", \"Topic10\", \"Topic10\", \"Topic10\", \"Topic10\", \"Topic10\", \"Topic10\", \"Topic10\", \"Topic10\", \"Topic10\", \"Topic10\", \"Topic10\", \"Topic10\", \"Topic10\", \"Topic10\", \"Topic10\", \"Topic10\", \"Topic10\", \"Topic10\", \"Topic10\", \"Topic10\", \"Topic10\", \"Topic10\", \"Topic10\", \"Topic10\", \"Topic10\", \"Topic10\", \"Topic10\", \"Topic10\", \"Topic10\", \"Topic10\", \"Topic10\", \"Topic10\", \"Topic10\", \"Topic10\", \"Topic10\", \"Topic10\", \"Topic10\", \"Topic10\", \"Topic10\", \"Topic10\", \"Topic10\", \"Topic10\", \"Topic10\", \"Topic10\", \"Topic10\", \"Topic10\", \"Topic10\", \"Topic10\", \"Topic10\", \"Topic10\", \"Topic10\", \"Topic10\", \"Topic10\", \"Topic10\", \"Topic10\", \"Topic10\", \"Topic10\", \"Topic10\", \"Topic10\", \"Topic10\", \"Topic10\", \"Topic10\", \"Topic10\", \"Topic10\"], \"logprob\": [30.0, 29.0, 28.0, 27.0, 26.0, 25.0, 24.0, 23.0, 22.0, 21.0, 20.0, 19.0, 18.0, 17.0, 16.0, 15.0, 14.0, 13.0, 12.0, 11.0, 10.0, 9.0, 8.0, 7.0, 6.0, 5.0, 4.0, 3.0, 2.0, 1.0, -4.4386, -4.7261, -4.7261, -4.9082, -4.9082, -5.1311, -5.2645, -5.4184, -5.4184, -5.6004, -5.6004, -5.6004, -5.6004, -5.6004, -5.823, -5.823, -5.823, -6.1099, -6.1099, -6.1099, -6.1099, -6.1099, -6.1099, -6.1099, -6.1099, -6.1099, -6.1099, -6.1099, -6.1099, -6.1099, -4.2156, -4.572, -4.5031, -4.6461, -4.9082, -5.6004, -4.1203, -4.7261, -3.3404, -4.9082, -3.4274, -4.0333, -3.8442, -3.2226, -4.4386, -4.5031, -4.3209, -3.2604, -3.7775, -3.8442, -3.1863, -3.1173, -4.4386, -4.813, -3.9156, -3.628, -4.2668, -4.1668, -4.572, -4.4386, -4.6461, -4.7261, -4.505, -4.7924, -4.9746, -5.0798, -5.0798, -5.1975, -5.1975, -5.4847, -5.8894, -5.8894, -5.8894, -5.8894, -5.8894, -5.8894, -5.8894, -5.8894, -5.8894, -6.1762, -6.1762, -6.1762, -6.1762, -6.1762, -6.1762, -6.1762, -6.1762, -6.1762, -6.1762, -6.58, -6.58, -6.58, -6.58, -6.58, -4.2332, -6.58, -6.58, -5.0798, -6.58, -3.982, -3.5167, -4.8794, -4.3332, -4.7125, -4.4444, -5.4847, -4.7924, -3.7814, -3.0439, -2.5776, -4.9746, -4.3332, -4.2332, -3.9105, -3.8766, -4.5695, -4.0589, -3.1837, -5.0798, -4.6384, -4.5695, -3.6144, -3.9105, -4.0589, -3.982, -4.2819, -4.3872, -4.0997, -4.6384, -4.6384, -4.8604, -5.1966, -5.3018, -5.3018, -5.4195, -5.4195, -5.5528, -5.7067, -5.8887, -5.8887, -5.8887, -5.8887, -5.8887, -5.8887, -6.1114, -6.1114, -6.1114, -6.1114, -6.1114, -6.1114, -6.3982, -6.3982, -6.3982, -6.3982, -6.3982, -6.3982, -6.3982, -6.3982, -6.802, -6.802, -6.802, -6.802, -6.802, -6.802, -6.802, -6.802, -4.727, -5.0144, -5.3018, -4.6092, -4.6664, -5.3018, -5.5528, -5.4195, -5.8887, -5.8887, -3.8623, -4.6664, -2.5874, -4.7914, -4.4552, -3.8363, -4.6664, -4.3642, -3.3729, -2.9462, -3.4395, -3.9735, -4.5039, -3.811, -3.0002, -4.4552, -4.0034, -3.6498, -4.0986, -4.1676, -4.727, -4.2417, -4.3642, -4.5552, -4.5039, -4.727, -4.5552, -4.727, -4.727, -4.727, -4.6923, -4.6923, -5.2307, -5.5666, -5.5666, -5.7893, -5.7893, -5.7893, -5.7893, -5.7893, -5.7893, -5.7893, -5.7893, -5.7893, -6.0761, -6.0761, -6.0761, -6.0761, -6.0761, -6.0761, -6.0761, -6.0761, -6.0761, -6.0761, -6.0761, -6.0761, -6.0761, -6.4799, -6.4799, -6.4799, -6.4799, -6.4799, -6.4799, -6.4799, -6.4799, -6.4799, -5.0974, -6.4799, -6.4799, -6.4799, -6.4799, -4.6923, -4.5383, -4.9797, -4.9797, -5.0974, -5.2307, -5.2307, -4.9797, -4.8745, -5.5666, -4.7792, -4.9797, -4.3442, -3.5142, -2.5828, -4.9797, -4.9797, -3.246, -2.7591, -4.4048, -2.9584, -3.4166, -3.9196, -4.0865, -3.6224, -3.9996, -4.4693, -3.9996, -4.2331, -4.5383, -4.2871, -4.4048, -4.5383, -4.4693, -4.7792, -4.8745, -4.6226, -4.7656, -4.7656, -4.9325, -5.0277, -5.1329, -5.1329, -5.3839, -5.3839, -5.7198, -5.7198, -5.7198, -5.7198, -5.7198, -5.7198, -5.7198, -5.7198, -5.7198, -5.9425, -5.9425, -5.9425, -5.9425, -5.9425, -5.9425, -6.2293, -6.2293, -6.2293, -6.2293, -6.2293, -6.2293, -6.2293, -6.2293, -6.2293, -4.0351, -4.7656, -4.7656, -5.1329, -4.6915, -4.6226, -4.5581, -3.2536, -4.2863, -4.4975, -5.3839, -3.5469, -3.1264, -2.5109, -4.112, -4.3863, -4.0351, -4.9325, -4.9325, -4.2398, -4.9325, -3.5244, -3.897, -4.112, -3.8345, -4.2863, -4.4975, -4.3351, -4.2398, -4.7656, -4.4975, -4.8455, -5.0092, -5.5194, -5.5194, -5.7013, -5.924, -5.924, -5.924, -5.924, -5.924, -6.2108, -6.2108, -6.2108, -6.2108, -6.2108, -6.2108, -6.6146, -6.6146, -6.6146, -6.6146, -6.6146, -6.6146, -6.6146, -6.6146, -6.6146, -6.6146, -6.6146, -6.6146, -6.6146, -6.6146, -6.6146, -4.914, -6.6146, -6.6146, -5.2321, -4.3678, -6.6146, -6.6146, -3.4839, -5.924, -4.0935, -4.673, -5.1144, -5.2321, -5.7013, -5.7013, -5.5194, -5.1144, -4.2678, -3.7571, -4.4219, -4.7471, -4.3165, -4.4219, -4.673, -3.7861, -4.7471, -4.673, -4.3678, -2.8818, -3.8467, -3.8467, -3.9451, -3.5749, -4.0543, -4.0166, -4.0543, -4.2678, -3.3236, -3.9451, -3.4006, -4.1769, -3.816, -4.3678, -4.3165, -4.0935, -4.3678, -4.2213, -4.479, -4.9704, -5.4218, -5.4218, -5.5758, -5.5758, -5.7577, -5.7577, -5.7577, -5.9804, -5.9804, -5.9804, -5.9804, -6.2672, -6.2672, -6.2672, -6.2672, -6.2672, -6.2672, -6.2672, -6.2672, -6.2672, -6.2672, -6.2672, -6.2672, -6.2672, -6.2672, -6.6711, -6.6711, -6.6711, -6.6711, -4.5354, -6.6711, -6.6711, -4.373, -6.6711, -6.6711, -6.6711, -4.8035, -6.6711, -4.8834, -5.4218, -4.6605, -4.1907, -5.5758, -4.2333, -4.9704, -3.326, -4.4783, -3.4177, -3.3617, -5.1708, -5.5758, -3.6554, -3.7854, -3.5623, -3.9349, -4.4242, -3.8425, -2.9996, -3.9031, -3.4772, -4.5354, -4.8035, -4.4242, -3.3617, -4.1499, -3.8724, -4.073, -4.5354, -4.6605, -4.6605, -4.6605, -4.7294, -4.8035, -4.4578, -4.6008, -4.9682, -5.2192, -5.3731, -5.5551, -5.7777, -5.7777, -5.7777, -5.7777, -5.7777, -5.7777, -6.0646, -6.0646, -6.0646, -6.0646, -6.0646, -6.0646, -6.0646, -6.0646, -6.0646, -6.0646, -6.4684, -6.4684, -6.4684, -6.4684, -6.4684, -6.4684, -6.4684, -6.4684, -6.4684, -6.4684, -6.4684, -6.4684, -6.4684, -6.4684, -6.4684, -5.0858, -5.2192, -4.3933, -5.3731, -6.4684, -5.5551, -5.5551, -5.5551, -5.2192, -5.2192, -4.075, -4.6008, -3.9473, -3.6109, -5.3731, -4.3933, -3.9473, -4.8629, -4.0306, -3.5827, -4.3327, -3.196, -2.8489, -4.7677, -4.4578, -3.4051, -3.4527, -3.072, -3.908, -4.075, -3.2745, -4.1215, -4.1215, -4.1215, -4.2216, -4.8629, -4.5268, -4.6808, -4.7677, -4.7677, -4.4285, -4.7537, -5.1211, -5.1211, -5.1211, -5.2387, -5.2387, -5.2387, -5.2387, -5.2387, -5.526, -5.526, -5.526, -5.526, -5.708, -5.708, -5.708, -5.9306, -5.9306, -5.9306, -5.9306, -5.9306, -5.9306, -6.2175, -6.2175, -6.2175, -6.2175, -6.2175, -6.2175, -6.2175, -4.5462, -6.2175, -5.0158, -4.6107, -4.4285, -3.8851, -4.6107, -4.6107, -4.9206, -4.141, -4.2744, -2.5319, -2.776, -5.1211, -3.6303, -3.4691, -3.4906, -4.9206, -3.3119, -4.3745, -4.8337, -4.8337, -4.1835, -4.6107, -4.5462, -4.9206, -4.8337, -4.6107, -4.8337, -4.5462, -4.6797, -4.6107, -4.6107, -4.8337, -4.7537, -4.7537, -4.8337, -4.8262, -5.0267, -5.0267, -5.1443, -5.2777, -5.2777, -5.2777, -5.2777, -5.4316, -5.4316, -5.4316, -5.4316, -5.4316, -5.4316, -5.6136, -5.6136, -5.6136, -5.8362, -5.8362, -5.8362, -6.1231, -6.1231, -6.1231, -6.1231, -6.1231, -6.1231, -6.1231, -6.1231, -6.1231, -6.1231, -6.1231, -6.1231, -4.5852, -6.1231, -6.1231, -5.0267, -4.6593, -4.28, -4.5163, -3.8924, -4.8262, -4.3912, -4.9214, -5.4316, -4.8262, -4.8262, -4.5163, -4.3341, -4.18, -4.4518, -4.28, -3.0352, -3.8235, -4.0465, -4.18, -5.1443, -4.0057, -3.7907, -3.759, -3.7282, -3.4181, -4.5163, -4.28, -4.0891, -3.9288, -4.28, -4.0465, -4.3341, -4.5852, -4.7393], \"loglift\": [30.0, 29.0, 28.0, 27.0, 26.0, 25.0, 24.0, 23.0, 22.0, 21.0, 20.0, 19.0, 18.0, 17.0, 16.0, 15.0, 14.0, 13.0, 12.0, 11.0, 10.0, 9.0, 8.0, 7.0, 6.0, 5.0, 4.0, 3.0, 2.0, 1.0, 2.3776, 2.3758, 2.3758, 2.3743, 2.3743, 2.3721, 2.3705, 2.3684, 2.3684, 2.3654, 2.3654, 2.3654, 2.3654, 2.3654, 2.361, 2.361, 2.361, 2.3538, 2.3538, 2.3538, 2.3538, 2.3538, 2.3538, 2.3538, 2.3538, 2.3538, 2.3538, 2.3538, 2.3538, 2.3538, 2.3302, 2.2442, 2.0911, 1.9495, 1.9728, 2.1863, 1.6894, 1.8697, 1.3357, 1.9087, 1.2857, 1.4679, 1.2626, 0.7278, 1.4169, 1.4522, 1.3228, 0.574, 0.8624, 0.9077, 0.0169, -0.1047, 1.1495, 1.5591, 0.1701, -0.5006, 0.5253, 0.2471, 0.9967, 0.2232, -0.2209, 0.4154, 2.315, 2.3131, 2.3117, 2.3107, 2.3107, 2.3094, 2.3094, 2.3057, 2.2984, 2.2984, 2.2984, 2.2984, 2.2984, 2.2984, 2.2984, 2.2984, 2.2984, 2.2911, 2.2911, 2.2911, 2.2911, 2.2911, 2.2911, 2.2911, 2.2911, 2.2911, 2.2911, 2.2767, 2.2767, 2.2767, 2.2767, 2.2767, 2.1829, 2.2767, 2.2767, 2.1113, 2.2767, 1.7641, 1.5258, 1.8231, 1.5986, 1.7448, 1.6235, 2.0214, 1.7092, 1.2714, 0.9065, 0.5498, 1.6727, 1.2194, 1.0309, 0.7515, 0.7019, 1.2182, 0.7424, -0.1711, 1.5686, 1.0439, 0.9318, -0.4112, -0.0569, 0.0268, -0.1476, 0.3518, 0.5644, -0.2104, 0.9497, 0.1135, 2.0921, 2.0896, 2.0886, 2.0886, 2.0874, 2.0874, 2.0858, 2.0837, 2.0807, 2.0807, 2.0807, 2.0807, 2.0807, 2.0807, 2.0763, 2.0763, 2.0763, 2.0763, 2.0763, 2.0763, 2.069, 2.069, 2.069, 2.069, 2.069, 2.069, 2.069, 2.069, 2.0546, 2.0546, 2.0546, 2.0546, 2.0546, 2.0546, 2.0546, 2.0546, 1.8711, 1.8695, 1.8894, 1.6889, 1.6704, 1.8027, 1.8374, 1.7713, 1.9012, 1.901, 1.2125, 1.4617, 0.6157, 1.4023, 1.1885, 0.8398, 1.2909, 1.0724, 0.4808, 0.1812, 0.3948, 0.7625, 1.1221, 0.6142, 0.0124, 1.0461, 0.6303, 0.2395, 0.5631, 0.6337, 1.2034, 0.5102, 0.5874, 0.4976, 0.2882, 0.8257, 0.058, 0.7251, 0.4145, 0.3155, 2.41, 2.41, 2.4047, 2.3996, 2.3996, 2.3953, 2.3953, 2.3953, 2.3953, 2.3953, 2.3953, 2.3953, 2.3953, 2.3953, 2.388, 2.388, 2.388, 2.388, 2.388, 2.388, 2.388, 2.388, 2.388, 2.388, 2.388, 2.388, 2.388, 2.3737, 2.3737, 2.3737, 2.3737, 2.3737, 2.3737, 2.3737, 2.3737, 2.3737, 2.2898, 2.3737, 2.3737, 2.3737, 2.3737, 2.1889, 2.1612, 2.2094, 2.2087, 2.1863, 2.1567, 2.1564, 2.044, 2.0074, 2.2205, 1.921, 1.9708, 1.7236, 1.1195, 0.6203, 1.8368, 1.8366, 0.6076, 0.2535, 1.3821, 0.169, 0.4727, 0.8402, 0.9662, 0.4633, 0.7364, 1.1173, 0.4144, 0.7185, 1.0129, 0.505, 0.6699, 0.3033, -0.635, 0.6574, 0.8922, 2.2575, 2.2566, 2.2566, 2.2554, 2.2545, 2.2536, 2.2536, 2.2507, 2.2507, 2.2457, 2.2457, 2.2457, 2.2457, 2.2457, 2.2457, 2.2457, 2.2457, 2.2457, 2.2413, 2.2413, 2.2413, 2.2413, 2.2413, 2.2413, 2.2341, 2.2341, 2.2341, 2.2341, 2.2341, 2.2341, 2.2341, 2.2341, 2.2341, 2.0312, 2.051, 2.0505, 2.0554, 1.9536, 1.8776, 1.8554, 1.325, 1.644, 1.6943, 2.0026, 1.1891, 0.9593, 0.5017, 1.3716, 1.5186, 1.229, 1.7677, 1.7672, 1.329, 1.6634, 0.426, 0.5282, 0.7296, -0.0001, 0.5916, 0.9391, 0.0789, -0.3505, 1.1908, 0.1362, 1.1117, 2.2761, 2.2702, 2.2702, 2.2672, 2.2628, 2.2628, 2.2628, 2.2628, 2.2628, 2.2555, 2.2555, 2.2555, 2.2555, 2.2555, 2.2555, 2.2412, 2.2412, 2.2412, 2.2412, 2.2412, 2.2412, 2.2412, 2.2412, 2.2412, 2.2412, 2.2412, 2.2412, 2.2412, 2.2412, 2.2412, 2.1907, 2.2412, 2.2412, 2.1575, 2.0898, 2.2412, 2.2412, 1.394, 2.044, 1.4946, 1.6614, 1.7677, 1.7932, 1.9355, 1.9355, 1.8694, 1.7032, 1.3583, 1.0845, 1.3448, 1.4796, 1.2522, 1.302, 1.3938, 0.8756, 1.412, 1.3114, 1.1161, 0.1308, 0.7664, 0.5785, 0.6334, 0.3144, 0.6976, 0.6454, 0.6817, 0.8737, -0.1962, 0.4688, -0.1974, 0.5829, 0.0184, 0.739, 0.4847, -0.1431, 0.3083, -0.3676, 0.5958, 2.2208, 2.2162, 2.2162, 2.2141, 2.2141, 2.2111, 2.2111, 2.2111, 2.2067, 2.2067, 2.2067, 2.2067, 2.1995, 2.1995, 2.1995, 2.1995, 2.1995, 2.1995, 2.1995, 2.1995, 2.1995, 2.1995, 2.1995, 2.1995, 2.1995, 2.1995, 2.1851, 2.1851, 2.1851, 2.1851, 2.1669, 2.1851, 2.1851, 2.1296, 2.1851, 2.1851, 2.1851, 2.08, 2.1851, 2.0686, 2.0845, 1.9363, 1.82, 2.0624, 1.7512, 1.9125, 1.3872, 1.6827, 1.342, 1.2782, 1.7799, 1.9299, 0.9578, 1.0068, 0.8516, 0.943, 1.2186, 0.7912, 0.2035, 0.7589, 0.3765, 1.2107, 1.3902, 0.9657, -0.2343, 0.6514, -0.038, -0.1837, 0.6061, 0.4143, 0.0013, -0.5748, -0.0533, 1.0062, 2.4234, 2.4225, 2.4194, 2.4166, 2.4145, 2.4115, 2.4072, 2.4072, 2.4072, 2.4072, 2.4072, 2.4072, 2.3999, 2.3999, 2.3999, 2.3999, 2.3999, 2.3999, 2.3999, 2.3999, 2.3999, 2.3999, 2.3856, 2.3856, 2.3856, 2.3856, 2.3856, 2.3856, 2.3856, 2.3856, 2.3856, 2.3856, 2.3856, 2.3856, 2.3856, 2.3856, 2.3856, 2.3017, 2.2851, 2.2023, 2.2625, 2.3856, 2.233, 2.233, 2.2324, 2.1682, 2.1682, 1.8807, 1.9004, 1.6394, 1.4511, 2.1316, 1.7028, 1.5048, 1.8948, 1.5206, 1.0304, 1.4542, 0.6933, 0.3542, 1.6462, 1.3298, 0.4293, 0.4009, 0.0553, 0.7318, 0.7666, -0.2619, 0.6798, 0.6304, 0.5402, 0.5706, 1.4725, 0.4249, 0.8718, 0.7162, 0.6222, 2.2702, 2.2683, 2.2653, 2.2653, 2.2653, 2.264, 2.264, 2.264, 2.264, 2.264, 2.2604, 2.2604, 2.2604, 2.2604, 2.2574, 2.2574, 2.2574, 2.253, 2.253, 2.253, 2.253, 2.253, 2.253, 2.2458, 2.2458, 2.2458, 2.2458, 2.2458, 2.2458, 2.2458, 2.2096, 2.2458, 2.1721, 2.1449, 2.0272, 1.9234, 1.9842, 1.8884, 1.9596, 1.5018, 1.448, 0.4807, 0.3513, 1.7603, 0.7949, 0.6166, 0.4599, 1.6249, -0.1088, 1.0155, 1.5011, 1.5007, 0.5763, 1.1131, 0.9377, 1.5795, 1.2944, 0.4318, 1.2331, 0.1156, 0.3731, -0.0322, -0.1968, 1.0218, -0.8644, -0.9001, 0.3078, 2.3619, 2.3601, 2.3601, 2.3588, 2.3572, 2.3572, 2.3572, 2.3572, 2.3551, 2.3551, 2.3551, 2.3551, 2.3551, 2.3551, 2.3522, 2.3522, 2.3522, 2.3478, 2.3478, 2.3478, 2.3406, 2.3406, 2.3406, 2.3406, 2.3406, 2.3406, 2.3406, 2.3406, 2.3406, 2.3406, 2.3406, 2.3406, 2.2953, 2.3406, 2.3406, 2.2558, 2.221, 2.1758, 2.1828, 2.1168, 2.1226, 2.0215, 2.101, 2.2033, 2.0549, 1.9912, 1.8173, 1.6212, 1.5023, 1.6444, 1.4853, 0.0922, 0.8164, 1.0155, 1.0841, 2.0439, 0.6563, 0.295, 0.1915, 0.1254, -0.4055, 1.2062, 0.8267, 0.3249, -0.0395, 0.5616, -0.2122, 0.0911, 0.3664, 1.0486]}, \"token.table\": {\"Topic\": [6, 1, 3, 8, 2, 1, 8, 1, 2, 4, 6, 7, 9, 6, 2, 1, 10, 4, 6, 4, 7, 3, 8, 9, 3, 4, 1, 8, 2, 3, 4, 8, 9, 7, 8, 1, 3, 2, 7, 5, 1, 4, 7, 6, 1, 2, 3, 4, 5, 6, 7, 8, 9, 10, 4, 6, 7, 4, 2, 10, 5, 3, 6, 10, 7, 4, 5, 8, 2, 7, 9, 1, 8, 6, 10, 7, 8, 8, 6, 7, 10, 1, 3, 8, 2, 5, 10, 4, 7, 2, 3, 6, 7, 7, 7, 9, 6, 5, 1, 3, 7, 6, 9, 7, 10, 1, 5, 3, 7, 3, 4, 9, 8, 6, 7, 7, 8, 10, 4, 4, 7, 10, 8, 3, 3, 1, 3, 5, 6, 7, 9, 10, 1, 3, 4, 6, 7, 8, 5, 2, 6, 9, 10, 7, 9, 5, 3, 5, 3, 9, 10, 8, 1, 9, 10, 7, 3, 6, 9, 2, 6, 8, 10, 2, 6, 1, 2, 3, 5, 6, 7, 8, 9, 3, 9, 1, 4, 2, 9, 10, 7, 9, 3, 4, 3, 10, 6, 5, 6, 7, 2, 4, 1, 5, 8, 3, 8, 10, 10, 8, 2, 1, 6, 1, 3, 6, 7, 8, 10, 3, 5, 7, 8, 10, 2, 8, 4, 5, 10, 2, 5, 10, 2, 6, 3, 6, 9, 5, 10, 10, 7, 10, 7, 2, 9, 2, 7, 1, 2, 5, 6, 9, 9, 6, 7, 3, 1, 6, 4, 6, 9, 6, 9, 9, 2, 1, 7, 2, 5, 6, 2, 7, 4, 2, 1, 2, 6, 4, 7, 6, 6, 7, 4, 10, 2, 3, 4, 5, 7, 2, 9, 2, 9, 9, 2, 3, 4, 5, 6, 10, 1, 2, 3, 4, 5, 6, 7, 8, 10, 4, 8, 5, 6, 7, 7, 5, 8, 1, 2, 3, 6, 10, 2, 7, 3, 2, 10, 5, 8, 7, 6, 2, 3, 5, 6, 7, 9, 10, 9, 7, 1, 2, 3, 5, 6, 8, 6, 5, 7, 5, 6, 7, 8, 2, 10, 1, 9, 1, 2, 3, 5, 6, 9, 10, 4, 7, 4, 5, 4, 10, 1, 5, 1, 5, 7, 3, 2, 3, 4, 9, 9, 2, 1, 8, 8, 1, 5, 10, 4, 2, 1, 8, 1, 1, 4, 8, 5, 4, 10, 2, 3, 4, 5, 10, 1, 2, 4, 3, 2, 3, 1, 2, 5, 5, 4, 2, 3, 8, 4, 3, 3, 10, 5, 8, 5, 8, 6, 2, 4, 4, 9, 10, 4, 5, 6, 7, 9, 4, 3, 5, 8, 1, 1, 4, 5, 9, 1, 2, 3, 4, 9, 4, 5, 8, 9, 2, 3, 6, 7, 8, 9, 4, 1, 2, 3, 4, 5, 6, 4, 2, 8, 3, 7, 9, 9, 10, 6, 3, 5, 8, 4, 5, 2, 3, 5, 10, 9, 3, 1, 10, 1, 3, 4, 5, 6, 8, 1, 2, 5, 7, 8, 10, 5, 4, 1, 3, 10, 7, 2, 3, 9, 1, 1, 2, 8, 9, 10, 2, 1, 2, 3, 6, 7, 8, 9, 10, 5, 1, 2, 4, 5, 7, 9, 10, 5, 3, 1, 3, 7, 5, 6, 7, 8, 9, 4, 2, 3, 4, 5, 2, 3, 7, 8, 9, 10, 1, 2, 4, 5, 8, 5, 6, 7, 4, 5, 7, 8, 4, 5, 6, 10, 5, 8, 9, 5, 4, 10, 3, 1, 5, 6, 1, 3, 4, 5, 6, 8, 9, 10, 9, 2, 8, 8, 1, 2, 6, 7, 10, 1, 4, 6, 3, 8, 7, 9, 8, 8, 4, 7, 2, 5, 6, 3, 5, 10, 2, 3, 4, 8, 10, 1, 4, 5, 6, 3, 6, 8, 6, 2, 3, 5, 8, 10, 1, 3, 7, 4, 2, 3, 1, 5, 6, 4, 3, 4, 6, 7, 10, 9, 10, 5, 9, 4, 4, 3, 2, 3, 9, 5, 6, 7, 1, 9, 10, 10, 8, 3, 4, 6, 7, 10, 3, 8, 10, 10, 2, 1, 7, 8, 3, 9, 5, 9, 3, 7, 8, 8, 6, 9, 4, 2, 4, 1, 8, 9, 6, 8, 3, 8, 8, 1, 2, 3, 4, 5, 6, 7, 8, 9, 10, 10, 9, 10, 2, 8, 9, 7, 9, 8, 9, 3, 8, 1, 10, 4, 1, 4, 5, 6, 7, 10, 4, 2, 8, 5, 6, 6, 10, 10, 1, 2, 7, 1, 7, 8, 2, 5, 6, 7, 8, 8, 9, 9, 10, 2, 10, 7, 3, 2, 4, 6, 2, 1, 7, 9, 6, 8, 10, 2, 1, 8, 1, 4, 6, 9, 6, 5, 7, 9, 2, 1, 1, 9, 2, 4, 2, 5, 10, 4, 6, 8, 6, 3, 4, 8, 2, 10, 8, 6, 7, 5, 6, 6, 6, 1, 8, 3, 2, 7, 9, 10, 9, 1, 2, 4, 5, 6, 7, 9, 10, 1, 2, 3, 4, 5, 6, 7, 8, 9, 10, 4, 9, 2, 7, 5, 7, 10, 1, 2, 3, 4, 6, 7, 8, 9, 10, 1, 2, 3, 4, 5, 6, 7, 8, 9, 10, 10, 1, 2, 3, 5, 6, 9, 10, 3, 2, 6, 7, 8, 2, 3, 5, 6, 9, 6, 8, 2, 6, 5, 7, 9, 5, 10, 4, 5, 5, 1, 7, 3, 5, 7, 1, 7, 9, 1, 10, 3, 7, 3, 8, 9, 4, 7, 7, 4, 1, 2, 3, 6, 10, 1, 2, 3, 4, 6, 7, 8, 1, 2, 3, 7, 10, 3, 2, 8, 9, 10, 3, 7, 9, 2, 3, 1, 7, 8, 10, 2, 10, 2, 3, 4, 7, 8, 9, 10, 4, 5, 6, 10, 1, 2, 3, 4, 5, 6, 7, 6, 5, 6, 7, 9, 4, 10, 6, 7, 5, 4, 8, 1, 10, 3, 4, 5, 7, 8, 9, 1, 3, 5, 6, 7, 8, 10, 2, 4, 8, 5, 1, 3, 6, 9, 10, 10, 4, 2, 4, 1, 3, 4, 6, 7, 9, 9, 7, 3, 8, 9, 3, 4, 5, 6, 8, 10, 2, 3, 5], \"Freq\": [0.9891831401690948, 0.9785323821894111, 0.9949115160300974, 0.9793437383025463, 0.9821232294558927, 0.22237057773353586, 0.7782970220673755, 0.3844590765546029, 0.02402869228466268, 0.16820084599263876, 0.02402869228466268, 0.12014346142331339, 0.28834430741595213, 0.9655997473431073, 0.9901265065148049, 0.9785323821894111, 0.9785063953762962, 1.0032193780871337, 0.9891831401690948, 0.9869219195757257, 0.9659206087873258, 0.6733992480893028, 0.2992885547063568, 0.0374110693382946, 0.18237304004533003, 0.8206786802039852, 1.0027596527570684, 1.0052723980552767, 0.3372609549795063, 0.28400922524590005, 0.017750576577868753, 0.21300691893442505, 0.1597551892008188, 1.005147461840045, 0.963806769270485, 0.9945516897167525, 0.9820454080754814, 0.9901265065148049, 0.9976446482966284, 0.9910622287312844, 0.11185389201413841, 0.6151964060777613, 0.27963473003534606, 0.9655997473431073, 0.05652430448505746, 0.16957291345517236, 0.14759123948876113, 0.10519801112496804, 0.010990836983205616, 0.08321633715855681, 0.08478645672758618, 0.09263705457273305, 0.14602111991973177, 0.1020577719869093, 0.9973374301454473, 0.09178833459274358, 0.9178833459274358, 0.9634449448097454, 0.5702287540820941, 0.4386375031400723, 0.9782948466784426, 0.7804847130658032, 0.22299563230451522, 0.9945248451036425, 0.9659206087873258, 0.11118787084548946, 0.11118787084548946, 0.7783150959184263, 0.27163422372920903, 0.27163422372920903, 0.46565866925007265, 0.9785323821894111, 0.9793437383025463, 0.9655997473431073, 0.9945248451036425, 0.7384358157066355, 0.26852211480241295, 0.963806769270485, 0.06701423795217214, 0.2010427138565164, 0.7371566174738934, 0.6284427600676846, 0.1256885520135369, 0.2513771040270738, 0.20767871315974168, 0.8010464650447179, 0.9986117402003748, 0.9869219195757257, 0.9943787782694181, 0.9664986473426942, 0.38205894954576164, 0.4011618970230497, 0.22923536972745698, 0.9659206087873258, 0.6466021591890935, 0.35922342177171857, 0.9655997473431073, 0.9782948466784426, 0.067399219342555, 0.5054941450691625, 0.4380949257266074, 0.5430756107746427, 0.4654933806639795, 0.06697344431603128, 0.9376282204244378, 0.8287589878301505, 0.1657517975660301, 1.0022979529269462, 0.9815263562639976, 0.9820454080754814, 0.9789701565521997, 0.9982482881639159, 1.0008560298208247, 0.9973023681685921, 0.9999905776104012, 0.1249709342777762, 0.8747965399444334, 0.9864505957420285, 0.9869219195757257, 0.7783283935660582, 0.11118977050943689, 0.11118977050943689, 0.963806769270485, 0.9820454080754814, 0.9664232822891095, 0.0747347525138238, 0.2242042575414714, 0.17821364060988754, 0.18396246772633554, 0.011497654232895971, 0.22995308465791942, 0.10347888809606373, 0.1576481609820439, 0.16594543261267777, 0.14935088935141, 0.08297271630633889, 0.29870177870282, 0.1576481609820439, 0.9966365515284862, 0.15370778691746775, 0.2415408080131636, 0.19762429746531568, 0.41720685020455534, 0.9659206087873258, 0.9781574284317859, 0.9782948466784426, 1.0036778640655593, 0.9910622287312844, 0.990047411691997, 0.29364397261555575, 0.7131353620663498, 0.9873015960454803, 0.9913060054564979, 0.9781574284317859, 0.9785063953762962, 0.9659206087873258, 0.3159708382831661, 0.3791650059397993, 0.3159708382831661, 0.9901265065148049, 0.25200103999928003, 0.4620019066653467, 0.29400121333249335, 0.6165722822007779, 0.39236417958231323, 0.11652994600010279, 0.014566243250012849, 0.21849364875019273, 0.036415608125032126, 0.24762613525021843, 0.10924682437509636, 0.1529455541251349, 0.11652994600010279, 0.2516772464669108, 0.7550317394007324, 0.9785323821894111, 0.9789701565521997, 0.9664986473426942, 0.9941643613533501, 0.9785063953762962, 0.9815263562639976, 0.9781574284317859, 0.9664232822891095, 0.9789701565521997, 1.0005293470028422, 0.9785063953762962, 0.9655997473431073, 0.8200721357258564, 0.18223825238352365, 0.989519868907186, 0.9901265065148049, 0.9789701565521997, 0.26464025278425346, 0.7409927077959098, 0.9953898396651792, 0.9820454080754814, 0.963806769270485, 0.9785063953762962, 0.9864505957420285, 0.9793437383025463, 0.9901265065148049, 0.9968830785971842, 0.9655997473431073, 0.07740426788464508, 0.3096170715385803, 0.6192341430771606, 0.13281086480158438, 0.5843678051269713, 0.29218390256348564, 0.990047411691997, 0.9782948466784426, 0.41464829745092413, 0.5923547106441773, 0.9945248451036425, 0.16597787788689686, 0.8298893894344843, 0.9634449448097454, 0.9782948466784426, 0.9785063953762962, 0.5304077053090289, 0.10608154106180578, 0.37128539371632024, 0.9664986473426942, 0.9811950449472481, 0.9949115160300974, 0.7133884754006345, 0.28535539016025385, 0.9910622287312844, 0.9912793357680288, 0.9968561079820986, 0.9815263562639976, 0.9945248451036425, 0.9943787782694181, 0.9821232294558927, 0.9941643613533501, 0.14286843392633783, 0.8572106035580269, 0.9913060054564979, 0.8223063530815405, 0.1827347451292312, 0.09108213279557079, 0.9108213279557078, 0.9909212005437268, 0.8914027384800826, 0.11142534231001032, 0.990047411691997, 0.9785323821894111, 0.9655997473431073, 0.22891113418378445, 0.27469336102054137, 0.5036044952043258, 0.7133884754006345, 0.28535539016025385, 0.9781574284317859, 1.0023790173298304, 0.9864770062320198, 0.9815263562639976, 0.9821232294558927, 0.19868840086606002, 0.7947536034642401, 1.0065308538515028, 0.9815263562639976, 0.9789701565521997, 0.9821232294558927, 0.2942631722647049, 0.25748027573161675, 0.45978620666360137, 0.6955494260190022, 0.30913307823066766, 0.9891831401690948, 0.38270295634785984, 0.6287262854286269, 0.27330360214418165, 0.7288096057178176, 0.14162967962222686, 0.23368897137667433, 0.27617787526334237, 0.12038522767889283, 0.24077045535778566, 0.9664986473426942, 0.9781574284317859, 0.059120539534038584, 0.9459286325446173, 1.0051299084485577, 0.9821232294558927, 0.26669672976032954, 0.18825651512493852, 0.3451369443957206, 0.20394455805201672, 0.007844021463539104, 0.16238693386337694, 0.08596955322178779, 0.1814912790237742, 0.04776086290099321, 0.10507389838218507, 0.10507389838218507, 0.10507389838218507, 0.13691447364951387, 0.07641738064158914, 0.16588758310282353, 0.8294379155141176, 0.1741482152430406, 0.45278535963190564, 0.38312607353468936, 0.989519868907186, 0.9862355984766317, 0.963806769270485, 0.3295900504450343, 0.09092139322621637, 0.15911243814587864, 0.21593830891226387, 0.21593830891226387, 0.14388353624287487, 0.8633012174572492, 0.9820454080754814, 0.17519470484481695, 0.8321748480128806, 0.9782948466784426, 0.963806769270485, 0.9659206087873258, 0.9811950449472481, 0.4476204469517462, 0.17052207502923664, 0.05328814844663645, 0.04263051875730916, 0.01065762968932729, 0.15986444533990934, 0.11723392658260019, 0.9860959405066047, 0.989519868907186, 0.2311318670076896, 0.11158090131405704, 0.20722167386896306, 0.08767070817533053, 0.20722167386896306, 0.16737135197108555, 0.9655997473431073, 0.9862355984766317, 0.9659206087873258, 0.9782948466784426, 0.05036908997511081, 0.15110726992533244, 0.805905439601773, 0.8839572635505513, 0.12627960907865018, 1.0027596527570684, 0.9860959405066047, 0.18952273880389298, 0.24316124978612685, 0.04291080878578709, 0.16091553294670158, 0.08939751830372311, 0.16449143367885052, 0.11442882342876558, 0.9634449448097454, 0.9815263562639976, 0.18838421703784183, 0.8163316071639813, 0.8291033671285846, 0.1658206734257169, 0.22218126557573062, 0.7776344295150571, 0.9785323821894111, 0.6151440498099895, 0.39145530442453874, 1.0047845316892017, 0.9664986473426942, 0.7541225250400606, 0.08379139167111785, 0.1675827833422357, 0.9996170634840261, 1.0086196965048444, 0.9785323821894111, 0.9793437383025463, 0.9793437383025463, 0.44307755189272496, 0.3222382195583454, 0.24167866466875906, 0.9634449448097454, 0.9901265065148049, 0.9785323821894111, 0.963806769270485, 1.0011072396532692, 0.9864770062320198, 0.9869219195757257, 1.004249780332086, 0.9910622287312844, 0.9634449448097454, 0.9785063953762962, 0.2793291654510829, 0.039904166493011844, 0.05320555532401579, 0.3591374984371066, 0.2793291654510829, 0.18340569488256306, 0.5502170846476891, 0.2751085423238446, 0.990047411691997, 1.0048659988291222, 0.9664232822891095, 0.12594206742488046, 0.2099034457081341, 0.6716910262660292, 0.9782948466784426, 1.0032193780871337, 0.3499569600811839, 0.6610298134866807, 0.963806769270485, 0.9634449448097454, 0.9664232822891095, 0.7306741398676191, 0.27400280245035713, 0.999760577906787, 0.9793437383025463, 0.9910622287312844, 0.9921386914958702, 0.9655997473431073, 0.5051393871288966, 0.5051393871288966, 0.7780248372457371, 0.11114640532081958, 0.11114640532081958, 0.20885758646147304, 0.016065968189344082, 0.18475863417745692, 0.40968218882827406, 0.18475863417745692, 0.9789701565521997, 0.4143416094322879, 0.5438233623798779, 0.05179270117903599, 0.9785323821894111, 1.0011072396532692, 0.9789701565521997, 0.32014978555029333, 0.6860352547506287, 0.06460706615704276, 0.35533886386373514, 0.2045890428306354, 0.23689257590915674, 0.15074982103309975, 0.9869219195757257, 0.43116188010226, 0.04790687556691777, 0.5269756312360955, 0.20933860393637002, 0.23445923640873442, 0.16747088314909603, 0.20933860393637002, 0.1758444273065508, 0.016747088314909602, 0.9869219195757257, 0.09940221320280283, 0.14910331980420424, 0.01656703553380047, 0.13253628427040376, 0.4141758883450118, 0.19880442640560567, 0.9917552863304404, 0.9664986473426942, 0.963806769270485, 0.8064078271304145, 0.20160195678260362, 0.9982482881639159, 0.14240062178798793, 0.8544037307279276, 0.9940387350545621, 0.8312775279306249, 0.16625550558612498, 0.9793437383025463, 0.8892332846069051, 0.11115416057586314, 0.9664986473426942, 1.0036778640655593, 0.9910622287312844, 0.9999815131000771, 0.9982482881639159, 0.990047411691997, 0.2151260997773168, 0.788795699183495, 0.654795493613161, 0.35258218886862513, 0.27547040483697816, 0.1652822429021869, 0.11018816193479126, 0.45911734139496363, 0.9785323821894111, 0.45344119260673776, 0.5542059020749017, 0.4125017171818703, 0.595835813707146, 0.9968561079820986, 1.0031468908943755, 0.9869219195757257, 0.3982620263650219, 0.13275400878834062, 0.47791443163802627, 0.9815263562639976, 0.1751726096646385, 0.04379315241615962, 0.7882767434908733, 0.9986388059000352, 0.08980960693930709, 0.3367860260224016, 0.3367860260224016, 0.15716681214378742, 0.08980960693930709, 0.9982612919028998, 0.04370855550631211, 0.21125801828050855, 0.029139037004208074, 0.19668849977840452, 0.2331122960336646, 0.050993314757364135, 0.06556283325946817, 0.18211898127630047, 0.999760577906787, 0.11053530171488665, 0.10234750158785802, 0.1432865022230012, 0.27019740419194516, 0.06140850095271481, 0.19241330298517306, 0.12691090196894395, 1.0041672625868048, 1.0022979529269462, 1.0048328559471553, 0.9820454080754814, 0.9815263562639976, 0.08285941134336777, 0.3148657631047975, 0.16571882268673555, 0.18229070495540908, 0.26515011629877683, 0.9869219195757257, 0.16816907711246457, 0.20180289253495748, 0.06726763084498583, 0.5717748621823796, 0.9901265065148049, 0.25683376891627485, 0.16052110557267177, 0.40130276393167946, 0.032104221114534356, 0.16052110557267177, 0.1346245137707178, 0.08974967584714519, 0.35899870338858075, 0.044874837923572594, 0.38143612235036706, 0.9910622287312844, 0.9217862252382454, 0.0837987477489314, 0.24814682522028528, 0.17724773230020377, 0.17724773230020377, 0.4076697842904687, 0.9634449448097454, 0.6148686670758741, 0.27948575776176093, 0.11179430310470437, 0.9966365515284862, 0.8550420752835277, 0.14250701254725462, 1.001758812199231, 0.9869219195757257, 0.9785063953762962, 0.9949115160300974, 0.6700982979501301, 0.067009829795013, 0.268039319180052, 0.09780727655935491, 0.0760723262128316, 0.021734950346523313, 0.0760723262128316, 0.03260242551978497, 0.380361631064158, 0.06520485103956994, 0.26081940415827976, 0.9860959405066047, 0.2500515203972905, 0.7501545611918715, 0.963806769270485, 0.1296750724363866, 0.492765275258269, 0.1556100869236639, 0.20748011589821852, 0.025935014487277315, 0.43972795558468686, 0.5653645143231688, 0.9655997473431073, 0.8224163140200622, 0.18275918089334714, 0.9659206087873258, 0.9781574284317859, 0.9873015960454803, 0.9793437383025463, 0.9789701565521997, 0.9659206087873258, 0.9901265065148049, 0.9910622287312844, 0.9655997473431073, 0.9949115160300974, 1.0008586191665128, 0.9945248451036425, 0.2829110558979586, 0.020207932564139903, 0.16166346051311922, 0.12124759538483941, 0.42436658384693793, 0.22353007407860273, 0.7823552592751095, 0.6867672148467773, 0.32049136692849606, 0.9664232822891095, 0.9655997473431073, 0.963806769270485, 0.9891831401690948, 0.23921931025831836, 0.15947954017221225, 0.34553900370645985, 0.21263938689628298, 0.053159846724070745, 0.6045379262241477, 0.4030252841494318, 0.9815263562639976, 0.9789701565521997, 0.9664986473426942, 0.990047411691997, 0.25255372568642775, 0.3968701403643865, 0.3607910366948968, 0.9917552863304404, 0.21985809546659893, 0.21985809546659893, 0.39574457183987805, 0.13191485727995936, 0.043971619093319786, 0.10010435029264689, 0.9009391526338221, 0.9862355984766317, 0.9781574284317859, 0.9789701565521997, 0.9789701565521997, 0.9820454080754814, 0.47790850215901376, 0.37170661279034406, 0.15930283405300458, 1.0031468908943755, 0.9655997473431073, 0.9815263562639976, 0.754486334168816, 0.25149544472293867, 0.9945248451036425, 0.9912793357680288, 0.9793437383025463, 0.40727179141998027, 0.17611753142485634, 0.18712487713890985, 0.1651101857108028, 0.06604407428432112, 0.03875742395806726, 0.38757423958067255, 0.5813613593710089, 0.9785063953762962, 0.9821232294558927, 0.5049647377183173, 0.2983882541062784, 0.2065764836120389, 0.9664232822891095, 0.9982482881639159, 0.11821423509916126, 0.8866067632437095, 0.19415825439154036, 0.42714815966138875, 0.3883165087830807, 0.9873015960454803, 0.9973023681685921, 0.9860959405066047, 0.9789701565521997, 1.0037591518415647, 0.9789701565521997, 0.06877702086158052, 0.22925673620526843, 0.7106958822363321, 0.9811950449472481, 0.963806769270485, 0.9949115160300974, 0.9873015960454803, 0.963806769270485, 0.010091573453624767, 0.08073258762899814, 0.15473745962224641, 0.14464588616862165, 0.07400487199324829, 0.1379181705328718, 0.0908241610826229, 0.17492060652949595, 0.04373015163237399, 0.0908241610826229, 0.9968561079820986, 0.13391214823542877, 0.870428963530287, 0.7512402428520684, 0.25041341428402275, 0.9941643613533501, 0.9815263562639976, 1.0030024026931086, 0.963806769270485, 0.9781574284317859, 0.9664232822891095, 0.9793437383025463, 0.8792257517353449, 0.12560367881933499, 0.9634449448097454, 0.3373446884831197, 0.015333849476505441, 0.0383346236912636, 0.11500387107379081, 0.42934778534215234, 0.06900232264427449, 0.9634449448097454, 0.16597787788689686, 0.8298893894344843, 0.440256443269464, 0.5660439984893109, 0.9655997473431073, 0.9912793357680288, 0.9785063953762962, 0.06461517890926627, 0.5815366101833964, 0.3661526804858422, 0.12513523546079444, 0.7508114127647666, 0.12513523546079444, 0.07232306276559569, 0.1898480397596887, 0.4068172280564758, 0.2802518682166833, 0.05424229707419677, 0.2678281300537291, 0.736527357647755, 0.9860959405066047, 0.9785063953762962, 0.3143732193169139, 0.6916210824972107, 0.9943787782694181, 0.9820454080754814, 0.9821232294558927, 0.4025136306258959, 0.6037704459388439, 0.9901265065148049, 0.9913060054564979, 0.9815263562639976, 0.9941643613533501, 0.9811950449472481, 0.9977251643310409, 0.9999815131000771, 0.9821232294558927, 0.9864770062320198, 0.963806769270485, 0.958420009011092, 0.0479210004505546, 0.9655997473431073, 0.9909212005437268, 0.9655997473431073, 0.9862355984766317, 0.4021757535699669, 0.6032636303549503, 1.0023790173298304, 0.9945516897167525, 0.9785323821894111, 0.9982482881639159, 0.3591382354724459, 0.6464488238504026, 0.14011009245244613, 0.08406605547146768, 0.7846165177336983, 0.2226794045459757, 0.6680382136379271, 0.11133970227298785, 0.9811950449472481, 0.13404478492127134, 0.8042687095276281, 0.06702239246063567, 0.9821232294558927, 0.9785063953762962, 0.963806769270485, 0.9811950449472481, 0.9659206087873258, 0.8166879631848766, 0.18846645304266382, 0.9655997473431073, 1.0038943504112354, 0.9913060054564979, 0.9873015960454803, 0.9981808921227604, 0.18932514360548652, 0.06310838120182884, 0.44175866841280187, 0.3155419060091442, 0.9996170634840261, 0.1193724575442922, 0.005684402740204391, 0.13642566576490536, 0.11368805480408781, 0.16484767946592732, 0.25011372056899317, 0.08526604110306586, 0.130741263024701, 0.08259290529902247, 0.08259290529902247, 0.12458929782394915, 0.11479013956813292, 0.1721852093521994, 0.1161900193189638, 0.011199038006647115, 0.06719422803988269, 0.16658569034887583, 0.06299458878739002, 0.5652671428883972, 0.43965222224653117, 0.056040140603069784, 0.9526823902521864, 0.27511092506850277, 0.24454304450533582, 0.48908608901067163, 0.03895199716234854, 0.0941339931423423, 0.19800598557527174, 0.16229998817645225, 0.07141199479763899, 0.15580798864939416, 0.13308599030469084, 0.042197996925877584, 0.10711799219645848, 0.0931543549406643, 0.06436119068627716, 0.22695788294634575, 0.16598412334882, 0.010162293266254287, 0.08299206167441, 0.13210981246130574, 0.12533495028380287, 0.09146063939628858, 0.0050811466331271435, 1.0019806315451105, 0.026805889024869505, 0.20104416768652128, 0.08711913933082589, 0.3886853908606078, 0.1943426954303039, 0.10052208384326064, 0.006701472256217376, 1.007641486450418, 0.22830056915884273, 0.1630718351134591, 0.5870586064084528, 0.03261436702269182, 0.05049231666410575, 0.1009846333282115, 0.4796770083090046, 0.3029538999846345, 0.07573847499615863, 0.8336956111968352, 0.17551486551512321, 0.9821232294558927, 0.9655997473431073, 0.17482486376018047, 0.36907471238260325, 0.4661996366938146, 0.16757685882306733, 0.8378842941153367, 0.9634449448097454, 0.9862355984766317, 0.9862355984766317, 0.9785323821894111, 0.989519868907186, 0.050429418481292794, 0.20171767392517118, 0.7564412772193919, 0.028063955299332272, 0.6735349271839746, 0.30870350829265497, 0.23154822251850707, 0.7718274083950235, 0.12522810376773308, 0.8765967263741317, 0.8314288585575507, 0.16628577171151013, 0.9909212005437268, 0.9634449448097454, 0.9815263562639976, 0.9815263562639976, 0.9634449448097454, 0.4046739198541046, 0.2529211999088154, 0.3540896798723415, 0.9655997473431073, 0.9864505957420285, 0.006937623481940674, 0.06243861133746607, 0.1318148461568728, 0.055500987855525395, 0.22200395142210158, 0.277504939277627, 0.24975444534986427, 0.34996939988614034, 0.07777097775247563, 0.40829763320049706, 0.019442744438118907, 0.15554195550495126, 0.9664232822891095, 0.09170136646875023, 0.4890739545000012, 0.2445369772500006, 0.18340273293750045, 0.9949115160300974, 0.9999905776104012, 0.9996170634840261, 0.20196226848617682, 0.8078490739447073, 0.22088167973718323, 0.3847616356712224, 0.1852556023602182, 0.21375646426179024, 1.0037591518415647, 0.9785063953762962, 0.1751717568832328, 0.22383057823968636, 0.18490352115452352, 0.09731764271290712, 0.13624469979806997, 0.05839058562774427, 0.13624469979806997, 0.2278676930657743, 0.0325525275808249, 0.42318285855072374, 0.325525275808249, 0.9785323821894111, 0.07902922953035571, 0.3635344558396363, 0.17386430496678257, 0.26869938040320945, 0.015805845906071144, 0.110640921342498, 0.9891831401690948, 0.20777764797642206, 0.41555529595284413, 0.02968252113948887, 0.3561902536738664, 0.8201278356333155, 0.18225063014073678, 0.1343367586220465, 0.8731889310433022, 0.9910622287312844, 0.11120140694058163, 0.889611255524653, 0.9913060054564979, 0.9785063953762962, 0.045254956207193865, 0.07542492701198977, 0.15084985402397955, 0.28661472264556115, 0.1659348394263775, 0.28661472264556115, 0.3472482328584057, 0.2807538903961578, 0.0369413013679155, 0.1403769451980789, 0.1034356438301634, 0.0591060821886648, 0.0295530410943324, 0.20044476493812807, 0.8017790597525123, 0.9873015960454803, 0.9782948466784426, 0.17966527059882226, 0.2919560647230862, 0.2470397470733806, 0.022458158824852782, 0.2694979058982334, 0.9968561079820986, 0.9634449448097454, 0.3353279423406061, 0.6706558846812122, 0.1412003760956746, 0.18826716812756614, 0.09413358406378307, 0.24710065816743054, 0.200033866135539, 0.1412003760956746, 0.9860959405066047, 0.9976446482966284, 0.5364918054745595, 0.09467502449551052, 0.37870009798204207, 0.00871795534683694, 0.12205137485571715, 0.2179488836709235, 0.3051284371392929, 0.19179501763041268, 0.16564115158990186, 0.2394340511215133, 0.45226431878508067, 0.3192454014953511], \"Term\": [\"100\", \"2012\", \"29\", \"50\", \"65\", \"able\", \"able\", \"about\", \"about\", \"about\", \"about\", \"about\", \"about\", \"absolute\", \"absolutely\", \"absorb\", \"activity\", \"actually\", \"add\", \"adidas\", \"adjust\", \"after\", \"after\", \"after\", \"again\", \"again\", \"ago\", \"air\", \"all\", \"all\", \"all\", \"all\", \"all\", \"almost\", \"alone\", \"along\", \"alot\", \"already\", \"although\", \"amazing\", \"amazon\", \"amazon\", \"amazon\", \"amazone\", \"and\", \"and\", \"and\", \"and\", \"and\", \"and\", \"and\", \"and\", \"and\", \"and\", \"ankle\", \"another\", \"another\", \"anticipate\", \"any\", \"any\", \"anymore\", \"anyone\", \"anyone\", \"anything\", \"appreciate\", \"area\", \"area\", \"area\", \"around\", \"around\", \"around\", \"arrival\", \"asics\", \"average\", \"away\", \"awesome\", \"awesome\", \"awhile\", \"back\", \"back\", \"back\", \"bad\", \"bad\", \"bad\", \"bag\", \"bag\", \"balance\", \"barely\", \"base\", \"beautifully\", \"because\", \"because\", \"because\", \"bed\", \"before\", \"before\", \"bend\", \"best\", \"big\", \"big\", \"big\", \"bit\", \"bit\", \"black\", \"black\", \"blister\", \"blister\", \"blue\", \"body\", \"boot\", \"bother\", \"bottom\", \"box\", \"boy\", \"boyfriend\", \"bra\", \"bra\", \"breath\", \"breathable\", \"bright\", \"bright\", \"bright\", \"bring\", \"build\", \"business\", \"but\", \"but\", \"but\", \"but\", \"but\", \"but\", \"but\", \"buy\", \"buy\", \"buy\", \"buy\", \"buy\", \"buy\", \"calf\", \"can\", \"can\", \"can\", \"can\", \"cardio\", \"care\", \"case\", \"casual\", \"cause\", \"center\", \"cheap\", \"cheap\", \"check\", \"choose\", \"classic\", \"close\", \"collection\", \"color\", \"color\", \"color\", \"combination\", \"come\", \"come\", \"come\", \"comfort\", \"comfort\", \"comfortable\", \"comfortable\", \"comfortable\", \"comfortable\", \"comfortable\", \"comfortable\", \"comfortable\", \"comfortable\", \"comfy\", \"comfy\", \"como\", \"company\", \"compartment\", \"compliment\", \"compra\", \"compress\", \"consider\", \"construct\", \"construction\", \"cortez\", \"cost\", \"cotton\", \"could\", \"could\", \"couple\", \"crew\", \"current\", \"cushion\", \"cushion\", \"cushioning\", \"cushy\", \"cusion\", \"customer\", \"cut\", \"daily\", \"dark\", \"dart\", \"date\", \"daughter\", \"daughter\", \"daughter\", \"day\", \"day\", \"day\", \"decent\", \"definately\", \"definitely\", \"definitely\", \"delivery\", \"describe\", \"describe\", \"description\", \"deserve\", \"develop\", \"different\", \"different\", \"different\", \"directly\", \"distance\", \"dog\", \"down\", \"down\", \"due\", \"during\", \"each\", \"early\", \"edge\", \"else\", \"elsewhere\", \"enjoy\", \"especially\", \"especially\", \"etc\", \"ever\", \"ever\", \"every\", \"every\", \"everyday\", \"everyone\", \"everyone\", \"everywhere\", \"excelente\", \"exercise\", \"expect\", \"expect\", \"expect\", \"expensive\", \"expensive\", \"experience\", \"extremely\", \"fabric\", \"fall\", \"family\", \"fan\", \"fan\", \"far\", \"fashion\", \"fat\", \"favorite\", \"feel\", \"feel\", \"feel\", \"few\", \"few\", \"finally\", \"find\", \"find\", \"fine\", \"fine\", \"fit\", \"fit\", \"fit\", \"fit\", \"fit\", \"five\", \"flat\", \"flip\", \"flip\", \"flop\", \"foam\", \"foot\", \"foot\", \"foot\", \"foot\", \"foot\", \"for\", \"for\", \"for\", \"for\", \"for\", \"for\", \"for\", \"for\", \"for\", \"free\", \"free\", \"from\", \"from\", \"from\", \"full\", \"game\", \"gear\", \"get\", \"get\", \"get\", \"get\", \"get\", \"gift\", \"gift\", \"girlfriend\", \"give\", \"give\", \"glad\", \"glow\", \"glue\", \"gold\", \"good\", \"good\", \"good\", \"good\", \"good\", \"good\", \"good\", \"grandson\", \"gray\", \"great\", \"great\", \"great\", \"great\", \"great\", \"great\", \"grey\", \"grip\", \"grow\", \"guy\", \"gym\", \"gym\", \"gym\", \"happy\", \"happy\", \"hard\", \"hate\", \"have\", \"have\", \"have\", \"have\", \"have\", \"have\", \"have\", \"head\", \"hear\", \"heel\", \"heel\", \"help\", \"help\", \"here\", \"here\", \"hey\", \"high\", \"high\", \"highly\", \"hit\", \"hour\", \"hour\", \"hour\", \"house\", \"how\", \"hubby\", \"huge\", \"hurt\", \"husband\", \"husband\", \"husband\", \"impact\", \"important\", \"impressed\", \"initially\", \"inside\", \"insole\", \"instep\", \"issue\", \"item\", \"ive\", \"job\", \"just\", \"just\", \"just\", \"just\", \"just\", \"keep\", \"keep\", \"keep\", \"kid\", \"kind\", \"kinda\", \"know\", \"know\", \"know\", \"label\", \"lace\", \"last\", \"last\", \"lasting\", \"layer\", \"least\", \"leather\", \"leather\", \"leave\", \"lebron\", \"leg\", \"less\", \"level\", \"light\", \"light\", \"lightweight\", \"lightweight\", \"lightweight\", \"like\", \"like\", \"like\", \"like\", \"like\", \"lite\", \"little\", \"little\", \"little\", \"llego\", \"local\", \"lol\", \"long\", \"long\", \"look\", \"look\", \"look\", \"look\", \"look\", \"lose\", \"lot\", \"lot\", \"lot\", \"love\", \"love\", \"love\", \"love\", \"love\", \"love\", \"low\", \"make\", \"make\", \"make\", \"make\", \"make\", \"make\", \"man\", \"marathon\", \"match\", \"material\", \"material\", \"max\", \"may\", \"may\", \"maybe\", \"men\", \"men\", \"mention\", \"mesh\", \"mesh\", \"mess\", \"might\", \"mind\", \"model\", \"mom\", \"monarch\", \"money\", \"money\", \"month\", \"month\", \"more\", \"more\", \"more\", \"more\", \"morning\", \"most\", \"most\", \"much\", \"much\", \"must\", \"narrow\", \"navy\", \"need\", \"need\", \"need\", \"nephew\", \"new\", \"new\", \"new\", \"next\", \"nice\", \"nice\", \"nice\", \"nice\", \"nice\", \"nicely\", \"nike\", \"nike\", \"nike\", \"nike\", \"nike\", \"nike\", \"nike\", \"nike\", \"normally\", \"not\", \"not\", \"not\", \"not\", \"not\", \"not\", \"not\", \"now\", \"nylon\", \"off\", \"okay\", \"once\", \"one\", \"one\", \"one\", \"one\", \"one\", \"online\", \"only\", \"only\", \"only\", \"only\", \"open\", \"order\", \"order\", \"order\", \"order\", \"order\", \"other\", \"other\", \"other\", \"other\", \"other\", \"otherwise\", \"our\", \"our\", \"out\", \"out\", \"out\", \"out\", \"outsole\", \"over\", \"over\", \"over\", \"overall\", \"own\", \"own\", \"pack\", \"package\", \"padded\", \"padding\", \"pain\", \"pain\", \"pain\", \"pair\", \"pair\", \"pair\", \"pair\", \"pair\", \"pair\", \"pair\", \"pair\", \"patricia\", \"pegasus\", \"pegasus\", \"penny\", \"perfect\", \"perfect\", \"perfect\", \"perfect\", \"perfect\", \"perfectly\", \"perfectly\", \"pick\", \"picture\", \"picture\", \"pinch\", \"pink\", \"place\", \"plan\", \"plastic\", \"plenty\", \"plus\", \"point\", \"pound\", \"present\", \"pretty\", \"previous\", \"price\", \"price\", \"price\", \"price\", \"price\", \"problem\", \"problem\", \"product\", \"product\", \"properly\", \"protection\", \"prove\", \"pull\", \"purchase\", \"purchase\", \"purchase\", \"purchase\", \"purchase\", \"put\", \"put\", \"range\", \"rather\", \"rave\", \"real\", \"really\", \"really\", \"really\", \"reason\", \"recommend\", \"recommend\", \"recommend\", \"recommend\", \"recommend\", \"red\", \"red\", \"regret\", \"regular\", \"replace\", \"result\", \"retail\", \"return\", \"return\", \"return\", \"review\", \"reviewer\", \"ride\", \"right\", \"right\", \"room\", \"rub\", \"rubber\", \"run\", \"run\", \"run\", \"run\", \"run\", \"running\", \"running\", \"running\", \"satisfied\", \"save\", \"say\", \"say\", \"say\", \"scary\", \"school\", \"see\", \"see\", \"seem\", \"seem\", \"seem\", \"selection\", \"send\", \"set\", \"settle\", \"several\", \"shade\", \"she\", \"she\", \"she\", \"shift\", \"ship\", \"shipping\", \"shirt\", \"shock\", \"shoe\", \"shoe\", \"shoe\", \"shoe\", \"shoe\", \"shoe\", \"shoe\", \"shoe\", \"shoe\", \"shoe\", \"short\", \"should\", \"should\", \"show\", \"show\", \"shower\", \"shrink\", \"side\", \"significant\", \"significantly\", \"silly\", \"similar\", \"since\", \"since\", \"single\", \"size\", \"size\", \"size\", \"size\", \"size\", \"size\", \"sized\", \"sizing\", \"sizing\", \"slide\", \"slide\", \"slight\", \"slightly\", \"slip\", \"sneaker\", \"sneaker\", \"sneaker\", \"snug\", \"snug\", \"snug\", \"sock\", \"sock\", \"sock\", \"sock\", \"sock\", \"soft\", \"soft\", \"sol\", \"someone\", \"something\", \"something\", \"somewhat\", \"sore\", \"space\", \"sport\", \"sport\", \"sporty\", \"spot\", \"squat\", \"squeak\", \"squeeze\", \"stand\", \"star\", \"steal\", \"step\", \"sticky\", \"store\", \"store\", \"street\", \"stretch\", \"stroke\", \"stuff\", \"style\", \"style\", \"stylish\", \"such\", \"suggest\", \"summer\", \"super\", \"super\", \"support\", \"support\", \"support\", \"supportive\", \"supportive\", \"supportive\", \"suppose\", \"sure\", \"sure\", \"sure\", \"surface\", \"surprise\", \"sweat\", \"sweaty\", \"syle\", \"take\", \"take\", \"teenager\", \"tell\", \"ten\", \"tend\", \"tennis\", \"than\", \"than\", \"than\", \"than\", \"thank\", \"that\", \"that\", \"that\", \"that\", \"that\", \"that\", \"that\", \"that\", \"the\", \"the\", \"the\", \"the\", \"the\", \"the\", \"the\", \"the\", \"the\", \"the\", \"their\", \"their\", \"then\", \"then\", \"there\", \"there\", \"there\", \"these\", \"these\", \"these\", \"these\", \"these\", \"these\", \"these\", \"these\", \"these\", \"they\", \"they\", \"they\", \"they\", \"they\", \"they\", \"they\", \"they\", \"they\", \"they\", \"thin\", \"this\", \"this\", \"this\", \"this\", \"this\", \"this\", \"this\", \"though\", \"tight\", \"tight\", \"tight\", \"tight\", \"time\", \"time\", \"time\", \"time\", \"time\", \"toe\", \"toe\", \"together\", \"toiletry\", \"too\", \"too\", \"too\", \"top\", \"top\", \"total\", \"towel\", \"trash\", \"travel\", \"trip\", \"true\", \"true\", \"true\", \"try\", \"try\", \"try\", \"two\", \"two\", \"uncomfortable\", \"uncomfortable\", \"under\", \"under\", \"unfortunately\", \"unglued\", \"unlike\", \"unusual\", \"upper\", \"use\", \"use\", \"use\", \"vary\", \"version\", \"very\", \"very\", \"very\", \"very\", \"very\", \"very\", \"very\", \"walk\", \"walk\", \"walk\", \"walk\", \"walk\", \"walking\", \"want\", \"want\", \"want\", \"want\", \"warm\", \"wash\", \"water\", \"way\", \"way\", \"wear\", \"wear\", \"wear\", \"wear\", \"week\", \"weird\", \"well\", \"well\", \"well\", \"well\", \"well\", \"well\", \"well\", \"what\", \"what\", \"what\", \"what\", \"whatever\", \"when\", \"when\", \"when\", \"when\", \"when\", \"when\", \"where\", \"which\", \"which\", \"which\", \"which\", \"white\", \"white\", \"who\", \"who\", \"whole\", \"why\", \"why\", \"width\", \"wife\", \"will\", \"will\", \"will\", \"will\", \"will\", \"will\", \"with\", \"with\", \"with\", \"with\", \"with\", \"with\", \"with\", \"woman\", \"woman\", \"women\", \"wonderful\", \"work\", \"work\", \"work\", \"work\", \"work\", \"workout\", \"worried\", \"worth\", \"worth\", \"would\", \"would\", \"would\", \"would\", \"would\", \"would\", \"write\", \"wrong\", \"year\", \"year\", \"year\", \"you\", \"you\", \"you\", \"you\", \"you\", \"you\", \"your\", \"your\", \"your\"]}, \"R\": 30, \"lambda.step\": 0.01, \"plot.opts\": {\"xlab\": \"PC1\", \"ylab\": \"PC2\"}, \"topic.order\": [1, 2, 3, 4, 5, 6, 7, 8, 9, 10]};\n",
       "\n",
       "function LDAvis_load_lib(url, callback){\n",
       "  var s = document.createElement('script');\n",
       "  s.src = url;\n",
       "  s.async = true;\n",
       "  s.onreadystatechange = s.onload = callback;\n",
       "  s.onerror = function(){console.warn(\"failed to load library \" + url);};\n",
       "  document.getElementsByTagName(\"head\")[0].appendChild(s);\n",
       "}\n",
       "\n",
       "if(typeof(LDAvis) !== \"undefined\"){\n",
       "   // already loaded: just create the visualization\n",
       "   !function(LDAvis){\n",
       "       new LDAvis(\"#\" + \"ldavis_el454828160137638565884411285\", ldavis_el454828160137638565884411285_data);\n",
       "   }(LDAvis);\n",
       "}else if(typeof define === \"function\" && define.amd){\n",
       "   // require.js is available: use it to load d3/LDAvis\n",
       "   require.config({paths: {d3: \"https://cdnjs.cloudflare.com/ajax/libs/d3/3.5.5/d3.min\"}});\n",
       "   require([\"d3\"], function(d3){\n",
       "      window.d3 = d3;\n",
       "      LDAvis_load_lib(\"https://cdn.rawgit.com/bmabey/pyLDAvis/files/ldavis.v1.0.0.js\", function(){\n",
       "        new LDAvis(\"#\" + \"ldavis_el454828160137638565884411285\", ldavis_el454828160137638565884411285_data);\n",
       "      });\n",
       "    });\n",
       "}else{\n",
       "    // require.js not available: dynamically load d3 & LDAvis\n",
       "    LDAvis_load_lib(\"https://cdnjs.cloudflare.com/ajax/libs/d3/3.5.5/d3.min.js\", function(){\n",
       "         LDAvis_load_lib(\"https://cdn.rawgit.com/bmabey/pyLDAvis/files/ldavis.v1.0.0.js\", function(){\n",
       "                 new LDAvis(\"#\" + \"ldavis_el454828160137638565884411285\", ldavis_el454828160137638565884411285_data);\n",
       "            })\n",
       "         });\n",
       "}\n",
       "</script>"
      ],
      "text/plain": [
       "<IPython.core.display.HTML object>"
      ]
     },
     "execution_count": 10,
     "metadata": {},
     "output_type": "execute_result"
    }
   ],
   "source": [
    "%matplotlib inline\n",
    "vis = pyLDAvis.prepare(**ldavis_params)\n",
    "pyLDAvis.enable_notebook(local=True)\n",
    "pyLDAvis.display(vis)"
   ]
  },
  {
   "cell_type": "markdown",
   "metadata": {
    "id": "kZECZFYtWUp2"
   },
   "source": [
    "⚡️ **For a better screenshot:**\n",
    "\n",
    " * Select the code cell above which contains the display code\n",
    " * Select the 3 dots at the far right for \"More cell actions\"\n",
    " * Select \"View output fullscreen\"\n",
    "\n"
   ]
  },
  {
   "cell_type": "markdown",
   "metadata": {
    "id": "NdynLl1rU9C6"
   },
   "source": [
    "## Submit a screenshot for peer evaluation"
   ]
  },
  {
   "cell_type": "markdown",
   "metadata": {
    "id": "X28_EexNVDb3"
   },
   "source": [
    "Once you have completed execution of the above code, and have generated the visualization of your topic model, submit a screenshot of your interactive LDAvis above as proof of completion of the lab. This should be submitted as an image file in the peer review assessment after Lab 2 in Coursera."
   ]
  },
  {
   "cell_type": "markdown",
   "metadata": {
    "id": "1utC0eOXVpxl"
   },
   "source": [
    "💡 Tip: The LDAvis tends to be a bit more readable in Colab's light theme than it is in the dark theme (Go to Tools > Settings > Sight > Theme > light). Also, it may be easier to get a good screenshot by viewing the chart at full screen (see the ⚡️ tip above)."
   ]
  }
 ],
 "metadata": {
  "colab": {
   "provenance": []
  },
  "kernelspec": {
   "display_name": "Python 3 (ipykernel)",
   "language": "python",
   "name": "python3"
  },
  "language_info": {
   "codemirror_mode": {
    "name": "ipython",
    "version": 3
   },
   "file_extension": ".py",
   "mimetype": "text/x-python",
   "name": "python",
   "nbconvert_exporter": "python",
   "pygments_lexer": "ipython3",
   "version": "3.10.9"
  }
 },
 "nbformat": 4,
 "nbformat_minor": 4
}
