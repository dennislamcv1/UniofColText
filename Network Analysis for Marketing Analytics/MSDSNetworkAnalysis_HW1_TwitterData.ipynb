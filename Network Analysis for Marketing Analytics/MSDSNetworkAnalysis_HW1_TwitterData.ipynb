{
 "cells": [
  {
   "cell_type": "markdown",
   "metadata": {
    "id": "Blhvc2teosDj"
   },
   "source": [
    "# MSDS Network Analysis, Homework 1: Twitter data wrangling"
   ]
  },
  {
   "cell_type": "markdown",
   "metadata": {
    "id": "YIjMSV2y4rna"
   },
   "source": [
    "## ⚡️ Make a Copy\n",
    "\n",
    "Save a copy of this notebook in your Google Drive before continuing. Be sure to edit your own copy, not the original notebook."
   ]
  },
  {
   "cell_type": "markdown",
   "metadata": {
    "id": "R0dxMCbrGkVI"
   },
   "source": [
    "## 🏁 We are working toward a goal: the final project"
   ]
  },
  {
   "cell_type": "markdown",
   "metadata": {
    "id": "GBTs-_v7Go2x"
   },
   "source": [
    "Please take a moment to review the requirements for the upcoming final project for this course. The homework assignments and coding labs are designed to step you toward the goal of preparing to complete your final project."
   ]
  },
  {
   "cell_type": "markdown",
   "metadata": {
    "id": "_W2TItPIpZIw"
   },
   "source": [
    "## Working with Twitter data"
   ]
  },
  {
   "cell_type": "markdown",
   "metadata": {
    "id": "I_BTKgMPo_pa"
   },
   "source": [
    "Social media data tends to have a lot of metadata. When doing an analysis, you can take advantage of the richness of this data toward the end of slicing it up to meet the needs for your project."
   ]
  },
  {
   "cell_type": "markdown",
   "metadata": {
    "id": "tPDRAo7mpfyE"
   },
   "source": [
    "In this assignment, you will practice working with Twitter API data by implementing a function for matching Tweets to a given set of metadata parameters. We'll then take a look at how you can use that function for filtering Tweets to a specific subset.\n",
    "\n",
    "> 💡 Before continuing, take a moment to get familiar with the structure of the [Tweet object model](https://developer.twitter.com/en/docs/twitter-api/v1/data-dictionary/object-model/tweet)"
   ]
  },
  {
   "cell_type": "markdown",
   "metadata": {
    "id": "6KcmA3Hpz5Vf"
   },
   "source": [
    "### 📝 Completing the assignment"
   ]
  },
  {
   "cell_type": "markdown",
   "metadata": {
    "id": "DTr17HArz0r3"
   },
   "source": [
    "> **⚠️  Don't code outside the lines.** Keep your function implementation code inside the function blocks. Be sure not to write any code above the `/autorade` delimiter other than the specified function code. Any experimentation or testing code should go below the `/autograde` indicator, and will be ignored by the grader."
   ]
  },
  {
   "cell_type": "markdown",
   "metadata": {
    "id": "0WJTCtDKp6lx"
   },
   "source": [
    "## Defining the match criteria"
   ]
  },
  {
   "cell_type": "markdown",
   "metadata": {
    "id": "_8TKxPBSqB1s"
   },
   "source": [
    "Take a look at the Twitter documentation referenced above, and determine what fields you will need to complete this assignment. In this assignment, you will be implementing a function called `match_tweet` which determines if a Tweet matches the set of matching parameters:\n",
    "\n",
    " * **country_codes:** If provided and non-empty, is the Tweet's country code in this list of provided country codes?\n",
    " * **start_date:** If provided, is the date of Tweet's `created_at` date greater than or equal to this date?\n",
    " * **end_date:** If provided, is the date of the Tweet's `created_at` date less than or equal to this date?\n",
    "\n",
    "\n",
    "Let's consider further details about matching before jumping into the implementation."
   ]
  },
  {
   "cell_type": "markdown",
   "metadata": {
    "id": "XRH47lCNsuyz"
   },
   "source": [
    "## 🌎 Matching by country code"
   ]
  },
  {
   "cell_type": "markdown",
   "metadata": {
    "id": "Wt5uSN8Gs0cW"
   },
   "source": [
    "The following criteria should be implemented in your function for matching to the country code:\n",
    "\n",
    " * If the country_code parameter is `None` or an empty list the function should match any Tweet regardless of country code.\n",
    " * Country codes should be matched in a case-insensitive way. E.g. \"US\" is equivalent to \"us\". However, \"US\" and \"USA\" are not considered to be matches -- the case-insensitive match should be exact.\n",
    " * If this parameter is provided and the Tweet's country code is not in the list of provided country codes, the function should return False regardless of the other match parameters."
   ]
  },
  {
   "cell_type": "markdown",
   "metadata": {
    "id": "GIx8f53wuEE8"
   },
   "source": [
    "## 📅 Matching by date"
   ]
  },
  {
   "cell_type": "markdown",
   "metadata": {
    "id": "vgh6PEi4uIqp"
   },
   "source": [
    "The `start_date` and `end_date` parameters are used to determine if the Tweet was created within a specific date range. One of these parameters may be provide to match an open-ended range, or neither of them to match all Tweets.\n",
    "\n",
    "Use the following criteria when matching by date:\n",
    "\n",
    " * The \"date\" of a Tweet is the date component of the `created_at` timestamp of the Tweet (see below for info about working with dates)\n",
    " * start_date and end_date are both inclusive matches. E.g. a Tweet created on 2021-11-01 will match either a start_date or an end_date of 2021-11-01\n",
    " * `None` for either date parameter means \"no limit\" in that direction. By this criterion, `None` for both parameters means: \"match all Tweets\"\n",
    " * If date parameters are provided and the Tweet does not match, the function should return False regardless of other matching parameters."
   ]
  },
  {
   "cell_type": "markdown",
   "metadata": {
    "id": "t3G0RgETx21v"
   },
   "source": [
    "### 🐍 Working with Tweet timestamps as dates"
   ]
  },
  {
   "cell_type": "markdown",
   "metadata": {
    "id": "KlP9apDMh78l"
   },
   "source": [
    "The following code snippet can be used to parse a Tweet's created_at time into a datetime object:\n",
    "\n",
    "```\n",
    "    dt = datetime.strptime(tweet[\"created_at\"], \"%a %b %d %H:%M:%S +0000 %Y\")\n",
    "```\n",
    "\n",
    "You can then get just a date object from that by calling the `.date()` method on the datetime object:\n",
    "\n",
    "```\n",
    "    dt = dt.date()\n",
    "```"
   ]
  },
  {
   "cell_type": "markdown",
   "metadata": {
    "id": "IXJLl_JByPjN"
   },
   "source": [
    "## ⚡️ Getting started"
   ]
  },
  {
   "cell_type": "markdown",
   "metadata": {
    "id": "MbfmxYIM1n3t"
   },
   "source": [
    "You should now be ready to go. To complete the assignment:\n",
    "\n",
    " 1. Complete the implementation of the `match_tweet` function.\n",
    "\n",
    "    The function definition line is created for you below. Your job is to complete the function so that it works to specification.\n",
    "\n",
    "2. Write any exploratory and testing code only below the `/autograde` note.\n",
    "\n",
    "3. Download the completed notebook as a .py file:\n",
    "\n",
    "    File > Download > Download .py\n",
    "\n",
    "    ⚠️ The .ipynb file will not work with the grader. Be sure to download the .py file\n",
    "\n",
    "4. Submit the file to the Coursera grader for assessment."
   ]
  },
  {
   "cell_type": "markdown",
   "metadata": {
    "id": "JEys5ZXDPk4L"
   },
   "source": [
    "## Imports"
   ]
  },
  {
   "cell_type": "code",
   "execution_count": 1,
   "metadata": {
    "id": "cRE1kTM6PmCQ"
   },
   "outputs": [],
   "source": [
    "import datetime\n",
    "import gzip\n",
    "import json"
   ]
  },
  {
   "cell_type": "markdown",
   "metadata": {
    "id": "K0odiwn4s2c6"
   },
   "source": [
    "## Implement match_tweet"
   ]
  },
  {
   "cell_type": "code",
   "execution_count": 2,
   "metadata": {
    "id": "h6onyg1Zqjop"
   },
   "outputs": [],
   "source": [
    "def match_tweet(tweet, country_codes=None, start_date=None, end_date=None):\n",
    "    \"\"\"Return the boolean value of whether this tweet object matches\n",
    "    the specified parameters.\n",
    "\n",
    "    Supports the following match criteria:\n",
    "\n",
    "      * country_codes (a list of case-insensitive country codes)\n",
    "      * start_date (earliest date of matching tweets)\n",
    "      * end_date (latest date of matching tweets)\n",
    "\n",
    "    `None` values for any parameters, as well as an empty country_code list are\n",
    "    interpreted as \"match all\" for the respective parameter.\n",
    "    \"\"\"\n",
    "    def str_to_date(date_str):\n",
    "        if isinstance(date_str, datetime.date):\n",
    "            return date_str\n",
    "        return datetime.datetime.strptime(date_str, '%Y-%m-%d').date() if date_str else None\n",
    "\n",
    "\n",
    "    # Extract the date from the Tweet's created_at timestamp\n",
    "    tweet_date = datetime.datetime.strptime(tweet[\"created_at\"], \"%a %b %d %H:%M:%S +0000 %Y\").date()\n",
    "    \n",
    "    # Check country code\n",
    "    if country_codes:\n",
    "        tweet_country_code = tweet.get('place', {}).get('country_code', '').lower()\n",
    "        country_codes_lower = [code.lower() for code in country_codes]\n",
    "        if tweet_country_code not in country_codes_lower:\n",
    "            return False\n",
    "\n",
    "    # Check start date\n",
    "    start_date_obj = str_to_date(start_date)\n",
    "    if start_date_obj and tweet_date < start_date_obj:\n",
    "        return False\n",
    "\n",
    "    # Check end date\n",
    "    end_date_obj = str_to_date(end_date)\n",
    "    if end_date_obj and tweet_date > end_date_obj:\n",
    "        return False\n",
    "\n",
    "    return True"
   ]
  },
  {
   "cell_type": "code",
   "execution_count": 3,
   "metadata": {
    "id": "Uoxq6phr2Jfm"
   },
   "outputs": [],
   "source": [
    "#~~ /autograde # do not delete this code cell"
   ]
  },
  {
   "cell_type": "markdown",
   "metadata": {
    "id": "mOGA9PUO2E0f"
   },
   "source": [
    "---\n",
    "### ⚠️  **Caution:** No arbitrary code above this line\n",
    "\n",
    "The only code written above should be the implementation of your graded\n",
    "function. For experimentation and testing, only add code below.\n",
    "\n",
    "---"
   ]
  },
  {
   "cell_type": "markdown",
   "metadata": {
    "id": "sV0RJg2Iv813"
   },
   "source": [
    "## Testing things out"
   ]
  },
  {
   "cell_type": "markdown",
   "metadata": {
    "id": "MAkF4CQs2Pw0"
   },
   "source": [
    "A test Tweet with minimal data, and a start and end date are created below for you to test with. You will almost certainly want to create some of your own values for further testing."
   ]
  },
  {
   "cell_type": "code",
   "execution_count": 4,
   "metadata": {
    "id": "Bqg7tEBJnUTp"
   },
   "outputs": [],
   "source": [
    "test_tweet =  {\n",
    "    \"created_at\": \"Fri Nov 11 08:25:03 +0000 2021\",\n",
    "    \"place\": { \"country_code\": \"US\"}\n",
    "}"
   ]
  },
  {
   "cell_type": "code",
   "execution_count": 5,
   "metadata": {
    "id": "i4RmpkpTigth"
   },
   "outputs": [],
   "source": [
    "start = datetime.date.fromisoformat(\"2021-11-01\")\n",
    "end = datetime.date.fromisoformat(\"2021-11-30\")"
   ]
  },
  {
   "cell_type": "code",
   "execution_count": 6,
   "metadata": {
    "id": "X3mWRE3iooiq"
   },
   "outputs": [
    {
     "data": {
      "text/plain": [
       "True"
      ]
     },
     "execution_count": 6,
     "metadata": {},
     "output_type": "execute_result"
    }
   ],
   "source": [
    "match_tweet(test_tweet, country_codes=[\"US\"], start_date=start, end_date=end)"
   ]
  },
  {
   "cell_type": "markdown",
   "metadata": {
    "id": "89D7YrnDNbSH"
   },
   "source": [
    "## Making use of the Tweet matcher: Filtering a set of Tweets"
   ]
  },
  {
   "cell_type": "markdown",
   "metadata": {
    "id": "8FdMz89g2mWX"
   },
   "source": [
    "The code below shows how you might make use of the matching function for filtering a list or a data file of Tweets."
   ]
  },
  {
   "cell_type": "markdown",
   "metadata": {
    "id": "ly9VDcGWNibY"
   },
   "source": [
    "The filter_tweets function uses your match_tweet implementation to filter an iterable of tweets using the provided matching parameters.\n",
    "\n",
    "`filter_tweets` works with an iterable of either JSON strings, or dict objects, so you can use it to parse tweets out of a JSON-L file, but also use it to re-filter the Tweets it returns. We'll see how that works below."
   ]
  },
  {
   "cell_type": "code",
   "execution_count": 7,
   "metadata": {
    "id": "fsl3eds6N7-N"
   },
   "outputs": [],
   "source": [
    "# def filter_tweets(tweets, country_codes=None, start_date=None, end_date=None):\n",
    "#     \"\"\"Returns a list of tweets filtered by provided filter criteria.\n",
    "\n",
    "#     Currently only supports country_codes filtering. See match_tweet\n",
    "#     for details about how match based filtering works.\n",
    "\n",
    "#     This function accepts an iterable of tweet objects which may either\n",
    "#     be JSON strings, or previously parsed tweet dictionaries.\n",
    "\n",
    "#     Yields an iterable of dictionaries.\n",
    "#     \"\"\"\n",
    "#     for tweet in tweets:\n",
    "#         if isinstance(tweet, (bytes, str)):\n",
    "#             tweet = json.loads(tweet)\n",
    "#         if match_tweet(tweet,\n",
    "#                        country_codes=country_codes,\n",
    "#                        start_date=start_date,\n",
    "#                        end_date=end_date):\n",
    "#             yield tweet"
   ]
  },
  {
   "cell_type": "markdown",
   "metadata": {
    "id": "W_AEx4cg22nk"
   },
   "source": [
    "> 🐍 **About yield:** \"Yielding\" instead of \"returning\" from a function allows a Python function to iteratively turn out results as it processes them, rather than collecting all the results and returning them at once. This is called a **generator** and is handy particularly when processing large amounts of data. While we convert all the results to lists below for simple testing purposes, in a real application you would probably take advantage of the generator, and process the filtered Tweets as they are yielded by the function."
   ]
  },
  {
   "cell_type": "markdown",
   "metadata": {
    "id": "mEHNA_Tr0IrC"
   },
   "source": [
    "## 📁 Getting the data file"
   ]
  },
  {
   "cell_type": "markdown",
   "metadata": {
    "id": "czsn9x900PAn"
   },
   "source": [
    "The code below makes use of a Twitter dataset harvested from the Twitter API and saved in a Gzipped JSON-L file. This is the same file used in the labs and final project for the course.\n",
    "\n",
    "> **💡  JSON-L.** JSON-L is an unofficial yet common format of one JSON document per line in the file. It is typically read by parsing each line of the file as a JSON string.\n",
    "\n",
    "---\n",
    "\n",
    "Before continuing, you will need to:\n",
    "\n",
    " * Download the file from the course resources\n",
    " * Upload it to the root of your Google Drive account"
   ]
  },
  {
   "cell_type": "markdown",
   "metadata": {
    "id": "2MxR-LLqjd8_"
   },
   "source": [
    "## Mount Google Drive"
   ]
  },
  {
   "cell_type": "code",
   "execution_count": 8,
   "metadata": {
    "id": "qbAV_s8wjffW"
   },
   "outputs": [],
   "source": [
    "# from google.colab import drive\n",
    "# drive.mount('/content/drive')"
   ]
  },
  {
   "cell_type": "code",
   "execution_count": 9,
   "metadata": {},
   "outputs": [
    {
     "name": "stdout",
     "output_type": "stream",
     "text": [
      "True\n",
      "True\n",
      "False\n",
      "False\n",
      "False\n"
     ]
    }
   ],
   "source": [
    "import datetime\n",
    "import json\n",
    "import gzip\n",
    "\n",
    "def match_tweet(tweet, country_codes=None, start_date=None, end_date=None):\n",
    "    \"\"\"Return the boolean value of whether this tweet object matches\n",
    "    the specified parameters.\n",
    "\n",
    "    Supports the following match criteria:\n",
    "\n",
    "      * country_codes (a list of case-insensitive country codes)\n",
    "      * start_date (earliest date of matching tweets)\n",
    "      * end_date (latest date of matching tweets)\n",
    "\n",
    "    `None` values for any parameters, as well as an empty country_code list are\n",
    "    interpreted as \"match all\" for the respective parameter.\n",
    "    \"\"\"\n",
    "    \n",
    "    def str_to_date(date_str):\n",
    "        if isinstance(date_str, datetime.date):\n",
    "            return date_str\n",
    "        return datetime.datetime.strptime(date_str, '%Y-%m-%d').date() if date_str else None\n",
    "    \n",
    "    # Extract the date from the Tweet's created_at timestamp\n",
    "    tweet_date = datetime.datetime.strptime(tweet[\"created_at\"], \"%a %b %d %H:%M:%S +0000 %Y\").date()\n",
    "    \n",
    "    # Check country code\n",
    "    if country_codes:\n",
    "        place = tweet.get('place')\n",
    "        if place is None:\n",
    "            return False\n",
    "        tweet_country_code = place.get('country_code', '').lower()\n",
    "        country_codes_lower = [code.lower() for code in country_codes]\n",
    "        if tweet_country_code not in country_codes_lower:\n",
    "            return False\n",
    "\n",
    "    # Check start date\n",
    "    start_date_obj = str_to_date(start_date)\n",
    "    if start_date_obj and tweet_date < start_date_obj:\n",
    "        return False\n",
    "\n",
    "    # Check end date\n",
    "    end_date_obj = str_to_date(end_date)\n",
    "    if end_date_obj and tweet_date > end_date_obj:\n",
    "        return False\n",
    "\n",
    "    return True\n",
    "\n",
    "def filter_tweets(tweets, country_codes=None, start_date=None, end_date=None):\n",
    "    \"\"\"Returns a list of tweets filtered by provided filter criteria.\n",
    "\n",
    "    Currently only supports country_codes filtering. See match_tweet\n",
    "    for details about how match based filtering works.\n",
    "\n",
    "    This function accepts an iterable of tweet objects which may either\n",
    "    be JSON strings, or previously parsed tweet dictionaries.\n",
    "\n",
    "    Yields an iterable of dictionaries.\n",
    "    \"\"\"\n",
    "    for tweet in tweets:\n",
    "        if isinstance(tweet, (bytes, str)):\n",
    "            tweet = json.loads(tweet)\n",
    "        if match_tweet(tweet,\n",
    "                       country_codes=country_codes,\n",
    "                       start_date=start_date,\n",
    "                       end_date=end_date):\n",
    "            yield tweet\n",
    "\n",
    "# /autograde\n",
    "\n",
    "# Example usage and testing\n",
    "with gzip.open('nikelululemonadidas_tweets.jsonl.gz', 'rt', encoding='utf-8') as f:\n",
    "    US_tweets = list(filter_tweets(f, country_codes=[\"us\"]))\n",
    "\n",
    "# Testing with the provided test tweet and dates\n",
    "test_tweet = {\n",
    "    \"created_at\": \"Fri Nov 11 08:25:03 +0000 2021\",\n",
    "    \"place\": {\n",
    "        \"country_code\": \"US\"\n",
    "    }\n",
    "}\n",
    "\n",
    "start = datetime.date.fromisoformat(\"2021-11-01\")\n",
    "end = datetime.date.fromisoformat(\"2021-11-30\")\n",
    "\n",
    "print(match_tweet(test_tweet, country_codes=[\"US\"], start_date=start, end_date=end))  # Output: True\n",
    "print(match_tweet(test_tweet, country_codes=[\"US\"], start_date=\"2021-11-01\", end_date=\"2021-11-30\"))  # Output: True\n",
    "print(match_tweet(test_tweet, country_codes=[\"CA\"], start_date=start, end_date=end))  # Output: False\n",
    "print(match_tweet(test_tweet, country_codes=[\"US\"], start_date=\"2021-11-12\", end_date=\"2021-11-30\"))  # Output: False\n",
    "print(match_tweet(test_tweet, country_codes=[\"US\"], start_date=\"2021-11-01\", end_date=\"2021-11-10\"))  # Output: False\n"
   ]
  },
  {
   "cell_type": "markdown",
   "metadata": {
    "id": "2dtb98GEPLxX"
   },
   "source": [
    "## Testing out the filter"
   ]
  },
  {
   "cell_type": "code",
   "execution_count": 10,
   "metadata": {
    "id": "vQBfHnic15F-"
   },
   "outputs": [],
   "source": [
    "# with gzip.open('nikelululemonadidas_tweets.jsonl.gz') as f:\n",
    "#     US_tweets = list(filter_tweets(f, country_codes=[\"us\"]))"
   ]
  },
  {
   "cell_type": "markdown",
   "metadata": {
    "id": "M3JhOX85pfGP"
   },
   "source": [
    "## Check the count\n",
    "\n",
    "If you have implemented your matching function correctly, the count of US tweets should be **5713**:"
   ]
  },
  {
   "cell_type": "code",
   "execution_count": 11,
   "metadata": {
    "id": "xf_Mzs5TbCXT"
   },
   "outputs": [
    {
     "data": {
      "text/plain": [
       "5713"
      ]
     },
     "execution_count": 11,
     "metadata": {},
     "output_type": "execute_result"
    }
   ],
   "source": [
    "len(US_tweets)"
   ]
  },
  {
   "cell_type": "markdown",
   "metadata": {
    "id": "zZ68myPkpt32"
   },
   "source": [
    "## Refiltering\n",
    "\n",
    "Now, make another pass on the tweets, this time narrowing the selection down by date. You could have passed in all of the filter parameters above, but sometimes iterative filtering like this is useful during a data exploration or analysis."
   ]
  },
  {
   "cell_type": "code",
   "execution_count": 12,
   "metadata": {
    "id": "puNKR6nXlpUe"
   },
   "outputs": [],
   "source": [
    "nov_usa_tweets = list(filter_tweets(US_tweets, start_date=start, end_date=end))"
   ]
  },
  {
   "cell_type": "markdown",
   "metadata": {
    "id": "tW2kBMMzqCNa"
   },
   "source": [
    "### Check the count\n",
    "\n",
    "There should be a total of **1713** tweets in the data set that are US Tweets posted in Nov 2021."
   ]
  },
  {
   "cell_type": "code",
   "execution_count": 13,
   "metadata": {
    "id": "Qdmv3JCulywv"
   },
   "outputs": [
    {
     "data": {
      "text/plain": [
       "1713"
      ]
     },
     "execution_count": 13,
     "metadata": {},
     "output_type": "execute_result"
    }
   ],
   "source": [
    "len(nov_usa_tweets)"
   ]
  },
  {
   "cell_type": "code",
   "execution_count": 14,
   "metadata": {
    "id": "YQwXpjX74dh5"
   },
   "outputs": [
    {
     "name": "stdout",
     "output_type": "stream",
     "text": [
      "Number of unique users: 104772\n",
      "Number of users with at least 2 tweets and at least 100,000 followers: 196\n",
      "Number of nodes in the mentions network: 195\n",
      "Number of edges in the mentions network: 210\n",
      "The nodes of the graph represent Twitter users in the dataset.\n",
      "The edges of the graph represent @ mentions in Tweets from one user to another.\n"
     ]
    }
   ],
   "source": [
    "import gzip\n",
    "import json\n",
    "from collections import defaultdict, Counter\n",
    "\n",
    "def load_tweets(filename):\n",
    "    \"\"\"Load tweets from a Gzipped JSON Lines file.\"\"\"\n",
    "    with gzip.open(filename, 'rt', encoding='utf-8') as f:\n",
    "        for line in f:\n",
    "            yield json.loads(line)\n",
    "\n",
    "def unique_users(tweets):\n",
    "    \"\"\"Return the number of unique users in the dataset.\"\"\"\n",
    "    users = set()\n",
    "    for tweet in tweets:\n",
    "        users.add(tweet['user']['id_str'])\n",
    "    return len(users)\n",
    "\n",
    "def users_with_criteria(tweets, min_tweets=2, min_followers=100000):\n",
    "    \"\"\"Return the number of users with at least `min_tweets` tweets and `min_followers` followers.\"\"\"\n",
    "    tweet_count = defaultdict(int)\n",
    "    followers_count = {}\n",
    "\n",
    "    for tweet in tweets:\n",
    "        user_id = tweet['user']['id_str']\n",
    "        tweet_count[user_id] += 1\n",
    "        followers_count[user_id] = tweet['user']['followers_count']\n",
    "\n",
    "    count = 0\n",
    "    for user_id, tweets in tweet_count.items():\n",
    "        if tweets >= min_tweets and followers_count.get(user_id, 0) >= min_followers:\n",
    "            count += 1\n",
    "\n",
    "    return count\n",
    "\n",
    "def mentions_network(tweets, min_tweets=2, min_followers=100000):\n",
    "    \"\"\"Return the number of nodes and edges in the mentions network of users with the specified criteria.\"\"\"\n",
    "    tweet_count = defaultdict(int)\n",
    "    followers_count = {}\n",
    "    mentions = defaultdict(set)\n",
    "\n",
    "    for tweet in tweets:\n",
    "        user_id = tweet['user']['id_str']\n",
    "        tweet_count[user_id] += 1\n",
    "        followers_count[user_id] = tweet['user']['followers_count']\n",
    "        if 'entities' in tweet and 'user_mentions' in tweet['entities']:\n",
    "            for mention in tweet['entities']['user_mentions']:\n",
    "                mentions[user_id].add(mention['id_str'])\n",
    "\n",
    "    eligible_users = {user_id for user_id, tweets in tweet_count.items() if tweets >= min_tweets and followers_count.get(user_id, 0) >= min_followers}\n",
    "\n",
    "    nodes = set()\n",
    "    edges = set()\n",
    "\n",
    "    for user_id, mentioned_users in mentions.items():\n",
    "        if user_id in eligible_users:\n",
    "            nodes.add(user_id)\n",
    "            for mentioned_user in mentioned_users:\n",
    "                if mentioned_user in eligible_users:\n",
    "                    nodes.add(mentioned_user)\n",
    "                    edges.add((user_id, mentioned_user))\n",
    "\n",
    "    return len(nodes), len(edges)\n",
    "\n",
    "# Load tweets from the dataset\n",
    "tweets = list(load_tweets('nikelululemonadidas_tweets.jsonl.gz'))\n",
    "\n",
    "# Question 1: How many unique users are in the data?\n",
    "num_unique_users = unique_users(tweets)\n",
    "print(f\"Number of unique users: {num_unique_users}\")\n",
    "\n",
    "# Question 2: How many users in this dataset meet the criteria of having at least 2 Tweets, and at least 100000 followers?\n",
    "num_users_with_criteria = users_with_criteria(tweets)\n",
    "print(f\"Number of users with at least 2 tweets and at least 100,000 followers: {num_users_with_criteria}\")\n",
    "\n",
    "# Question 3 and 4: How many nodes and edges are in the mentions network of users with at least 2 tweets and at least 100k followers?\n",
    "num_nodes, num_edges = mentions_network(tweets)\n",
    "print(f\"Number of nodes in the mentions network: {num_nodes}\")\n",
    "print(f\"Number of edges in the mentions network: {num_edges}\")\n",
    "\n",
    "# Question 5: What do the nodes of the graph represent?\n",
    "print(\"The nodes of the graph represent Twitter users in the dataset.\")\n",
    "\n",
    "# Question 6: What do the edges of the graph represent?\n",
    "print(\"The edges of the graph represent @ mentions in Tweets from one user to another.\")\n"
   ]
  },
  {
   "cell_type": "code",
   "execution_count": null,
   "metadata": {},
   "outputs": [],
   "source": []
  }
 ],
 "metadata": {
  "colab": {
   "provenance": []
  },
  "kernelspec": {
   "display_name": "Python 3 (ipykernel)",
   "language": "python",
   "name": "python3"
  },
  "language_info": {
   "codemirror_mode": {
    "name": "ipython",
    "version": 3
   },
   "file_extension": ".py",
   "mimetype": "text/x-python",
   "name": "python",
   "nbconvert_exporter": "python",
   "pygments_lexer": "ipython3",
   "version": "3.10.9"
  }
 },
 "nbformat": 4,
 "nbformat_minor": 4
}
