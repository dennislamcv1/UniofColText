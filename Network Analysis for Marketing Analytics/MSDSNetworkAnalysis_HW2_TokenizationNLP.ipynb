{
 "cells": [
  {
   "cell_type": "markdown",
   "metadata": {
    "id": "s2gUJ6t755iC"
   },
   "source": [
    "# MSDS Network Analysis, Homework #2: Tweet tokenization and part-of-speech tagging"
   ]
  },
  {
   "cell_type": "markdown",
   "metadata": {
    "id": "bX-Ly5aD4vIQ"
   },
   "source": [
    "## ⚡️ Make a Copy\n",
    "\n",
    "Save a copy of this notebook in your Google Drive before continuing. Be sure to edit your own copy, not the original notebook."
   ]
  },
  {
   "cell_type": "markdown",
   "metadata": {
    "id": "qDKaBN7vapZr"
   },
   "source": [
    "### 📝 Completing the assignment"
   ]
  },
  {
   "cell_type": "markdown",
   "metadata": {
    "id": "pdK5QTvjalRV"
   },
   "source": [
    "There is are two function definitions below for you to complete: `unique_tokens`, and `token_counts`. Write the code to meet the function specifications, and submit the .py version of this notebook to the grader.\n",
    "\n",
    "> Indented block\n",
    "\n"
   ]
  },
  {
   "cell_type": "markdown",
   "metadata": {
    "id": "t5P-HeJRbUuZ"
   },
   "source": [
    "> **⚠️  Don't code outside the lines.** Keep your function implementation code inside the function blocks. Be sure not to write any code above the `/autorade` delimiter other than the specified function code. Any experimentation or testing code should go below the `/autograde` indicator, and will be ignored by the grader."
   ]
  },
  {
   "cell_type": "markdown",
   "metadata": {
    "id": "HCNIooH-bDNC"
   },
   "source": [
    "## 📁 Getting the data file"
   ]
  },
  {
   "cell_type": "markdown",
   "metadata": {
    "id": "K7BENCkQbdeG"
   },
   "source": [
    "The code below makes use of a Twitter dataset harvested from the Twitter API and saved in a Gzipped JSON-L file. This is the same file used in the previous assignment.\n",
    "\n",
    "You should have previously downloaded the multi-brand tweet file and uploaded it to your Drive. You will use that file again here."
   ]
  },
  {
   "cell_type": "markdown",
   "metadata": {
    "id": "NQGBiLRgm2XL"
   },
   "source": [
    "## Mount Google Drive"
   ]
  },
  {
   "cell_type": "code",
   "execution_count": 1,
   "metadata": {
    "id": "bIxRetSXm4Pa"
   },
   "outputs": [],
   "source": [
    "# from google.colab import drive\n",
    "# drive.mount('/content/drive')"
   ]
  },
  {
   "cell_type": "markdown",
   "metadata": {
    "id": "m3K8V9FyR1D8"
   },
   "source": [
    "## Setup"
   ]
  },
  {
   "cell_type": "markdown",
   "metadata": {
    "id": "3gNOVxdOLfr1"
   },
   "source": [
    "### Imports"
   ]
  },
  {
   "cell_type": "code",
   "execution_count": 2,
   "metadata": {
    "id": "VEr-dIfv90fP"
   },
   "outputs": [],
   "source": [
    "import gzip\n",
    "import json\n",
    "import nltk"
   ]
  },
  {
   "cell_type": "markdown",
   "metadata": {
    "id": "tTu1qe4vR2mA"
   },
   "source": [
    "### Downloads"
   ]
  },
  {
   "cell_type": "markdown",
   "metadata": {
    "id": "G2y7Fw2wR3v1"
   },
   "source": [
    "The NLTK is a corpus-linguistics oriented toolkit, and including all of its resources in a standard install would be too heavy. Instead, you download what you need for the problem at hand. The utilities you will be using in this assignment require the availability of the punkt and averaged_perceptron_tagger packages."
   ]
  },
  {
   "cell_type": "code",
   "execution_count": 3,
   "metadata": {
    "id": "dImbRklyRxgR"
   },
   "outputs": [
    {
     "name": "stderr",
     "output_type": "stream",
     "text": [
      "[nltk_data] Downloading package punkt to\n",
      "[nltk_data]     C:\\Users\\Dennis\\AppData\\Roaming\\nltk_data...\n",
      "[nltk_data]   Package punkt is already up-to-date!\n",
      "[nltk_data] Downloading package averaged_perceptron_tagger to\n",
      "[nltk_data]     C:\\Users\\Dennis\\AppData\\Roaming\\nltk_data...\n",
      "[nltk_data]   Package averaged_perceptron_tagger is already up-to-\n",
      "[nltk_data]       date!\n"
     ]
    },
    {
     "data": {
      "text/plain": [
       "True"
      ]
     },
     "execution_count": 3,
     "metadata": {},
     "output_type": "execute_result"
    }
   ],
   "source": [
    "nltk.download(\"punkt\")\n",
    "nltk.download(\"averaged_perceptron_tagger\")"
   ]
  },
  {
   "cell_type": "markdown",
   "metadata": {
    "id": "OgBGBHTBLl-j"
   },
   "source": [
    "## Data Prep"
   ]
  },
  {
   "cell_type": "markdown",
   "metadata": {
    "id": "7AXYWvcUp0am"
   },
   "source": [
    "When using natural language processing (NLP) techniques with any specialized textual dataset, such as social media texts, one should consider some of the specifics of text usage in that data and how those specifics might affect an analysis."
   ]
  },
  {
   "cell_type": "markdown",
   "metadata": {
    "id": "nVhvC8OSqHfM"
   },
   "source": [
    "### Tokenizing Tweet texts"
   ]
  },
  {
   "cell_type": "markdown",
   "metadata": {
    "id": "bSMDM3TcqKsi"
   },
   "source": [
    "For Tweets, some of the specifics that come immediately to mind are:\n",
    "\n",
    " * \"At\" mentions: @username\n",
    " * Hashtags: #hashtag\n",
    " * URLs: https://...\n",
    "\n",
    " Let's take a look at how a standard tokenizer might parse these things:"
   ]
  },
  {
   "cell_type": "code",
   "execution_count": 4,
   "metadata": {
    "id": "x7RVuWH879wc"
   },
   "outputs": [],
   "source": [
    "example_tweet = \"hope I get a new pair of these @Nike shoes!!!! #nikelife https://www.nike.com/launch/t/womens-air-force-1-reveal-pastel-reveal\""
   ]
  },
  {
   "cell_type": "code",
   "execution_count": 5,
   "metadata": {
    "id": "U2YU7hfgtgAg"
   },
   "outputs": [
    {
     "data": {
      "text/plain": [
       "['hope',\n",
       " 'I',\n",
       " 'get',\n",
       " 'a',\n",
       " 'new',\n",
       " 'pair',\n",
       " 'of',\n",
       " 'these',\n",
       " '@',\n",
       " 'Nike',\n",
       " 'shoes',\n",
       " '!',\n",
       " '!',\n",
       " '!',\n",
       " '!',\n",
       " '#',\n",
       " 'nikelife',\n",
       " 'https',\n",
       " ':',\n",
       " '//www.nike.com/launch/t/womens-air-force-1-reveal-pastel-reveal']"
      ]
     },
     "execution_count": 5,
     "metadata": {},
     "output_type": "execute_result"
    }
   ],
   "source": [
    "nltk.tokenize.word_tokenize(example_tweet)"
   ]
  },
  {
   "cell_type": "markdown",
   "metadata": {
    "id": "dmwWWL2h0D2J"
   },
   "source": [
    "Notice how our three specific language usages of concern are treated here by a tokenizer that is unaware of the concepts of at-mentions, hashtags, and links. This might not be ideal for our analysis, and we might something that does have an awareness of these things. To this end, NLTK provides us with a TweetTokenizer:"
   ]
  },
  {
   "cell_type": "code",
   "execution_count": 6,
   "metadata": {
    "id": "4llmfpEk0kOK"
   },
   "outputs": [
    {
     "data": {
      "text/plain": [
       "['hope',\n",
       " 'I',\n",
       " 'get',\n",
       " 'a',\n",
       " 'new',\n",
       " 'pair',\n",
       " 'of',\n",
       " 'these',\n",
       " '@Nike',\n",
       " 'shoes',\n",
       " '!',\n",
       " '!',\n",
       " '!',\n",
       " '#nikelife',\n",
       " 'https://www.nike.com/launch/t/womens-air-force-1-reveal-pastel-reveal']"
      ]
     },
     "execution_count": 6,
     "metadata": {},
     "output_type": "execute_result"
    }
   ],
   "source": [
    "nltk.TweetTokenizer().tokenize(example_tweet)"
   ]
  },
  {
   "cell_type": "markdown",
   "metadata": {
    "id": "aPAu8XaG0wos"
   },
   "source": [
    "🎉 That's better!"
   ]
  },
  {
   "cell_type": "markdown",
   "metadata": {
    "id": "Ng7VpYUW1PZ3"
   },
   "source": [
    "Below, you will make use of the TweetTokenizer to implement a function that collects the unique tokens in an entire dataset of tweets. We'll write the function in a way that you could pass in an alternative tokenizer if needed."
   ]
  },
  {
   "cell_type": "markdown",
   "metadata": {
    "id": "rXDV9mPX2bjp"
   },
   "source": [
    "## Implement unique_tokens"
   ]
  },
  {
   "cell_type": "markdown",
   "metadata": {
    "id": "NlYh9P0i2fbq"
   },
   "source": [
    "Recall from Homework #1 the approach that we took to processing a dataset of Tweets that could be either dictionaries or JSON strings. This approach enabled us to have a function that could take either a list of tweet objects or a file handle for a JSON-L file of tweets."
   ]
  },
  {
   "cell_type": "markdown",
   "metadata": {
    "id": "x996aVWy209J"
   },
   "source": [
    "### The unique_tokens function"
   ]
  },
  {
   "cell_type": "markdown",
   "metadata": {
    "id": "H9Td13km24oi"
   },
   "source": [
    "Here you will implement a similar function. This function, instead of returning filtered tweets, will return the set of unique tokens found in the texts of the tweets.\n",
    "\n",
    "The function should default to using the NLTK TweetTokenizer to tokenize the texts, but alternative callables could be passed into the function. This is setup for you by the keyword argument `tokenizer`. Note that this is set to the callable tokenize method, not to the tokenizer object.\n",
    "\n",
    "Recall from the [Twitter object model documentation](https://developer.twitter.com/en/docs/twitter-api/v1/data-dictionary/object-model/tweet)\n",
    "\n",
    "Note that the text field of a Tweet can be called either `text` or `full_text` and you should implement the function to handle either one.\n",
    "\n",
    "> **⚠️  Important Note:** The Tweets in the provided branded data file were harvested with the [\"extended Tweet option in v1.1](https://developer.twitter.com/en/docs/twitter-api/premium/data-dictionary/overview) of the Twitter API, and so have a `full_text` field rather than a `text` field. You should implement the function to first check for a `full_text` field and fallback to `text` field if full_text does not exist."
   ]
  },
  {
   "cell_type": "code",
   "execution_count": 7,
   "metadata": {
    "id": "SiIMzTgg1dAv"
   },
   "outputs": [],
   "source": [
    "from nltk.tokenize import TweetTokenizer\n",
    "\n",
    "def unique_tokens(tweets, tokenizer=nltk.TweetTokenizer().tokenize):\n",
    "    \"\"\"Tokenizes the texts of an iterable of Tweet objects.\n",
    "    Accepts an iterable of either tweet dictionary objects\n",
    "    or tweet objects encoded as JSON text.\n",
    "\n",
    "    For backwards compatibility in the Twitter API, the function\n",
    "    should support Tweets with either a `full_text` field or\n",
    "    a `text` field, defaulting to `full_text` if it exists.\n",
    "\n",
    "    Returns the set of unique tokens.\n",
    "    \"\"\"\n",
    "    \n",
    "    # TODO: Implement this function to return the set of\n",
    "    # unique tokens parsed from the tweet texts by the\n",
    "    # NLTK TweetTokenizer\n",
    "    unique_tokens_set = set()\n",
    "\n",
    "    for tweet in tweets:\n",
    "        if isinstance(tweet, bytes):\n",
    "            tweet = tweet.decode('utf-8')\n",
    "        if isinstance(tweet, str):\n",
    "            tweet = json.loads(tweet)\n",
    "        \n",
    "        text = tweet.get('full_text') or tweet.get('text')\n",
    "        if text:\n",
    "            tokens = tokenizer(text)\n",
    "            unique_tokens_set.update(tokens)\n",
    "    \n",
    "    return unique_tokens_set"
   ]
  },
  {
   "cell_type": "markdown",
   "metadata": {
    "id": "UNOF22XA4WR6"
   },
   "source": [
    "Before continuing onto the next function, try some of the unique_tokens testing code after the autograde cutoff below and be sure the function works as expected."
   ]
  },
  {
   "cell_type": "markdown",
   "metadata": {
    "id": "RdxF8jYF4hlB"
   },
   "source": [
    "## Token counting and parts of speech"
   ]
  },
  {
   "cell_type": "markdown",
   "metadata": {
    "id": "EIthzDLXN9lZ"
   },
   "source": [
    "You'll note that the count of unique tokens in our multi-brand Tweet data file is over 150 thousand.\n",
    "\n",
    "In a large analysis project with a lot of data, it can be useful to think of ways to reduce the data being analyized. In natural language processing (NLP) jobs such as the analysis of free-form social media text, we might want to consider taking part-of-speech into account to determine the value a term might bring to the analysis.\n",
    "\n",
    "It can also be useful to count up token instances to get a sense of word usage in the dataset. Here you will implement a function that does both of these things, i.e., you will count up tokens that match a filtering set of part-of-speech tags."
   ]
  },
  {
   "cell_type": "markdown",
   "metadata": {
    "id": "-meVbbN3QKAD"
   },
   "source": [
    "> 💡 The NLTK Perceptron Tagger uses the part-of-speech tags defined by the Penn Treebank project, which are documented [here](https://www.ling.upenn.edu/courses/Fall_2003/ling001/penn_treebank_pos.html). If you are curious about the inner workings of the PerceptronTagger algorithm, take a look at [this article](https://explosion.ai/blog/part-of-speech-pos-tagger-in-python) by its creator, Matthew Honnibal."
   ]
  },
  {
   "cell_type": "code",
   "execution_count": 8,
   "metadata": {
    "id": "n4Y4eC9ja8mk"
   },
   "outputs": [],
   "source": [
    "import json\n",
    "import nltk\n",
    "from nltk.tokenize import TweetTokenizer\n",
    "from collections import Counter\n",
    "\n",
    "\n",
    "def token_counts(tweets,\n",
    "                 tagger=nltk.tag.PerceptronTagger().tag,\n",
    "                 tokenizer=nltk.TweetTokenizer().tokenize,\n",
    "                 parts_of_speech=None):\n",
    "    \"\"\"\n",
    "    Tokenizes the texts of an iterable of Tweet objects and counts the\n",
    "    tokens that match the provided parts of speech.\n",
    "\n",
    "    Args:\n",
    "    - tweets: An iterable of either tweet dictionary objects or tweet objects encoded as JSON text.\n",
    "    - tagger: A callable for tagging tokens with their parts of speech. Defaults to the NLTK PerceptronTagger.\n",
    "    - tokenizer: A callable for tokenizing tweet texts. Defaults to the NLTK TweetTokenizer.\n",
    "    - parts_of_speech: A set of parts of speech tags to filter tokens by. If None, all tokens are counted.\n",
    "\n",
    "    Returns:\n",
    "    - A Counter object with the counts of the filtered tokens.\n",
    "    \"\"\"\n",
    "    token_counter = Counter()\n",
    "\n",
    "    for tweet in tweets:\n",
    "        if isinstance(tweet, bytes):\n",
    "            tweet = tweet.decode('utf-8')\n",
    "        if isinstance(tweet, str):\n",
    "            tweet = json.loads(tweet)\n",
    "        \n",
    "        text = tweet.get('full_text') or tweet.get('text')\n",
    "        if text:\n",
    "            tokens = tokenizer(text)\n",
    "            tagged_tokens = tagger(tokens)\n",
    "            \n",
    "            for token, pos in tagged_tokens:\n",
    "                if parts_of_speech is None or pos in parts_of_speech:\n",
    "                    token_counter[token] += 1\n",
    "    \n",
    "    return token_counter"
   ]
  },
  {
   "cell_type": "markdown",
   "metadata": {
    "id": "f03xvvDKcFwL"
   },
   "source": [
    "After implementing the functions above and testing them out in the space below, submit your code to the grader:\n",
    "\n",
    " * Download the .py file (File > Download > Download .py)\n",
    " * Upload the file to the Coursera grader for assessment."
   ]
  },
  {
   "cell_type": "code",
   "execution_count": 9,
   "metadata": {
    "id": "5ndtb9gxMunS"
   },
   "outputs": [],
   "source": [
    "#~~ /autograde # do not delete this code cell"
   ]
  },
  {
   "cell_type": "markdown",
   "metadata": {
    "id": "x1hvpN1SMq92"
   },
   "source": [
    "---\n",
    "### ⚠️  **Caution:** No arbitrary code above this line\n",
    "\n",
    "The only code written above should be the implementation of your graded\n",
    "function. For experimentation and testing, only add code below.\n",
    "\n",
    "---"
   ]
  },
  {
   "cell_type": "markdown",
   "metadata": {
    "id": "KM-qEhj45QFA"
   },
   "source": [
    "## Testing out unique_tokens"
   ]
  },
  {
   "cell_type": "markdown",
   "metadata": {
    "id": "ZmHCCYRxM3vq"
   },
   "source": [
    "### A simple test of unique_tokens"
   ]
  },
  {
   "cell_type": "markdown",
   "metadata": {
    "id": "g4z2w1-qM9w5"
   },
   "source": [
    "Here is a simple test of your unique_tokens function. For a bigger test, see the file loading test below, but keep in mind that the Tweets in the file only have `full_text`, not `text`."
   ]
  },
  {
   "cell_type": "code",
   "execution_count": 10,
   "metadata": {
    "id": "yP7QxH-SNQW7"
   },
   "outputs": [
    {
     "data": {
      "text/plain": [
       "{'.', 'The', 'blue', 'grass', 'green', 'is', 'sky'}"
      ]
     },
     "execution_count": 10,
     "metadata": {},
     "output_type": "execute_result"
    }
   ],
   "source": [
    "test_tweets = [ # Minimal tweet constructs for testing purposes.\n",
    "                # You may want to add your own for further diligence.\n",
    "    { \"text\": \"The sky is blue.\"},\n",
    "    { \"full_text\": \"The grass is green.\"},\n",
    "]\n",
    "unique_tokens(test_tweets)"
   ]
  },
  {
   "cell_type": "markdown",
   "metadata": {
    "id": "uaPpwAFdNNSI"
   },
   "source": [
    "### A bigger test of unique_tokens"
   ]
  },
  {
   "cell_type": "code",
   "execution_count": 11,
   "metadata": {
    "id": "FJyXBFrX5PXr"
   },
   "outputs": [],
   "source": [
    "# Note: these tweets have a `full_text` field not a `text` field.\n",
    "# Your function should support both.\n",
    "with gzip.open(\"nikelululemonadidas_tweets.jsonl.gz\") as f:\n",
    "    tokens = unique_tokens(f)"
   ]
  },
  {
   "cell_type": "markdown",
   "metadata": {
    "id": "7FRgIv4YFgz5"
   },
   "source": [
    "### The length of tokens is the count of unique tokens in the Tweet texts"
   ]
  },
  {
   "cell_type": "code",
   "execution_count": 12,
   "metadata": {
    "id": "bUBb79uVKnPG"
   },
   "outputs": [
    {
     "data": {
      "text/plain": [
       "152505"
      ]
     },
     "execution_count": 12,
     "metadata": {},
     "output_type": "execute_result"
    }
   ],
   "source": [
    "len(tokens)"
   ]
  },
  {
   "cell_type": "markdown",
   "metadata": {
    "id": "9nklRXJHLb7s"
   },
   "source": [
    "If your function is correct, you should see a count of over 150k here. That's a lot of unique tokens. Let's take a look at a few:"
   ]
  },
  {
   "cell_type": "markdown",
   "metadata": {
    "id": "szd8Avp8KrNY"
   },
   "source": [
    "### Inspect some of the tokens"
   ]
  },
  {
   "cell_type": "code",
   "execution_count": 13,
   "metadata": {
    "id": "j2EySvWAFbm6"
   },
   "outputs": [
    {
     "data": {
      "text/plain": [
       "['@aworldofgoods',\n",
       " 'https://t.co/s8jH8LS6L5',\n",
       " '@AyMrWilson',\n",
       " 'BOTS',\n",
       " 'https://t.co/FIMXItq8aA',\n",
       " 'Aztec',\n",
       " '@liberalpuppy',\n",
       " 'waitin',\n",
       " 'https://t.co/y5ZaUhJXM1',\n",
       " '@NICServices',\n",
       " '@Paula_Piccard',\n",
       " 'https://t.co/yEHdNCqlpj',\n",
       " 'Νίκη',\n",
       " '@AARPBlackCom',\n",
       " 'https://t.co/oyDvZ3vwX8',\n",
       " '@greggutfeld',\n",
       " '@kayvz',\n",
       " 'https://t.co/SeUPFBuVJ5',\n",
       " '@NAMICentralTX',\n",
       " 'https://t.co/5lXNSxVCTq',\n",
       " '#marshaisaliar',\n",
       " 'https://t.co/NqYpGTt7Ld',\n",
       " 'tunauza',\n",
       " 'judge',\n",
       " 'mrs',\n",
       " '#teamnuunlegacy',\n",
       " '#THANKS',\n",
       " 'draped',\n",
       " '@2Playbook',\n",
       " 'shares',\n",
       " 'https://t.co/ojhZUuiM5G',\n",
       " 'https://t.co/uVzylmjKjB',\n",
       " '@MarshaFundak',\n",
       " '#UyghurSlavery',\n",
       " 'https://t.co/vCo9zCNNkR',\n",
       " 'https://t.co/3hNY3Xh78q',\n",
       " '@NPDMattPowell',\n",
       " 'Velvet',\n",
       " 'fi',\n",
       " 'https://t.co/IoYM0VCM6e',\n",
       " 'https://t.co/gUzd4QLUfe',\n",
       " 'https://t.co/b6RZ9wmIt1',\n",
       " 'spilled',\n",
       " '@KidCudi',\n",
       " 'https://t.co/9AS49N3Ifi',\n",
       " '#Bloktopia',\n",
       " 'https://t.co/9BDl1q9hWB',\n",
       " '#FireNCAA',\n",
       " 'https://t.co/ITcRxHUBOM',\n",
       " 'google']"
      ]
     },
     "execution_count": 13,
     "metadata": {},
     "output_type": "execute_result"
    }
   ],
   "source": [
    "list(tokens)[:50]"
   ]
  },
  {
   "cell_type": "markdown",
   "metadata": {
    "id": "rsPiZtyjLsHG"
   },
   "source": [
    "So, it looks like a good number of these are http links, but even if half of our tokens were links, we still have a lot of unique tokens here. In a project with a lot of data, it may be prudent to think of ways to cull the data that is appropriate for the analysis.\n",
    "\n",
    "Below we will consider the idea of targeting salient terms by identifying the parts of speech for the tokens."
   ]
  },
  {
   "cell_type": "markdown",
   "metadata": {
    "id": "y20n-RZlfuHv"
   },
   "source": [
    "The NLP processing for determining parts of speech can be a bit resource intensive. So in the test code below, there is a truncated version of tweet loading that will load only 100 tweets.\n",
    "\n",
    "The full-file version of the test code is commented out so you do not accedentally run it. Uncomment it to check your numbers against those mentioned below. It will take a few minutes to process the whole file."
   ]
  },
  {
   "cell_type": "markdown",
   "metadata": {
    "id": "NoAitPmzRV0R"
   },
   "source": [
    "**Reminder:** See the [Penn Treebank POS list](https://www.ling.upenn.edu/courses/Fall_2003/ling001/penn_treebank_pos.html) for possible part-of-speech tags."
   ]
  },
  {
   "cell_type": "markdown",
   "metadata": {
    "id": "TcVamHniTcKU"
   },
   "source": [
    "### A truncated test that only loads 100 tweets"
   ]
  },
  {
   "cell_type": "code",
   "execution_count": 14,
   "metadata": {
    "id": "LuXNYGLjQ6A4"
   },
   "outputs": [],
   "source": [
    "tweets = []\n",
    "with gzip.open(\"nikelululemonadidas_tweets.jsonl.gz\") as f:\n",
    "    for i, line in enumerate(f):\n",
    "        if i >= 100:\n",
    "            break\n",
    "        tweets.append(json.loads(line))\n",
    "counts = token_counts(tweets, parts_of_speech=[\"VB\"])"
   ]
  },
  {
   "cell_type": "code",
   "execution_count": 15,
   "metadata": {
    "id": "_d9JjSRuTsli"
   },
   "outputs": [
    {
     "data": {
      "text/plain": [
       "Counter({'feature': 1,\n",
       "         'be': 11,\n",
       "         '#ad': 6,\n",
       "         'get': 5,\n",
       "         'grow': 1,\n",
       "         'release': 2,\n",
       "         '👟': 1,\n",
       "         '…': 2,\n",
       "         '’': 1,\n",
       "         'dress': 1,\n",
       "         'seem': 1,\n",
       "         'like': 1,\n",
       "         'dont': 1,\n",
       "         'https://t.co/ZlGH76YlNk': 1,\n",
       "         'announce': 1,\n",
       "         'take': 1,\n",
       "         '@Asante_Jedi': 1,\n",
       "         'deal': 1,\n",
       "         'doubt': 1,\n",
       "         'keep': 1,\n",
       "         'catch': 1,\n",
       "         '#COVID19': 1,\n",
       "         'say': 1,\n",
       "         'have': 1,\n",
       "         '@DrSeanMcMillan': 1,\n",
       "         'show': 1,\n",
       "         'understand': 1,\n",
       "         'do': 1,\n",
       "         'Behold': 1,\n",
       "         'explain': 1,\n",
       "         'start': 1,\n",
       "         'know': 2,\n",
       "         'Let': 1,\n",
       "         'think': 1,\n",
       "         'Get': 2,\n",
       "         'study': 1,\n",
       "         'play': 1,\n",
       "         '@hardg43': 1,\n",
       "         'sleep': 1,\n",
       "         'go': 2,\n",
       "         'build': 1,\n",
       "         'ponder': 1,\n",
       "         '@FCBayernUS': 1,\n",
       "         'use': 1,\n",
       "         'put': 1,\n",
       "         'store': 1,\n",
       "         'email': 1,\n",
       "         'replace': 1,\n",
       "         'need': 1,\n",
       "         'munch': 1,\n",
       "         '📍': 1,\n",
       "         '@espn': 1,\n",
       "         '@Sedano': 1,\n",
       "         'step': 1,\n",
       "         'help': 1,\n",
       "         '😔': 1,\n",
       "         'let': 1,\n",
       "         'https://t.co/ukEuxMqinr': 1})"
      ]
     },
     "execution_count": 15,
     "metadata": {},
     "output_type": "execute_result"
    }
   ],
   "source": [
    "counts"
   ]
  },
  {
   "cell_type": "markdown",
   "metadata": {
    "id": "lNfJ4A8dTySE"
   },
   "source": [
    "### A full test that will take some time to run"
   ]
  },
  {
   "cell_type": "markdown",
   "metadata": {
    "id": "Tfzm5lvyZB9f"
   },
   "source": [
    "This will take a few minutes to run. Uncomment the code to execute it."
   ]
  },
  {
   "cell_type": "code",
   "execution_count": null,
   "metadata": {
    "id": "nlt-Y6ibdUPO"
   },
   "outputs": [],
   "source": [
    "#with gzip.open(\"drive/MyDrive/nikelululemonadidas_tweets.jsonl.gz\") as f:\n",
    "#    counts = token_counts(f, parts_of_speech=[\"VB\"])"
   ]
  },
  {
   "cell_type": "markdown",
   "metadata": {
    "id": "vV9GODciZWZL"
   },
   "source": [
    "There should be something over 6500 VB matches .."
   ]
  },
  {
   "cell_type": "code",
   "execution_count": null,
   "metadata": {
    "id": "qUZESPqKZTf_"
   },
   "outputs": [],
   "source": [
    "len(counts.items())"
   ]
  },
  {
   "cell_type": "markdown",
   "metadata": {
    "id": "DL6vHaXxZa8s"
   },
   "source": [
    ".. with something close to 133000 as the sum of all counts:"
   ]
  },
  {
   "cell_type": "code",
   "execution_count": null,
   "metadata": {
    "id": "0kkQgJW8ZbkM"
   },
   "outputs": [],
   "source": [
    "sum(counts.values())"
   ]
  },
  {
   "cell_type": "markdown",
   "metadata": {
    "id": "MP9eduHxZquP"
   },
   "source": [
    "Inpect a few items"
   ]
  },
  {
   "cell_type": "code",
   "execution_count": null,
   "metadata": {
    "id": "izbNYn_mfFMI"
   },
   "outputs": [],
   "source": [
    "dict(list(counts.items())[:30])"
   ]
  }
 ],
 "metadata": {
  "colab": {
   "provenance": []
  },
  "kernelspec": {
   "display_name": "Python 3 (ipykernel)",
   "language": "python",
   "name": "python3"
  },
  "language_info": {
   "codemirror_mode": {
    "name": "ipython",
    "version": 3
   },
   "file_extension": ".py",
   "mimetype": "text/x-python",
   "name": "python",
   "nbconvert_exporter": "python",
   "pygments_lexer": "ipython3",
   "version": "3.10.9"
  }
 },
 "nbformat": 4,
 "nbformat_minor": 4
}
