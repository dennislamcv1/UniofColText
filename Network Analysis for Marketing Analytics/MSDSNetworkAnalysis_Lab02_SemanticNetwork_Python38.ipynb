{
 "cells": [
  {
   "cell_type": "markdown",
   "metadata": {
    "id": "ZcU5XMxHW35O"
   },
   "source": [
    "# MSDS Network Analysis, Lab 2: Build a Semantic Network"
   ]
  },
  {
   "cell_type": "markdown",
   "metadata": {
    "id": "l9OaEUqP43Bz"
   },
   "source": [
    "## ⚡️ Make a Copy\n",
    "\n",
    "Save a copy of this notebook in your Google Drive before continuing. Be sure to edit your own copy, not the original notebook."
   ]
  },
  {
   "cell_type": "markdown",
   "metadata": {
    "id": "gRg_nVYGXIVh"
   },
   "source": [
    "## 📓 About this lab"
   ]
  },
  {
   "cell_type": "markdown",
   "metadata": {
    "id": "H0FWKf20XNAT"
   },
   "source": [
    "In this lab, you will build a semantic network of Tweets. That is, a graph of Tweets related by natural language features of the Tweet texts.\n"
   ]
  },
  {
   "cell_type": "markdown",
   "metadata": {
    "id": "3gNOVxdOLfr1"
   },
   "source": [
    "# Imports"
   ]
  },
  {
   "cell_type": "code",
   "execution_count": 1,
   "metadata": {
    "id": "VEr-dIfv90fP"
   },
   "outputs": [],
   "source": [
    "import gzip\n",
    "import re\n",
    "import itertools\n",
    "import json\n",
    "import networkx as nx\n",
    "#import matplotlib.pyplot as plt\n",
    "import nltk\n",
    "import string"
   ]
  },
  {
   "cell_type": "code",
   "execution_count": 2,
   "metadata": {},
   "outputs": [
    {
     "name": "stdout",
     "output_type": "stream",
     "text": [
      "3.4.5\n"
     ]
    }
   ],
   "source": [
    "print(nltk.__version__)"
   ]
  },
  {
   "cell_type": "code",
   "execution_count": 3,
   "metadata": {},
   "outputs": [
    {
     "name": "stdout",
     "output_type": "stream",
     "text": [
      "Python version\n",
      "3.8.19 | packaged by conda-forge | (default, Mar 20 2024, 12:38:07) [MSC v.1929 64 bit (AMD64)]\n"
     ]
    }
   ],
   "source": [
    "import sys\n",
    "\n",
    "print(\"Python version\")\n",
    "print(sys.version)"
   ]
  },
  {
   "cell_type": "markdown",
   "metadata": {
    "id": "2qLFOpRZZjuh"
   },
   "source": [
    "## Get the data"
   ]
  },
  {
   "cell_type": "markdown",
   "metadata": {
    "id": "w1oAfXlkZeOX"
   },
   "source": [
    "Be sure you still have the brand Tweets file on your Google Drive from the previous Lab."
   ]
  },
  {
   "cell_type": "code",
   "execution_count": 4,
   "metadata": {
    "id": "gdigBPlKTDeS"
   },
   "outputs": [],
   "source": [
    "DATA_FILE = \"nikelululemonadidas_tweets.jsonl.gz\""
   ]
  },
  {
   "cell_type": "markdown",
   "metadata": {
    "id": "zLsas-r3p6ws"
   },
   "source": [
    "## Mount Google Drive"
   ]
  },
  {
   "cell_type": "code",
   "execution_count": 5,
   "metadata": {
    "id": "EjOJUUbdp9EJ"
   },
   "outputs": [],
   "source": [
    "# from google.colab import drive\n",
    "# drive.mount('/content/drive')"
   ]
  },
  {
   "cell_type": "markdown",
   "metadata": {
    "id": "TnNJ_pDUXCEq"
   },
   "source": [
    "### About the NLTK and NLP in Python"
   ]
  },
  {
   "cell_type": "markdown",
   "metadata": {
    "id": "4MwcyFx7w9VW"
   },
   "source": [
    "The [NLTK (Natural Language Toolkit)](https://www.nltk.org/) is an old standby for natural language processing (NLP) in the Python world.\n",
    "\n",
    "There are a good number of NLP-related Python packages, but many of them are in fact built on the NLTK, so it is worth getting some foundational exposure to that package."
   ]
  },
  {
   "cell_type": "markdown",
   "metadata": {
    "id": "plWCMGaqx15Q"
   },
   "source": [
    "If you want to explore NLP with Python in more depth, popular libraries include [spaCy](https://spacy.io/) and [TextBlob](https://textblob.readthedocs.io/en/dev/) both of which are (like the NLTK) broadly scoped generalist NLP libraries.\n",
    "\n",
    "There are also a good number of specialized libraries for a number of tasks, including keyword extraction, fuzzy string matching, natural language data handling, the list goes on. If you have a task at hand, it's worth doing a quick search to see if the problem has already been solved."
   ]
  },
  {
   "cell_type": "markdown",
   "metadata": {
    "id": "uVBYutrh0jJd"
   },
   "source": [
    "### NLTK downloads\n",
    "\n",
    "A lot of NLTK tools fall into the category of corpus linguistics, and the algorithms for these tools often require large amounts of backing data that can unnecessarily bloat the package size if that tool is not being used.\n",
    "\n",
    "To help manage bloat, the NLTK distributes its supplemental data via a download mechanism that is used on an as-needed basis.\n",
    "\n",
    "For this assignment, you will be using the `punkt`, `stopwords` and `wordnet` datasets, which are downloaded here."
   ]
  },
  {
   "cell_type": "code",
   "execution_count": 6,
   "metadata": {
    "id": "Q5R-OM2e5xVF"
   },
   "outputs": [
    {
     "name": "stderr",
     "output_type": "stream",
     "text": [
      "[nltk_data] Downloading package punkt to\n",
      "[nltk_data]     C:\\Users\\Dennis\\AppData\\Roaming\\nltk_data...\n",
      "[nltk_data]   Package punkt is already up-to-date!\n"
     ]
    },
    {
     "data": {
      "text/plain": [
       "True"
      ]
     },
     "execution_count": 6,
     "metadata": {},
     "output_type": "execute_result"
    }
   ],
   "source": [
    "nltk.download(\"punkt\")"
   ]
  },
  {
   "cell_type": "code",
   "execution_count": 7,
   "metadata": {
    "id": "W6QKZL4OYkft"
   },
   "outputs": [
    {
     "name": "stderr",
     "output_type": "stream",
     "text": [
      "[nltk_data] Downloading package stopwords to\n",
      "[nltk_data]     C:\\Users\\Dennis\\AppData\\Roaming\\nltk_data...\n",
      "[nltk_data]   Package stopwords is already up-to-date!\n"
     ]
    },
    {
     "data": {
      "text/plain": [
       "True"
      ]
     },
     "execution_count": 7,
     "metadata": {},
     "output_type": "execute_result"
    }
   ],
   "source": [
    "nltk.download(\"stopwords\")"
   ]
  },
  {
   "cell_type": "code",
   "execution_count": 8,
   "metadata": {
    "id": "PvcS9J9Eke4K"
   },
   "outputs": [
    {
     "name": "stderr",
     "output_type": "stream",
     "text": [
      "[nltk_data] Downloading package wordnet to\n",
      "[nltk_data]     C:\\Users\\Dennis\\AppData\\Roaming\\nltk_data...\n",
      "[nltk_data]   Package wordnet is already up-to-date!\n"
     ]
    },
    {
     "data": {
      "text/plain": [
       "True"
      ]
     },
     "execution_count": 8,
     "metadata": {},
     "output_type": "execute_result"
    }
   ],
   "source": [
    "nltk.download(\"wordnet\")"
   ]
  },
  {
   "cell_type": "markdown",
   "metadata": {
    "id": "OgBGBHTBLl-j"
   },
   "source": [
    "## Text processing functions"
   ]
  },
  {
   "cell_type": "markdown",
   "metadata": {
    "id": "1xsEqtHRT8q_"
   },
   "source": [
    "Here, we define a few functions that will be used to clean up the tweet texts. Take the time to understand what these functions are doing and how they work. You may, however, want to skim ahead to get a sense of how these functions are being used in order to better motivate your understanding."
   ]
  },
  {
   "cell_type": "markdown",
   "metadata": {
    "id": "fcrugsS_iCwU"
   },
   "source": [
    "### Text tokenization\n",
    "\n",
    "\n"
   ]
  },
  {
   "cell_type": "markdown",
   "metadata": {
    "id": "-qaOWHGi3JLE"
   },
   "source": [
    "The near-universal preliminary step to natural language processing of free-form text content is the task of tokenization.\n",
    "\n",
    "Tokenization is the task of breaking a text down into its component parts, which at the sentence level in English, we think of as words -- although tokens also include things like punctuation and sometimes special-case tokens creep in as we will see is the case for Tweets."
   ]
  },
  {
   "cell_type": "markdown",
   "metadata": {
    "id": "3Y57sZOd4Qqs"
   },
   "source": [
    "#### A super-simple tokenizer"
   ]
  },
  {
   "cell_type": "markdown",
   "metadata": {
    "id": "k3EPQCjO4URJ"
   },
   "source": [
    "Consider the following sentence (modified from the popular typing exercise in order to demonstrate some specifics)"
   ]
  },
  {
   "cell_type": "code",
   "execution_count": 9,
   "metadata": {
    "id": "m7nYRpJG3Byq"
   },
   "outputs": [],
   "source": [
    "sentence = \"The quickly browned jumping fox and the quick brown foxes jumped quickly over the lazy dogs lazily lying.\""
   ]
  },
  {
   "cell_type": "markdown",
   "metadata": {
    "id": "fKifccHG4408"
   },
   "source": [
    "The simplest tokenizer you could build for this is probably the split function:"
   ]
  },
  {
   "cell_type": "code",
   "execution_count": 10,
   "metadata": {
    "id": "3ZiF5PVe5CvG"
   },
   "outputs": [
    {
     "data": {
      "text/plain": [
       "['The',\n",
       " 'quickly',\n",
       " 'browned',\n",
       " 'jumping',\n",
       " 'fox',\n",
       " 'and',\n",
       " 'the',\n",
       " 'quick',\n",
       " 'brown',\n",
       " 'foxes',\n",
       " 'jumped',\n",
       " 'quickly',\n",
       " 'over',\n",
       " 'the',\n",
       " 'lazy',\n",
       " 'dogs',\n",
       " 'lazily',\n",
       " 'lying.']"
      ]
     },
     "execution_count": 10,
     "metadata": {},
     "output_type": "execute_result"
    }
   ],
   "source": [
    "sentence.split()"
   ]
  },
  {
   "cell_type": "markdown",
   "metadata": {
    "id": "aQATD66T5HWi"
   },
   "source": [
    ".. which works quite well in the simplest cases. But real-world text tends to not fit into simple boxes. Thus, we tend to reach for pre-built tokenizers.\n",
    "\n",
    "The NLTK word tokenizer is a good example:"
   ]
  },
  {
   "cell_type": "code",
   "execution_count": 11,
   "metadata": {
    "id": "ErEhJBTa5mXr"
   },
   "outputs": [
    {
     "data": {
      "text/plain": [
       "['The',\n",
       " 'quickly',\n",
       " 'browned',\n",
       " 'jumping',\n",
       " 'fox',\n",
       " 'and',\n",
       " 'the',\n",
       " 'quick',\n",
       " 'brown',\n",
       " 'foxes',\n",
       " 'jumped',\n",
       " 'quickly',\n",
       " 'over',\n",
       " 'the',\n",
       " 'lazy',\n",
       " 'dogs',\n",
       " 'lazily',\n",
       " 'lying',\n",
       " '.']"
      ]
     },
     "execution_count": 11,
     "metadata": {},
     "output_type": "execute_result"
    }
   ],
   "source": [
    "nltk.tokenize.word_tokenize(sentence)"
   ]
  },
  {
   "cell_type": "markdown",
   "metadata": {
    "id": "EDgft4l159Vt"
   },
   "source": [
    "A notable difference here is that punctuation is correctly tokenized, unlike with our simple `split` tokenizer.\n",
    "\n",
    "But consider this example Tweet:"
   ]
  },
  {
   "cell_type": "code",
   "execution_count": 12,
   "metadata": {
    "id": "WtfKSO126hi3"
   },
   "outputs": [
    {
     "data": {
      "text/plain": [
       "['hope',\n",
       " 'I',\n",
       " 'get',\n",
       " 'a',\n",
       " 'new',\n",
       " 'pair',\n",
       " 'of',\n",
       " 'these',\n",
       " '@',\n",
       " 'Nike',\n",
       " 'shoes',\n",
       " '!',\n",
       " '!',\n",
       " '!',\n",
       " '!',\n",
       " '#',\n",
       " 'nikelife',\n",
       " 'https',\n",
       " ':',\n",
       " '//www.nike.com/launch/t/womens-air-force-1-reveal-pastel-reveal']"
      ]
     },
     "execution_count": 12,
     "metadata": {},
     "output_type": "execute_result"
    }
   ],
   "source": [
    "example_tweet = \"hope I get a new pair of these @Nike shoes!!!! #nikelife https://www.nike.com/launch/t/womens-air-force-1-reveal-pastel-reveal\"\n",
    "nltk.tokenize.word_tokenize(example_tweet)"
   ]
  },
  {
   "cell_type": "markdown",
   "metadata": {
    "id": "P0mfElLs6taG"
   },
   "source": [
    "There are a few problems here, particularly the poor/improper handling of:\n",
    "\n",
    " * @mentions\n",
    " * #hashtags\n",
    " * web URLs\n",
    "\n",
    "For this reason, NLTK provides a specialized Tweet tokenizer:"
   ]
  },
  {
   "cell_type": "code",
   "execution_count": 13,
   "metadata": {
    "id": "DCfwpW1WBEZa"
   },
   "outputs": [
    {
     "data": {
      "text/plain": [
       "['hope',\n",
       " 'I',\n",
       " 'get',\n",
       " 'a',\n",
       " 'new',\n",
       " 'pair',\n",
       " 'of',\n",
       " 'these',\n",
       " '@Nike',\n",
       " 'shoes',\n",
       " '!',\n",
       " '!',\n",
       " '!',\n",
       " '#nikelife',\n",
       " 'https://www.nike.com/launch/t/womens-air-force-1-reveal-pastel-reveal']"
      ]
     },
     "execution_count": 13,
     "metadata": {},
     "output_type": "execute_result"
    }
   ],
   "source": [
    "nltk.TweetTokenizer().tokenize(example_tweet)"
   ]
  },
  {
   "cell_type": "markdown",
   "metadata": {
    "id": "5p_HPuRhBI1n"
   },
   "source": [
    "That's better. You will further work with the Tweet Tokenizer in Homework 1. Here, let's build a simple tokenize function that can use either the word tokenizer or the Tweet tokenizer.\n",
    "\n",
    "While we are at it, we'll normalize the text to lowercase so that we can think of, e.g. \"The\" as being the same word as \"the\"."
   ]
  },
  {
   "cell_type": "code",
   "execution_count": 14,
   "metadata": {
    "id": "pZBv5GUbiF_W"
   },
   "outputs": [],
   "source": [
    "TWEET_TOKENIZER = nltk.TweetTokenizer().tokenize\n",
    "WORD_TOKENIZER = nltk.tokenize.word_tokenize\n",
    "\n",
    "def tokenize(text, lowercase=True, tweet=False):\n",
    "    \"\"\"Tokenize the text. By default, also normalizes text to lowercase.\n",
    "    Optionally uses the Tweet Tokenizer.\n",
    "    \"\"\"\n",
    "    if lowercase:\n",
    "        text = text.lower()\n",
    "    if tweet:\n",
    "        return TWEET_TOKENIZER(text)\n",
    "    else:\n",
    "        return WORD_TOKENIZER(text)"
   ]
  },
  {
   "cell_type": "markdown",
   "metadata": {
    "id": "3Sg3Z8eLih-8"
   },
   "source": [
    "### Functions that take tokens"
   ]
  },
  {
   "cell_type": "markdown",
   "metadata": {
    "id": "f0mjAeL7DaxR"
   },
   "source": [
    "After tokenizing, there are often a number of other preprocessing steps involved in preparing text data for analysis. We often consider mechanisms for text normalization.\n",
    "\n",
    "We already lowercased the text for one kind of normalization. Another thing often considered are the ideas of stemming and lemmatization. These are both approaches to dealing with variations on word forms, such as pluralization, and conjugation.\n",
    "\n",
    "Take a look at the following to get a feel for the differences. In this Lab, we will use the lemmatizer which uses more natural normalized word forms."
   ]
  },
  {
   "cell_type": "markdown",
   "metadata": {
    "id": "UdnfTwQLM6g3"
   },
   "source": [
    "> ⚠️ **Caveat:** We will be using the lemmatizer in a bit of a naive way here. The WordNet lemmatizer defaults to treating words as nouns unless told otherwise. The result is that we are mainly just handling the differences in pluralization with the way we are lemmatizing. For more sophisticated lemmas, you would need to do part-of-speech tagging. You explored POS tagging in homework 2. Some extra work would be required to get the POS tags from that assignment into the form required by this lemmatizer. For purposes of this lab, we will stick with the default noun assumption.\n",
    "\n",
    "> As an example of the effects of using POS tagging, see the code snippets below. [This article at machinelearningplus.com](https://www.machinelearningplus.com/nlp/lemmatization-examples-python/) provides a good overview of some different approaches to lemmatizing, including applying parts of speech to WordNet."
   ]
  },
  {
   "cell_type": "markdown",
   "metadata": {
    "id": "xsE_gYZ_OPi5"
   },
   "source": [
    "### Lemmatizing with POS\n",
    "\n",
    "The following code snippets demonstrate differences in signaling the part-of-speech to the lemmatizer. The WordNet lemmatizer defaults to treating everything as nouns, which we will simply accept as good enough for the purpose of this lab."
   ]
  },
  {
   "cell_type": "code",
   "execution_count": 15,
   "metadata": {
    "id": "vqq8cNsQMQUz"
   },
   "outputs": [
    {
     "name": "stdout",
     "output_type": "stream",
     "text": [
      "noun: jumping\n",
      "verb: jump\n"
     ]
    }
   ],
   "source": [
    "lemmatizer = nltk.WordNetLemmatizer()\n",
    "print(\"noun:\", lemmatizer.lemmatize(\"jumping\", \"n\"))\n",
    "print(\"verb:\", lemmatizer.lemmatize(\"jumping\", \"v\"))"
   ]
  },
  {
   "cell_type": "code",
   "execution_count": 16,
   "metadata": {
    "id": "1BrNwHQEMyM8"
   },
   "outputs": [
    {
     "name": "stdout",
     "output_type": "stream",
     "text": [
      "noun: lying\n",
      "verb: lie\n"
     ]
    }
   ],
   "source": [
    "print(\"noun:\", lemmatizer.lemmatize(\"lying\", \"n\"))\n",
    "print(\"verb:\", lemmatizer.lemmatize(\"lying\", \"v\"))"
   ]
  },
  {
   "cell_type": "code",
   "execution_count": 17,
   "metadata": {
    "id": "DWeAvcPuimE6"
   },
   "outputs": [],
   "source": [
    "STEMMER = nltk.PorterStemmer()\n",
    "\n",
    "def stem(tokens):\n",
    "    \"\"\"Stem the tokens. I.e., remove morphological affixes and\n",
    "    normalize to standardized stem forms.\n",
    "\n",
    "    Has the side effective of producing \"unnatural\" forms due to\n",
    "    stemming standards. E.g. quickly becomes quickli\n",
    "    \"\"\"\n",
    "    return [ STEMMER.stem(token) for token in tokens ]"
   ]
  },
  {
   "cell_type": "code",
   "execution_count": 18,
   "metadata": {
    "id": "XsWmDO_6Rdao"
   },
   "outputs": [
    {
     "name": "stdout",
     "output_type": "stream",
     "text": [
      "['the', 'quickli', 'brown', 'jump', 'fox', 'and', 'the', 'quick', 'brown', 'fox', 'jump', 'quickli', 'over', 'the', 'lazi', 'dog', 'lazili', 'lie', '.']\n"
     ]
    }
   ],
   "source": [
    "print(stem(tokenize(sentence)))"
   ]
  },
  {
   "cell_type": "code",
   "execution_count": 19,
   "metadata": {
    "id": "t0BqdhzMjzs1"
   },
   "outputs": [],
   "source": [
    "LEMMATIZER = nltk.WordNetLemmatizer()\n",
    "\n",
    "def lemmatize(tokens):\n",
    "    \"\"\"Lemmatize the tokens.\n",
    "\n",
    "    Retains more natural word forms than stemming, but assumes all\n",
    "    tokens are nouns unless tokens are passed as (word, pos) tuples.\n",
    "    \"\"\"\n",
    "    lemmas = []\n",
    "    for token in tokens:\n",
    "        if isinstance(token, str):\n",
    "            lemmas.append(LEMMATIZER.lemmatize(token)) # treats token like a noun\n",
    "        else: # assume a tuple of (word, pos)\n",
    "            lemmas.append(LEMMATIZER.lemmatize(*token))\n",
    "    return lemmas"
   ]
  },
  {
   "cell_type": "code",
   "execution_count": 20,
   "metadata": {
    "id": "K_Vig86yPpJD"
   },
   "outputs": [
    {
     "data": {
      "text/plain": [
       "['fox', 'jumping']"
      ]
     },
     "execution_count": 20,
     "metadata": {},
     "output_type": "execute_result"
    }
   ],
   "source": [
    "lemmatize([ \"foxes\", \"jumping\"])"
   ]
  },
  {
   "cell_type": "code",
   "execution_count": 21,
   "metadata": {
    "id": "vxnjnqUdQpuV"
   },
   "outputs": [
    {
     "data": {
      "text/plain": [
       "['fox', 'jump']"
      ]
     },
     "execution_count": 21,
     "metadata": {},
     "output_type": "execute_result"
    }
   ],
   "source": [
    "lemmatize([ (\"fox\", \"n\"), (\"jumps\", \"v\") ])"
   ]
  },
  {
   "cell_type": "code",
   "execution_count": 22,
   "metadata": {
    "id": "ijVc0LI_SSJh"
   },
   "outputs": [
    {
     "name": "stdout",
     "output_type": "stream",
     "text": [
      "['the', 'quickly', 'browned', 'jumping', 'fox', 'and', 'the', 'quick', 'brown', 'fox', 'jumped', 'quickly', 'over', 'the', 'lazy', 'dog', 'lazily', 'lying', '.']\n"
     ]
    }
   ],
   "source": [
    "print(lemmatize(tokenize(sentence)))"
   ]
  },
  {
   "cell_type": "markdown",
   "metadata": {
    "id": "0ZA7YtMFSdS7"
   },
   "source": [
    "### Removing stopwords"
   ]
  },
  {
   "cell_type": "markdown",
   "metadata": {
    "id": "t2q1-yPuSiId"
   },
   "source": [
    "It can be useful to remove so-called stopwords to improve the average salience of the terms we are analyzing.\n",
    "\n",
    "Stop words tend to be things like articles and conjunctions that usually don't offer a lot of value in an analysis.\n",
    "\n",
    "The NLTK has a corpus of stopwords, but we'll include the option of passing in a custom list if desired."
   ]
  },
  {
   "cell_type": "code",
   "execution_count": 23,
   "metadata": {
    "id": "VDCC9UN7jBkb"
   },
   "outputs": [],
   "source": [
    "def remove_stopwords(tokens, stopwords=None):\n",
    "    \"\"\"Remove stopwords, i.e. words that we don't want as part of our\n",
    "    analysis. Defaults to the default set of nltk english stopwords.\n",
    "    \"\"\"\n",
    "    if stopwords is None:\n",
    "        stopwords = nltk.corpus.stopwords.words(\"english\")\n",
    "    return [ token for token in tokens if token not in stopwords ]"
   ]
  },
  {
   "cell_type": "code",
   "execution_count": 24,
   "metadata": {
    "id": "ysK896MCTORZ"
   },
   "outputs": [
    {
     "name": "stdout",
     "output_type": "stream",
     "text": [
      "['the', 'quickly', 'browned', 'jumping', 'fox', 'and', 'the', 'quick', 'brown', 'foxes', 'jumped', 'quickly', 'over', 'the', 'lazy', 'dogs', 'lazily', 'lying', '.']\n",
      "['quickly', 'browned', 'jumping', 'fox', 'quick', 'brown', 'foxes', 'jumped', 'quickly', 'lazy', 'dogs', 'lazily', 'lying', '.']\n"
     ]
    }
   ],
   "source": [
    "tokens = tokenize(sentence)\n",
    "print(tokens)\n",
    "print(remove_stopwords(tokens))"
   ]
  },
  {
   "cell_type": "markdown",
   "metadata": {
    "id": "tPV4VnECgSYb"
   },
   "source": [
    "### Removing hyperlinks"
   ]
  },
  {
   "cell_type": "markdown",
   "metadata": {
    "id": "nHfyiGC_gXEH"
   },
   "source": [
    "Unless your analysis involves looking at what users are linking to (a more difficult and involved task than it might seem), then you might want to simply get those links out of the way."
   ]
  },
  {
   "cell_type": "code",
   "execution_count": 25,
   "metadata": {
    "id": "1TRqS0G6gwdd"
   },
   "outputs": [],
   "source": [
    "def remove_links(tokens):\n",
    "    \"\"\"Removes http/s links from the tokens.\n",
    "\n",
    "    This simple implementation assumes links have been kept intact as whole\n",
    "    tokens. E.g. the way the Tweet Tokenizer works.\n",
    "    \"\"\"\n",
    "    return [ t for t in tokens\n",
    "            if not t.startswith(\"http://\")\n",
    "            and not t.startswith(\"https://\")\n",
    "        ]\n"
   ]
  },
  {
   "cell_type": "code",
   "execution_count": 26,
   "metadata": {
    "id": "6wUfJBLuiBRa"
   },
   "outputs": [
    {
     "name": "stdout",
     "output_type": "stream",
     "text": [
      "['hope', 'i', 'get', 'a', 'new', 'pair', 'of', 'these', '@nike', 'shoes', '!', '!', '!', '#nikelife']\n"
     ]
    }
   ],
   "source": [
    "print(remove_links(tokenize(example_tweet, tweet=True)))"
   ]
  },
  {
   "cell_type": "markdown",
   "metadata": {
    "id": "odmLOVBsTjLc"
   },
   "source": [
    "### Removing punctuation"
   ]
  },
  {
   "cell_type": "markdown",
   "metadata": {
    "id": "y72_TvcXbUCu"
   },
   "source": [
    "Finally, for our purposes of analysis, we are really only interested in words, not punctuation. Here, we simply remove tokens that are punctuation."
   ]
  },
  {
   "cell_type": "markdown",
   "metadata": {
    "id": "Rn-aNiwLTnB5"
   },
   "source": [
    "Tweets can get pretty messy, so we've gone beyond simply removing punctation tokens and decided to clean out punctuation altogether."
   ]
  },
  {
   "cell_type": "code",
   "execution_count": 27,
   "metadata": {
    "id": "NYj-wFTxlN-P"
   },
   "outputs": [],
   "source": [
    "def remove_punctuation(tokens,\n",
    "                       strip_mentions=False,\n",
    "                       strip_hashtags=False,\n",
    "                       strict=False):\n",
    "    \"\"\"Remove punctuation from a list of tokens.\n",
    "\n",
    "    Has some specialized options for dealing with Tweets:\n",
    "\n",
    "    strip_mentions=True will strip the @ off of @ mentions\n",
    "    strip_hashtags=True will strip the # from hashtags\n",
    "\n",
    "    strict=True will remove all punctuation from all tokens, not merely\n",
    "    just tokens that are punctuation per se.\n",
    "    \"\"\"\n",
    "    tokens = [t for t in tokens if t not in string.punctuation]\n",
    "    if strip_mentions:\n",
    "        tokens = [t.lstrip('@') for t in tokens]\n",
    "    if strip_hashtags:\n",
    "        tokens = [t.lstrip('#') for t in tokens]\n",
    "    if strict:\n",
    "        cleaned = []\n",
    "        for t in tokens:\n",
    "            cleaned.append(\n",
    "                t.translate(str.maketrans('', '', string.punctuation)).strip())\n",
    "        tokens = [t for t in cleaned if t]\n",
    "    return tokens"
   ]
  },
  {
   "cell_type": "code",
   "execution_count": 28,
   "metadata": {
    "id": "TG1xww0lezgQ"
   },
   "outputs": [
    {
     "name": "stdout",
     "output_type": "stream",
     "text": [
      "['hope', 'i', 'get', 'a', 'new', 'pair', 'of', 'these', '@nike', 'shoes', '!', '!', '!', '#nikelife', 'https://www.nike.com/launch/t/womens-air-force-1-reveal-pastel-reveal']\n",
      "['hope', 'i', 'get', 'a', 'new', 'pair', 'of', 'these', 'nike', 'shoes', 'nikelife', 'https://www.nike.com/launch/t/womens-air-force-1-reveal-pastel-reveal']\n"
     ]
    }
   ],
   "source": [
    "tokens = tokenize(example_tweet, tweet=True)\n",
    "print(tokens)\n",
    "print(remove_punctuation(tokens, strip_mentions=True, strip_hashtags=True))"
   ]
  },
  {
   "cell_type": "code",
   "execution_count": 29,
   "metadata": {
    "id": "wxgNpVSIfVpc"
   },
   "outputs": [
    {
     "name": "stdout",
     "output_type": "stream",
     "text": [
      "['hope', 'I', 'get', 'a', 'new', 'pair', 'of', 'these', '@Nike', 'shoes!!!!', '#nikelife', 'https://www.nike.com/launch/t/womens-air-force-1-reveal-pastel-reveal']\n",
      "['hope', 'I', 'get', 'a', 'new', 'pair', 'of', 'these', 'Nike', 'shoes', 'nikelife', 'httpswwwnikecomlaunchtwomensairforce1revealpastelreveal']\n"
     ]
    }
   ],
   "source": [
    "simple_tokens = example_tweet.split()\n",
    "print(simple_tokens)\n",
    "print(remove_punctuation(simple_tokens, strict=True))"
   ]
  },
  {
   "cell_type": "markdown",
   "metadata": {
    "id": "wUz7hLKSf2eu"
   },
   "source": [
    "## Finally working with the data"
   ]
  },
  {
   "cell_type": "markdown",
   "metadata": {
    "id": "zMgCzDn1f5pJ"
   },
   "source": [
    "Data cleanup is a big task and ultimately one of the bigger burdens of any analysis project. But, now that we have a good suite of utilities for handling our Tweets, the remainder of our work goes quickly."
   ]
  },
  {
   "cell_type": "markdown",
   "metadata": {
    "id": "4p63VPh6i0Z8"
   },
   "source": [
    "The code below will do the following for each Tweet in the dataset:\n",
    "\n",
    " * Tokenize the text using the Tweet Tokenizer\n",
    " * Remove hyperlinks\n",
    " * Remove stopwords (standard English stopwords)\n",
    " * Remove punctuation tokens and strip @ and # from hashtags and mentions (see note below)\n",
    " * Lemmatize the remaining word tokens (using default noun part-of-speech for simplicity)\n",
    "\n",
    ".. and will collect the unique words and their counts into `word_counts`."
   ]
  },
  {
   "cell_type": "markdown",
   "metadata": {
    "id": "S2LfXhKnmcGM"
   },
   "source": [
    "> 💡 Since this is a semantic network we are building, it seems useful to, e.g., treat **@Nike** and **Nike** as the same word. Hence, `strip_mentions`, and `strip_hashtags`. In some cases, for example a mentions network, you would probably take a different approach. As you preprocess and prepare data for the task at hand, it is important to be intentional and aware of how you are handling the text with your end goals in mind."
   ]
  },
  {
   "cell_type": "code",
   "execution_count": 30,
   "metadata": {
    "id": "mSrz-9ofjsKs"
   },
   "outputs": [
    {
     "name": "stdout",
     "output_type": "stream",
     "text": [
      "Processed 0 tweets\n",
      "Processed 10000 tweets\n",
      "Processed 20000 tweets\n",
      "Processed 30000 tweets\n",
      "Processed 40000 tweets\n",
      "Processed 50000 tweets\n",
      "Processed 60000 tweets\n",
      "Processed 70000 tweets\n",
      "Processed 80000 tweets\n",
      "Processed 90000 tweets\n",
      "Processed 100000 tweets\n",
      "Processed 110000 tweets\n",
      "Processed 120000 tweets\n",
      "Processed 130000 tweets\n",
      "Processed 140000 tweets\n",
      "Processed 150000 tweets\n",
      "Processed 160000 tweets\n",
      "Processed 170000 tweets\n"
     ]
    }
   ],
   "source": [
    "word_counts = {}\n",
    "\n",
    "with gzip.open(DATA_FILE) as data_file:\n",
    "    for i, line in enumerate(data_file):\n",
    "        if i % 10000 == 0:\n",
    "            print(f\"Processed {i} tweets\")\n",
    "        tweet = json.loads(line)\n",
    "        text = tweet[\"full_text\"]\n",
    "        tokens = tokenize(text, tweet=True)\n",
    "        tokens = remove_links(tokens)\n",
    "        tokens = remove_stopwords(tokens)\n",
    "        tokens = remove_punctuation(tokens, strip_mentions=True, strip_hashtags=True)\n",
    "        tokens = lemmatize(tokens)\n",
    "        for word in tokens:\n",
    "            if word not in word_counts:\n",
    "                word_counts[word] = 0\n",
    "            word_counts[word] += 1"
   ]
  },
  {
   "cell_type": "code",
   "execution_count": 31,
   "metadata": {
    "id": "eIOWn78gn182"
   },
   "outputs": [
    {
     "data": {
      "text/plain": [
       "86527"
      ]
     },
     "execution_count": 31,
     "metadata": {},
     "output_type": "execute_result"
    }
   ],
   "source": [
    "len(word_counts)"
   ]
  },
  {
   "cell_type": "markdown",
   "metadata": {
    "id": "LyJnnFYRaxWM"
   },
   "source": [
    "---\n",
    "\n",
    "## 🧐 Lab Quiz Question #1\n",
    "\n",
    "Precisely how many unique words are in the dataset after removing links and stopwords, and punctuation and lemmatizing the remaining tokens? Use the length of `word_counts` to determine your answer.\n",
    "\n",
    "Be sure to answer this and the remaining lab quiz questions in Lab Quiz 2.\n",
    "\n",
    "Answer = 86527\n",
    "\n",
    "---"
   ]
  },
  {
   "cell_type": "markdown",
   "metadata": {},
   "source": [
    "### NOTE: Only for Question 1, not running the rest as obtained earlier"
   ]
  },
  {
   "cell_type": "code",
   "execution_count": 32,
   "metadata": {},
   "outputs": [
    {
     "ename": "SyntaxError",
     "evalue": "invalid syntax (3398321072.py, line 1)",
     "output_type": "error",
     "traceback": [
      "\u001b[1;36m  Cell \u001b[1;32mIn[32], line 1\u001b[1;36m\u001b[0m\n\u001b[1;33m    ----------------------------------\u001b[0m\n\u001b[1;37m                                      ^\u001b[0m\n\u001b[1;31mSyntaxError\u001b[0m\u001b[1;31m:\u001b[0m invalid syntax\n"
     ]
    }
   ],
   "source": [
    "----------------------------------"
   ]
  },
  {
   "cell_type": "markdown",
   "metadata": {
    "id": "_800vRAzkdz0"
   },
   "source": [
    "## Reducing the graph to the most common words"
   ]
  },
  {
   "cell_type": "markdown",
   "metadata": {
    "id": "eZFfT9jmkqyc"
   },
   "source": [
    "To keep the size of your semantic network managable, reduce the word set to just the top 1000 most popular words.\n",
    "\n",
    "To do this, you will sort the word counts by reverse value (i.e. by count from highest to lowest) and take a slice of 1000."
   ]
  },
  {
   "cell_type": "code",
   "execution_count": null,
   "metadata": {
    "id": "NXBjLQVsok7-"
   },
   "outputs": [],
   "source": [
    "sorted_counts = sorted(word_counts.items(), key=lambda item: item[1], reverse=True)\n",
    "sorted_words = [word for word, count in sorted_counts]"
   ]
  },
  {
   "cell_type": "markdown",
   "metadata": {
    "id": "JMh06WnHpI1I"
   },
   "source": [
    "Let's take a look at just a few of the top words:"
   ]
  },
  {
   "cell_type": "code",
   "execution_count": null,
   "metadata": {
    "id": "n0Jg27jIlSxU"
   },
   "outputs": [],
   "source": [
    "sorted_words[:10]"
   ]
  },
  {
   "cell_type": "markdown",
   "metadata": {
    "id": "2L4ZajBYpnoR"
   },
   "source": [
    "Some things to note:\n",
    "\n",
    " * There appears to be some punctuation here that made it through. We will leave it as both a thought exercise to consider why these tokens are here, and how you might clean them up.\n",
    "\n",
    " * rt is right up there near the top, which is not surprising given that these are Tweets. This is an example of something you might clean up, for example, with a specialize stopword list. This cleanup is included below as a coding exercise.\n",
    "\n",
    " * While Nike and Adidas made it to the top 10, Lululemon is not here. Why might that be? (The code snippet below sheds some light) And how would you deal with this if you wanted to include Lululemon in your analysis? (Hint: think about the segmentation work you did in the Topic Modeling course."
   ]
  },
  {
   "cell_type": "code",
   "execution_count": null,
   "metadata": {
    "id": "Bre18RwAoVIZ"
   },
   "outputs": [],
   "source": [
    "print(\"Nike:\", word_counts[\"nike\"])\n",
    "print(\"Adidas:\", word_counts[\"adidas\"])\n",
    "print(\"Lululemon:\", word_counts[\"lululemon\"])"
   ]
  },
  {
   "cell_type": "markdown",
   "metadata": {
    "id": "AfNnCGH-rOIm"
   },
   "source": [
    "---\n",
    "\n",
    "## 🧐 Lab Quiz Question #2\n",
    "\n",
    "What is the most common word in the cleaned dataset? Use the sliced inspection of sorted_words above to answer the question.\n",
    "\n",
    "Answer = Nike\n",
    "\n",
    "---"
   ]
  },
  {
   "cell_type": "markdown",
   "metadata": {
    "id": "arTEkZ4fsclp"
   },
   "source": [
    "## 🛠 Exercise"
   ]
  },
  {
   "cell_type": "markdown",
   "metadata": {
    "id": "FD1zG0kysjkz"
   },
   "source": [
    "As mentioned above, there are a lot of \"rt\" (retweet) instances in the word set. As an exercise in developing a specialized stopword list, complete the code below to remove \"rt\" during pre-processing.\n",
    "\n",
    "The code snippet is identical to what we already did above, but this time you need to pass in a custom stop list. The custom stop list needs to include all the words that are already being stopped, plus \"rt\" as a stopword."
   ]
  },
  {
   "cell_type": "markdown",
   "metadata": {
    "id": "etlGgZnHtFP3"
   },
   "source": [
    "> ⚠️ Important: Due to the way `remove_stopwords` has been implemented, it is not sufficent to simply pass in [\"rt\"] as your stoplist. You'll want to be sure to include all the standard stopwords too!"
   ]
  },
  {
   "cell_type": "code",
   "execution_count": null,
   "metadata": {},
   "outputs": [],
   "source": [
    "# Ensure you have the stopwords downloaded\n",
    "nltk.download('stopwords')"
   ]
  },
  {
   "cell_type": "code",
   "execution_count": null,
   "metadata": {
    "id": "nrBX_11gsbgO"
   },
   "outputs": [],
   "source": [
    "from nltk.corpus import stopwords\n",
    "\n",
    "# Create the custom stopwords list\n",
    "standard_stopwords = set(stopwords.words('english'))\n",
    "custom_stopwords = standard_stopwords.union({\"rt\"})\n",
    "\n",
    "word_counts = {}\n",
    "\n",
    "\n",
    "\n",
    "with gzip.open(DATA_FILE) as data_file:\n",
    "    for i, line in enumerate(data_file):\n",
    "        if i % 10000 == 0:\n",
    "            print(f\"Processed {i} tweets\")\n",
    "        tweet = json.loads(line)\n",
    "        text = tweet[\"full_text\"]\n",
    "        tokens = tokenize(text, tweet=True)\n",
    "        tokens = remove_links(tokens)\n",
    "        tokens = remove_stopwords(tokens, stopwords=custom_stopwords)\n",
    "        tokens = remove_punctuation(tokens, strip_mentions=True, strip_hashtags=True)\n",
    "        tokens = lemmatize(tokens)\n",
    "        for word in tokens:\n",
    "            if word not in word_counts:\n",
    "                word_counts[word] = 0\n",
    "            word_counts[word] += 1"
   ]
  },
  {
   "cell_type": "code",
   "execution_count": null,
   "metadata": {
    "id": "C8Ie8EE9uIR8"
   },
   "outputs": [],
   "source": [
    "sorted_counts = sorted(word_counts.items(), key=lambda item: item[1], reverse=True)\n",
    "sorted_words = [word for word, count in sorted_counts]"
   ]
  },
  {
   "cell_type": "code",
   "execution_count": null,
   "metadata": {
    "id": "mMNcQ3Taukkv"
   },
   "outputs": [],
   "source": [
    "sorted_words[:10]"
   ]
  },
  {
   "cell_type": "code",
   "execution_count": null,
   "metadata": {},
   "outputs": [],
   "source": [
    "sorted_counts[:10]"
   ]
  },
  {
   "cell_type": "markdown",
   "metadata": {
    "id": "CsGrKzW9vRYI"
   },
   "source": [
    "---\n",
    "\n",
    "## 🧐 Lab Quiz Question #3\n",
    "\n",
    "After adding \"rt\" to the stopword list, now what is the most common word in the cleaned dataset? Use the sliced inspection of sorted_words above to answer the question.\n",
    "\n",
    "💡 Hint: This is not meant to be a trick question so much as to just be sure you are following along with understanding. If you think about it, you could probably have answered this question before even implementing the code changes.\n",
    "\n",
    "---"
   ]
  },
  {
   "cell_type": "markdown",
   "metadata": {
    "id": "fXE_X_l4wM-7"
   },
   "source": [
    "## Build and plot the graph"
   ]
  },
  {
   "cell_type": "markdown",
   "metadata": {
    "id": "BIGiHGSqwPQc"
   },
   "source": [
    "You have now done all the heavy lifting required to build the semantic network.\n",
    "\n",
    "The code below builds an undirected semantic network of co-occurring words that belong to our network of top n terms. These graphs can get kind of heavy, so start with a small graph of n=20 to keep things manageable."
   ]
  },
  {
   "cell_type": "markdown",
   "metadata": {
    "id": "m0o3dNnnx_s4"
   },
   "source": [
    "To do this, we need to:\n",
    "\n",
    " * Process each tweet in the same way we did previously\n",
    " * Determine which tokens in the Tweet belong to the top N\n",
    " * Add all of the 2-combinations (ie. co-occurrences) of included terms as an edge in the graph.\n",
    "\n",
    "We use the handy [itertools module](https://docs.python.org/3/library/itertools.html) to help us get this last thing done."
   ]
  },
  {
   "cell_type": "code",
   "execution_count": null,
   "metadata": {
    "id": "PZGTuFSsw0NF"
   },
   "outputs": [],
   "source": [
    "N = 20\n",
    "top_terms = sorted_words[:N]\n",
    "graph = nx.Graph()\n",
    "\n",
    "with gzip.open(DATA_FILE) as data_file:\n",
    "    for i, line in enumerate(data_file):\n",
    "        if i % 10000 == 0:\n",
    "            print(f\"Processed {i} tweets\")\n",
    "        tweet = json.loads(line)\n",
    "        text = tweet[\"full_text\"]\n",
    "        tokens = tokenize(text, tweet=True)\n",
    "        tokens = remove_links(tokens)\n",
    "        tokens = remove_stopwords(tokens, stopwords=custom_stopwords)\n",
    "        tokens = remove_punctuation(tokens, strip_mentions=True, strip_hashtags=True)\n",
    "        tokens = lemmatize(tokens)\n",
    "\n",
    "        # reduce the tweet to terms in the 1000 word network and add the\n",
    "        # term relationships to the graph\n",
    "        nodes = [t for t in tokens if t in top_terms]\n",
    "        cooccurrences = itertools.combinations(nodes, 2)\n",
    "        if i == 0:\n",
    "            print(\"Just a glimpse so you can see what the cooccurrences for a tweet look like:\")\n",
    "            cooccurrences = list(cooccurrences)\n",
    "            print(cooccurrences)\n",
    "        graph.add_edges_from(cooccurrences)"
   ]
  },
  {
   "cell_type": "code",
   "execution_count": null,
   "metadata": {
    "id": "HCORIS0yb_S5"
   },
   "outputs": [],
   "source": [
    "nx.info(graph)"
   ]
  },
  {
   "cell_type": "code",
   "execution_count": null,
   "metadata": {
    "id": "TpwhcmSL7Bsz"
   },
   "outputs": [],
   "source": [
    "fig, ax = plt.subplots(1, 1, figsize=(300, 300))\n",
    "nx.draw_networkx(graph, ax=ax, font_color=\"#FFFFFF\", font_size=20, node_size=30000, width=4, arrowsize=100)"
   ]
  },
  {
   "cell_type": "markdown",
   "metadata": {
    "id": "uPGwaf6cHnTe"
   },
   "source": [
    "## Create a local env"
   ]
  },
  {
   "cell_type": "markdown",
   "metadata": {},
   "source": [
    "### Open Anaconda Prompt or terminal\n",
    "\n",
    "conda create --name myenv python=3.8\n",
    "\n",
    "conda activate myenv\n",
    "\n",
    "pip install nltk==3.4.5\n",
    "\n",
    "python -c \"import nltk; print(nltk.__version__)\"\n"
   ]
  },
  {
   "cell_type": "code",
   "execution_count": null,
   "metadata": {},
   "outputs": [],
   "source": []
  }
 ],
 "metadata": {
  "colab": {
   "provenance": []
  },
  "kernelspec": {
   "display_name": "Python 3 (ipykernel)",
   "language": "python",
   "name": "python3"
  },
  "language_info": {
   "codemirror_mode": {
    "name": "ipython",
    "version": 3
   },
   "file_extension": ".py",
   "mimetype": "text/x-python",
   "name": "python",
   "nbconvert_exporter": "python",
   "pygments_lexer": "ipython3",
   "version": "3.8.19"
  }
 },
 "nbformat": 4,
 "nbformat_minor": 4
}
